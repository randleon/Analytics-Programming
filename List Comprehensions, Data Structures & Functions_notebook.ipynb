{
 "cells": [
  {
   "cell_type": "markdown",
   "metadata": {},
   "source": [
    "Again, copying and pasting from last week's code to work with the data."
   ]
  },
  {
   "cell_type": "code",
   "execution_count": 277,
   "metadata": {},
   "outputs": [],
   "source": [
    "import csv\n",
    "# be sure to update the path below to reflect your own environment!!\n",
    "# also be sure that the code is properly indented after you paste it!\n",
    "\n",
    "\n",
    "## made empty lists for rows\n",
    "price_list = []\n",
    "main_cost_list = []\n",
    "num_doors_list = []\n",
    "num_passenger_list = []\n",
    "lugg_cap_list = []\n",
    "safety_rating_list = []\n",
    "class_of_vehicle = []\n",
    "with open('/Users/RandyLeon/Desktop/cars-sample35.txt') as csvfile:\n",
    "    readCSV = csv.reader(csvfile)\n",
    "    for row in readCSV:\n",
    "    # print each row as read by the csv.reader function\n",
    "        price_list.append(row[0])\n",
    "        main_cost_list.append(row[1])\n",
    "        num_doors_list.append(row[2])\n",
    "        num_passenger_list.append(row[3])\n",
    "        lugg_cap_list.append(row[4])\n",
    "        safety_rating_list.append(row[5])\n",
    "        class_of_vehicle.append(row[6])"
   ]
  },
  {
   "cell_type": "markdown",
   "metadata": {},
   "source": [
    "## TASK ONE"
   ]
  },
  {
   "cell_type": "markdown",
   "metadata": {},
   "source": [
    "Your first task is to find the list index values of each automobile having a price rating of \"med\".\n",
    "However, you are required to do this using a list comprehension instead of a basic for or while loop.\n",
    "The list comprehension should create a new list containing your result. \n",
    "Be sure to print your results to the screen."
   ]
  },
  {
   "cell_type": "markdown",
   "metadata": {},
   "source": [
    "I wanted to show how I got the index values for all of the prices that said \"med\"\n",
    "Here it is again initially with no list comprehension"
   ]
  },
  {
   "cell_type": "code",
   "execution_count": 9,
   "metadata": {},
   "outputs": [
    {
     "name": "stdout",
     "output_type": "stream",
     "text": [
      "[6, 16, 20, 23, 26, 29]\n"
     ]
    }
   ],
   "source": [
    "price_list_med = [] ''' making an empty list'''\n",
    "for i in range(len(price_list)): '''for a variable in the range (which is the length of price list which is 35 items long)'''\n",
    "\tif price_list[i] == 'med': '''if the variable is equal to the string \"med\"'''\n",
    "\t\tprice_list_med.append(i)'''then append it to newly made price list above'''\n",
    "print(price_list_med)'''print out the newly made list for a sanity check'''"
   ]
  },
  {
   "cell_type": "code",
   "execution_count": 10,
   "metadata": {},
   "outputs": [
    {
     "name": "stdout",
     "output_type": "stream",
     "text": [
      "[6, 16, 20, 23, 26, 29]\n"
     ]
    }
   ],
   "source": [
    "print(price_list_med) '''printing this list again to have it cleanly displayed'''"
   ]
  },
  {
   "cell_type": "markdown",
   "metadata": {},
   "source": [
    "I found out how I can use the enumerate function in Python to go through the list. \n",
    "https://stackoverflow.com/questions/14864922/is-python-list-comprehension-with-access-to-the-index-enumerate-possible\n",
    "\n",
    "So my first task is do a list comprehension to execute the same result as my latest list to this cell"
   ]
  },
  {
   "cell_type": "code",
   "execution_count": 107,
   "metadata": {},
   "outputs": [
    {
     "name": "stdout",
     "output_type": "stream",
     "text": [
      "[6, 16, 20, 23, 26, 29]\n"
     ]
    }
   ],
   "source": [
    "price_list_mediums = [i for i, x in enumerate(price_list) if x==\"med\"]\n",
    "'''What this means to do is: \n",
    "make a list variable for variable,\n",
    "and for that list\n",
    "enumerate the list of price_list, \n",
    "which means go through the length of the list,\n",
    "and if the list has a variable that is equal to x,\n",
    "again, add that variable to this list,\n",
    "because we're going i for i'''\n",
    "\n",
    "'''sanity check'''\n",
    "\n",
    "print(price_list_mediums) \n"
   ]
  },
  {
   "cell_type": "markdown",
   "metadata": {},
   "source": [
    "it worked"
   ]
  },
  {
   "cell_type": "markdown",
   "metadata": {},
   "source": [
    "## TASK 2"
   ]
  },
  {
   "cell_type": "markdown",
   "metadata": {},
   "source": [
    "My next task\n",
    "\n",
    "Your second task is to find the \"number of passengers\" value\n",
    "for each auto having a \"price\" value of \"med\"\n",
    "using a list comprehension instead of a basic for or while loop.\n",
    "The list comprehension should create a new list containing your findings.\n",
    "Be sure to print your results to the screen."
   ]
  },
  {
   "cell_type": "code",
   "execution_count": null,
   "metadata": {},
   "outputs": [],
   "source": []
  },
  {
   "cell_type": "code",
   "execution_count": 108,
   "metadata": {},
   "outputs": [
    {
     "name": "stdout",
     "output_type": "stream",
     "text": [
      "6 16 20 23 26\n",
      "6\n"
     ]
    }
   ],
   "source": [
    "def f():\n",
    "    a = 6\n",
    "    b = 16\n",
    "    c = 20\n",
    "    d = 23\n",
    "    e = 26\n",
    "    return(a, b, c, d, e)\n",
    "'''Making a function to associate the indices that contain price value of \"med\"'''\n",
    "\n",
    "a, b, c, d, e = f()\n",
    "\n",
    "'''sanity check for not only the entire function but to see if I can do it to a single variable'''\n",
    "\n",
    "print(a, b, c, d, e)\n",
    "print(a)"
   ]
  },
  {
   "cell_type": "code",
   "execution_count": 103,
   "metadata": {},
   "outputs": [
    {
     "name": "stdout",
     "output_type": "stream",
     "text": [
      "['more, 2, 2, 2, 4']\n"
     ]
    }
   ],
   "source": [
    "num_list_med = [num_passenger_list[a] + \",\" + \" \" +\n",
    "                num_passenger_list[b] + \",\" + \" \" + \n",
    "                num_passenger_list[c] + \",\" + \" \" + \n",
    "                num_passenger_list[d] + \",\" + \" \" + \n",
    "                num_passenger_list[e]]\n",
    "'''each code snippet of \"num_passenger \" means reference the nth,\n",
    "with nth being the variable in the index brackets\n",
    "made from the above function, I was able to concatentate multiple objects with  from\n",
    "non-consecutive indice positions from one list\n",
    "and put all of those'''\n",
    "\n",
    "print(num_list_med)\n"
   ]
  },
  {
   "cell_type": "markdown",
   "metadata": {},
   "source": [
    "## Third Task"
   ]
  },
  {
   "cell_type": "markdown",
   "metadata": {},
   "source": [
    "3) Your third task is to find the index value for each automobile having a price value of \"high\" \n",
    "and a maintenance value that is not \"low\" \n",
    "using a list comprehension. \n",
    "The list comprehension should create a new list containing your findings. \n",
    "Be sure to print your results to the screen."
   ]
  },
  {
   "cell_type": "markdown",
   "metadata": {},
   "source": [
    "copying and pasting my answer from last week homework to help talk myself through this"
   ]
  },
  {
   "cell_type": "code",
   "execution_count": 119,
   "metadata": {},
   "outputs": [
    {
     "name": "stdout",
     "output_type": "stream",
     "text": [
      "[0, 1, 2, 3, 12, 14, 17, 27, 30, 31, 34]\n"
     ]
    }
   ],
   "source": [
    "####find the index value for each automobile having a price value of \"high\"\n",
    "\n",
    "price_list_high = [] '''making an empty list'''\n",
    "\n",
    "for i in range(len(price_list)): '''for a variable in the range (which is the length of price list which is 35 items long)'''\n",
    "\n",
    "\tif price_list[i] == 'high': '''if the variable is equal to the string \"high\"'''\n",
    "\t\tprice_list_high.append(i)'''then append it to newly made price list above'''\n",
    "print(price_list_high)'''print out the newly made list'''"
   ]
  },
  {
   "cell_type": "markdown",
   "metadata": {},
   "source": [
    "The same can be done in a list comprehension"
   ]
  },
  {
   "cell_type": "code",
   "execution_count": 124,
   "metadata": {},
   "outputs": [
    {
     "name": "stdout",
     "output_type": "stream",
     "text": [
      "[0, 1, 2, 3, 12, 14, 17, 27, 30, 31, 34]\n"
     ]
    }
   ],
   "source": [
    "price_list_high = [i for i, x in enumerate(price_list) if x==\"high\"] \n",
    "print(price_list_high)"
   ]
  },
  {
   "cell_type": "markdown",
   "metadata": {},
   "source": [
    "Again, the previous method, looking at my old code"
   ]
  },
  {
   "cell_type": "code",
   "execution_count": 149,
   "metadata": {},
   "outputs": [
    {
     "name": "stdout",
     "output_type": "stream",
     "text": [
      "[0, 1, 2, 3, 4, 6, 8, 9, 11, 12, 14, 15, 16, 17, 20, 22, 23, 25, 26, 27, 29, 30, 31, 33, 34]\n"
     ]
    }
   ],
   "source": [
    "price_main_nlow = [] \n",
    "for i in range(len(main_cost_list)):\n",
    "    if price_list[i] != 'low':\n",
    "        price_main_nlow.append(i)\n",
    "print(price_main_nlow)"
   ]
  },
  {
   "cell_type": "markdown",
   "metadata": {},
   "source": [
    "...now in a comprehension"
   ]
  },
  {
   "cell_type": "code",
   "execution_count": 150,
   "metadata": {},
   "outputs": [],
   "source": [
    "price_list_nlow = [i for i, x in enumerate(price_list) if x !=\"low\"] "
   ]
  },
  {
   "cell_type": "code",
   "execution_count": 151,
   "metadata": {},
   "outputs": [
    {
     "name": "stdout",
     "output_type": "stream",
     "text": [
      "[0, 1, 2, 3, 4, 6, 8, 9, 11, 12, 14, 15, 16, 17, 20, 22, 23, 25, 26, 27, 29, 30, 31, 33, 34]\n"
     ]
    }
   ],
   "source": [
    "print(price_list_nlow)"
   ]
  },
  {
   "cell_type": "markdown",
   "metadata": {},
   "source": [
    "Can I combine both comprehensions into one?"
   ]
  },
  {
   "cell_type": "code",
   "execution_count": 152,
   "metadata": {},
   "outputs": [
    {
     "name": "stdout",
     "output_type": "stream",
     "text": [
      "[{0, 1, 2, 3, 34, 12, 14, 17, 27, 30, 31}]\n"
     ]
    }
   ],
   "source": [
    "price_list_high_also_nlow = [set(price_list_high) & set(price_list_nlow)] \n",
    "print(price_list_high_also_nlow)"
   ]
  },
  {
   "cell_type": "markdown",
   "metadata": {},
   "source": [
    "I hope that counts professor..."
   ]
  },
  {
   "cell_type": "markdown",
   "metadata": {},
   "source": [
    "I found out how to do that using similar code found on this Stack Overflow weblink\n",
    "https://stackoverflow.com/questions/1388818/how-can-i-compare-two-lists-in-python-and-return-matches"
   ]
  },
  {
   "cell_type": "markdown",
   "metadata": {},
   "source": [
    "## TASK FOUR"
   ]
  },
  {
   "cell_type": "markdown",
   "metadata": {},
   "source": [
    "Nested List Comprehensions"
   ]
  },
  {
   "cell_type": "markdown",
   "metadata": {},
   "source": [
    "Consider the following list of lists:"
   ]
  },
  {
   "cell_type": "code",
   "execution_count": 55,
   "metadata": {},
   "outputs": [],
   "source": [
    "nlist = [ [1, 2, 3], ['A', 'B', 'C'], [4, 5], ['D', 'E'] ]"
   ]
  },
  {
   "cell_type": "code",
   "execution_count": 57,
   "metadata": {},
   "outputs": [],
   "source": [
    "##sanity check to see if list works"
   ]
  },
  {
   "cell_type": "code",
   "execution_count": 56,
   "metadata": {},
   "outputs": [
    {
     "name": "stdout",
     "output_type": "stream",
     "text": [
      "[[1, 2, 3], ['A', 'B', 'C'], [4, 5], ['D', 'E']]\n"
     ]
    }
   ],
   "source": [
    "print(nlist)"
   ]
  },
  {
   "cell_type": "markdown",
   "metadata": {},
   "source": [
    "If we wanted to extract each individual element of the component lists contained within nlist\n",
    "and add them to a new list, we could use a nested for loop similar to this:"
   ]
  },
  {
   "cell_type": "code",
   "execution_count": 61,
   "metadata": {},
   "outputs": [
    {
     "name": "stdout",
     "output_type": "stream",
     "text": [
      "[1, 2, 3, 'A', 'B', 'C', 4, 5, 'D', 'E']\n"
     ]
    }
   ],
   "source": [
    "flist = []\n",
    "for x in nlist: \n",
    "    for y in x:\n",
    "        flist.append(y) \n",
    "print(flist)"
   ]
  },
  {
   "cell_type": "markdown",
   "metadata": {},
   "source": [
    "For your fourth task, implement this same logic using a list comprehension. \n",
    "Apply your list comprehension to the nlist list of lists shown above. \n",
    "Be sure to print your newly created list to the screen."
   ]
  },
  {
   "cell_type": "code",
   "execution_count": 158,
   "metadata": {},
   "outputs": [],
   "source": [
    "glist = [y for x in nlist for y in x]"
   ]
  },
  {
   "cell_type": "code",
   "execution_count": 161,
   "metadata": {},
   "outputs": [
    {
     "name": "stdout",
     "output_type": "stream",
     "text": [
      "[1, 2, 3, 'A', 'B', 'C', 4, 5, 'D', 'E']\n"
     ]
    }
   ],
   "source": [
    "'''don't ask me how I managed to figure this out,\n",
    "I just kept playing with the variables until it happened'''\n",
    "\n",
    "print(glist)"
   ]
  },
  {
   "cell_type": "markdown",
   "metadata": {},
   "source": [
    "## TASK FIVE"
   ]
  },
  {
   "cell_type": "markdown",
   "metadata": {},
   "source": [
    "Write a Function That Converts a List to a Dict Object\n",
    "Your fifth task is to create a user defined function that\n",
    " - accepts as input one of the seven automobile attribute lists\n",
    " - as well as an integer value and returns a Python dict object. \n",
    " - Remember: a Python dict object is comprised of ‘key/value’ pairs.\n",
    " - The integer value accepted as a parameter by your function will represent the exact number of items\n",
    " - you are to use from the list for purposes of creating the new dict object. \n",
    " - So for example, if your function was defined as:\n",
    "    \n",
    "    \n",
    "#def makedict(mylist, x):\n",
    "    #newdict = {}\n",
    "#your code goes here \n",
    "#return(newdict)\n"
   ]
  },
  {
   "cell_type": "markdown",
   "metadata": {},
   "source": [
    "you would take the first x items from mylist to create the new dict object. The key values you assign to the elements of the dict object should all be comprised of a combination of the letter ‘A’ and the alphanumeric representation of the index value corresponding to the location of the item in the mylist object. So if you had 3 dict elements in total, the key values for those elements would be (‘A0’, ‘A1’, ‘A2’). If we apply this concept to the first 5 elements of our “Luggage” list we’d have a dict object that looks like this:"
   ]
  },
  {
   "cell_type": "markdown",
   "metadata": {},
   "source": [
    "First five elements of luggage list: ['med', 'small', 'big', 'big', 'med']\n",
    "    \n",
    "New dict Object: {‘A0’ : ‘med’, ‘A1’: ‘small’, ‘A2’: ‘big’, ‘A3’:‘big’, ‘A4’:’med’}\n",
    "\n",
    "Be sure to check that the integer value passed into your function does not exceed the length of the list parameter!\n"
   ]
  },
  {
   "cell_type": "code",
   "execution_count": 170,
   "metadata": {},
   "outputs": [
    {
     "name": "stdout",
     "output_type": "stream",
     "text": [
      "['high', 'high', 'high', 'high', 'vhigh', 'low', 'med', 'low', 'vhigh', 'vhigh', 'low', 'vhigh', 'high', 'low', 'high', 'vhigh', 'med', 'high', 'low', 'low', 'med', 'low', 'vhigh', 'med', 'low', 'vhigh', 'med', 'high', 'low', 'med', 'high', 'high', 'low', 'vhigh', 'high']\n"
     ]
    }
   ],
   "source": [
    "print(price_list) '''sanity check'''"
   ]
  },
  {
   "cell_type": "code",
   "execution_count": 216,
   "metadata": {},
   "outputs": [
    {
     "name": "stdout",
     "output_type": "stream",
     "text": [
      "['A', 'A', 'A', 'A', 'A', 'A', 'A', 'A', 'A', 'A', 'A', 'A', 'A', 'A', 'A', 'A', 'A', 'A', 'A', 'A', 'A', 'A', 'A', 'A', 'A', 'A', 'A', 'A', 'A', 'A', 'A', 'A', 'A', 'A', 'A']\n"
     ]
    }
   ],
   "source": [
    "list_of_As = [] \n",
    "for i in range(len(price_list)): \n",
    "\t\tlist_of_As.append(\"A\")\n",
    "print(list_of_As) '''trying to make a list of As'"
   ]
  },
  {
   "cell_type": "code",
   "execution_count": 217,
   "metadata": {},
   "outputs": [],
   "source": [
    "def makedict(price_list, x):\n",
    "    newdict = {}\n",
    "\n",
    "    return(newdict) '''trying to make a dict function'''"
   ]
  },
  {
   "cell_type": "code",
   "execution_count": 236,
   "metadata": {},
   "outputs": [],
   "source": [
    "newdict = {\"A\":n*1 for n in range(34)} '''this doesnt work'''"
   ]
  },
  {
   "cell_type": "code",
   "execution_count": 237,
   "metadata": {},
   "outputs": [
    {
     "name": "stdout",
     "output_type": "stream",
     "text": [
      "{'A': 33}\n"
     ]
    }
   ],
   "source": [
    "print(newdict) '''prove that is doesn't work'''"
   ]
  },
  {
   "cell_type": "code",
   "execution_count": 240,
   "metadata": {},
   "outputs": [
    {
     "data": {
      "text/plain": [
       "{'A': 1}"
      ]
     },
     "execution_count": 240,
     "metadata": {},
     "output_type": "execute_result"
    }
   ],
   "source": [
    "{x:len(x) for x in list_of_As} '''trying again'''"
   ]
  },
  {
   "cell_type": "code",
   "execution_count": 252,
   "metadata": {},
   "outputs": [
    {
     "name": "stdout",
     "output_type": "stream",
     "text": [
      "A 0\n",
      "A 1\n",
      "A 2\n",
      "A 3\n",
      "A 4\n",
      "A 5\n",
      "A 6\n",
      "A 7\n",
      "A 8\n",
      "A 9\n",
      "A 10\n",
      "A 11\n",
      "A 12\n",
      "A 13\n",
      "A 14\n",
      "A 15\n",
      "A 16\n",
      "A 17\n",
      "A 18\n",
      "A 19\n",
      "A 20\n",
      "A 21\n",
      "A 22\n",
      "A 23\n",
      "A 24\n",
      "A 25\n",
      "A 26\n",
      "A 27\n",
      "A 28\n",
      "A 29\n",
      "A 30\n",
      "A 31\n",
      "A 32\n",
      "A 33\n",
      "A 34\n"
     ]
    }
   ],
   "source": [
    "for i, val in enumerate(list_of_As):\n",
    "    print (val, i) '''closest I could get to making an alphanumeric list'''"
   ]
  },
  {
   "cell_type": "code",
   "execution_count": 268,
   "metadata": {},
   "outputs": [
    {
     "ename": "SyntaxError",
     "evalue": "invalid syntax (<ipython-input-268-cef28ac9a675>, line 3)",
     "output_type": "error",
     "traceback": [
      "\u001b[0;36m  File \u001b[0;32m\"<ipython-input-268-cef28ac9a675>\"\u001b[0;36m, line \u001b[0;32m3\u001b[0m\n\u001b[0;31m    price_list, x = , A\u001b[0m\n\u001b[0m                    ^\u001b[0m\n\u001b[0;31mSyntaxError\u001b[0m\u001b[0;31m:\u001b[0m invalid syntax\n"
     ]
    }
   ],
   "source": [
    "def makedict(price_list,x):\n",
    "    newdict = {}\n",
    "    price_list, x = , A\n",
    "    while len(price_list) < 35:\n",
    "        return newdict\n",
    "    \n",
    "    \n",
    "for i, val in enumerate(list_of_As):\n",
    "    print (val, i) '''my attempt at making a function that makes a dictionary'''"
   ]
  },
  {
   "cell_type": "code",
   "execution_count": 256,
   "metadata": {},
   "outputs": [
    {
     "name": "stdout",
     "output_type": "stream",
     "text": [
      "{'A': 33}\n"
     ]
    }
   ],
   "source": [
    "print(newdict) '''didnt work'''"
   ]
  },
  {
   "cell_type": "code",
   "execution_count": 261,
   "metadata": {},
   "outputs": [
    {
     "name": "stdout",
     "output_type": "stream",
     "text": [
      "[0, 1, 2, 3, 4, 5, 6, 7, 8, 9, 10, 11, 12, 13, 14, 15, 16, 17, 18, 19, 20, 21, 22, 23, 24, 25, 26, 27, 28, 29, 30, 31, 32, 33, 34]\n"
     ]
    }
   ],
   "source": [
    "my_list = [0,1,2,3,4,5,6,7,8,9,10,11,12,13,14,15,16,17,18,19,20,21,22,23,24,25,26,27,28,29,30,31,32,33,34]\n",
    "print(my_list) '''making an index list manually?'''"
   ]
  },
  {
   "cell_type": "code",
   "execution_count": 267,
   "metadata": {},
   "outputs": [
    {
     "ename": "TypeError",
     "evalue": "can only concatenate list (not \"int\") to list",
     "output_type": "error",
     "traceback": [
      "\u001b[0;31m---------------------------------------------------------------------------\u001b[0m",
      "\u001b[0;31mTypeError\u001b[0m                                 Traceback (most recent call last)",
      "\u001b[0;32m<ipython-input-267-cea686337b37>\u001b[0m in \u001b[0;36m<module>\u001b[0;34m\u001b[0m\n\u001b[1;32m      1\u001b[0m \u001b[0mstring\u001b[0m \u001b[0;34m=\u001b[0m \u001b[0;34m'A'\u001b[0m\u001b[0;34m\u001b[0m\u001b[0;34m\u001b[0m\u001b[0m\n\u001b[0;32m----> 2\u001b[0;31m \u001b[0mmy_new_list\u001b[0m \u001b[0;34m=\u001b[0m \u001b[0;34m[\u001b[0m\u001b[0mstring\u001b[0m \u001b[0;32mfor\u001b[0m \u001b[0mx\u001b[0m \u001b[0;32min\u001b[0m \u001b[0mmy_list\u001b[0m \u001b[0;34m+\u001b[0m \u001b[0mx\u001b[0m\u001b[0;34m]\u001b[0m\u001b[0;34m\u001b[0m\u001b[0;34m\u001b[0m\u001b[0m\n\u001b[0m\u001b[1;32m      3\u001b[0m \u001b[0mprint\u001b[0m\u001b[0;34m(\u001b[0m\u001b[0mmy_new_list\u001b[0m\u001b[0;34m)\u001b[0m\u001b[0;34m\u001b[0m\u001b[0;34m\u001b[0m\u001b[0m\n",
      "\u001b[0;31mTypeError\u001b[0m: can only concatenate list (not \"int\") to list"
     ]
    }
   ],
   "source": [
    "string = 'A'\n",
    "my_new_list = [string for x in my_list + x]\n",
    "print(my_new_list) '''I give up'''"
   ]
  },
  {
   "cell_type": "code",
   "execution_count": null,
   "metadata": {},
   "outputs": [],
   "source": []
  }
 ],
 "metadata": {
  "kernelspec": {
   "display_name": "Python 3",
   "language": "python",
   "name": "python3"
  },
  "language_info": {
   "codemirror_mode": {
    "name": "ipython",
    "version": 3
   },
   "file_extension": ".py",
   "mimetype": "text/x-python",
   "name": "python",
   "nbconvert_exporter": "python",
   "pygments_lexer": "ipython3",
   "version": "3.7.3"
  }
 },
 "nbformat": 4,
 "nbformat_minor": 2
}
