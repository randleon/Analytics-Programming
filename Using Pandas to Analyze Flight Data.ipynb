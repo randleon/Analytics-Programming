{
 "cells": [
  {
   "cell_type": "markdown",
   "metadata": {},
   "source": [
    "# Project 1 By Eli Weiss and Randy Leon"
   ]
  },
  {
   "cell_type": "markdown",
   "metadata": {},
   "source": [
    "Import the data and Clean out the NAs from the Data"
   ]
  },
  {
   "cell_type": "code",
   "execution_count": 193,
   "metadata": {},
   "outputs": [],
   "source": [
    "import pandas as pd\n",
    "import numpy as np\n",
    "\n",
    "filename = \"https://raw.githubusercontent.com/jtopor/DAV-5400/master/Project1/hflights.csv\"\n",
    "Flights = pd.read_csv(filename)\n",
    "\n",
    "#This Column is full of NAs and will not be helpful in this study\n",
    "# So we are removing it\n",
    "Flights = Flights.drop(columns=['CancellationCode'])\n",
    "#Remove all NAs\n",
    "Flights = pd.DataFrame.dropna(Flights)"
   ]
  },
  {
   "cell_type": "markdown",
   "metadata": {},
   "source": [
    "## Question 1: What day of the Week is the best to fly?"
   ]
  },
  {
   "cell_type": "markdown",
   "metadata": {},
   "source": [
    "Here we are creating 2 calculated fields. \n",
    "\n",
    "The First is the total delay calculated by adding the Departure Delay to the Arrival Delay time.\n",
    "The Second shows the sum of Total Delay time by the Day of the Week."
   ]
  },
  {
   "cell_type": "code",
   "execution_count": 194,
   "metadata": {},
   "outputs": [
    {
     "name": "stdout",
     "output_type": "stream",
     "text": [
      "[64965.0, 36208.0, 12489.0, 41333.0, 32585.0, 24371.0, 54050.0]\n"
     ]
    }
   ],
   "source": [
    "#Add a Column Called Total Delay to the Data Frame\n",
    "Flights['TotalDelay'] = np.repeat(0, len(Flights.Month))\n",
    "Flights.TotalDelay = Flights.DepDelay+Flights.ArrDelay\n",
    "\n",
    "\n",
    "#Calulate the Total Delay by the Day of the Week (DOW)\n",
    "Delay_DOW = [sum(Flights.TotalDelay[Flights.DayOfWeek == i]) for i in [1,2,3,4,5,6,7] ]\n",
    "print(Delay_DOW)"
   ]
  },
  {
   "cell_type": "code",
   "execution_count": 195,
   "metadata": {},
   "outputs": [
    {
     "data": {
      "text/plain": [
       "count        7.000000\n",
       "mean     38000.142857\n",
       "std      17630.073099\n",
       "min      12489.000000\n",
       "25%      28478.000000\n",
       "50%      36208.000000\n",
       "75%      47691.500000\n",
       "max      64965.000000\n",
       "dtype: float64"
      ]
     },
     "execution_count": 195,
     "metadata": {},
     "output_type": "execute_result"
    }
   ],
   "source": [
    "#convert the list into a pandas object so that it can be used\n",
    "DOWD = pd.Series(Delay_DOW)\n",
    "\n",
    "#Get summary Statistics about the distrobution of Delay By Day of the Week\n",
    "DOWD.describe()"
   ]
  },
  {
   "cell_type": "markdown",
   "metadata": {},
   "source": [
    "Now that we have the total Delay by Day of the Week we are going to plot it so we can visualize the difference."
   ]
  },
  {
   "cell_type": "code",
   "execution_count": 196,
   "metadata": {},
   "outputs": [
    {
     "data": {
      "text/plain": [
       "<BarContainer object of 7 artists>"
      ]
     },
     "execution_count": 196,
     "metadata": {},
     "output_type": "execute_result"
    },
    {
     "data": {
      "image/png": "[encoded data removed]",
      "text/plain": [
       "<Figure size 432x288 with 1 Axes>"
      ]
     },
     "metadata": {
      "needs_background": "light"
     },
     "output_type": "display_data"
    }
   ],
   "source": [
    "import matplotlib.pyplot as plt\n",
    "\n",
    "#X Axis Lables \n",
    "x_pos = ['Sun','Mon','Tues','Wed','Thurs','Fri','Sat'] \n",
    "#Make a Bar Plot\n",
    "plt.bar(x_pos, DOWD)"
   ]
  },
  {
   "cell_type": "markdown",
   "metadata": {},
   "source": [
    "We see that the day with the least delays overall is Tuesday. At 12,000 min of delay time this is far beneath the median of 38,000."
   ]
  },
  {
   "cell_type": "markdown",
   "metadata": {},
   "source": [
    "## Question 2: Which Airline is the best to take?"
   ]
  },
  {
   "cell_type": "markdown",
   "metadata": {},
   "source": [
    "In this question we are exploring which airlines have the most delays. "
   ]
  },
  {
   "cell_type": "markdown",
   "metadata": {},
   "source": [
    "Here we are taking the sum of of the Total Delay for each carrier and printing the results."
   ]
  },
  {
   "cell_type": "code",
   "execution_count": 197,
   "metadata": {},
   "outputs": [
    {
     "name": "stdout",
     "output_type": "stream",
     "text": [
      "AA      3317.0\n",
      "AS       819.0\n",
      "B6      2737.0\n",
      "CO    103037.0\n",
      "DL      2938.0\n",
      "OO      8600.0\n",
      "UA       172.0\n",
      "US      -756.0\n",
      "WN     84316.0\n",
      "EV      3359.0\n",
      "F9      1242.0\n",
      "FL       740.0\n",
      "MQ      5540.0\n",
      "XE     49940.0\n",
      "dtype: float64\n"
     ]
    }
   ],
   "source": [
    "#using a comprehension we are summing the value of the Total Delay per Airline\n",
    "Delay_Carrier_Sum = [sum(Flights.TotalDelay[Flights.UniqueCarrier == i]) for i in ['AA','AS','B6','CO','DL','OO','UA','US','WN','EV','F9','FL','MQ','XE']]\n",
    "\n",
    "#Define the index so that we can map the names of the Airlines to the values later\n",
    "index  = ['AA','AS','B6','CO','DL','OO','UA','US','WN','EV','F9','FL','MQ','XE']\n",
    "\n",
    "#Print the values\n",
    "Delay_Carrier = pd.Series(Delay_Carrier_Sum, index)\n",
    "print(Delay_Carrier)"
   ]
  },
  {
   "cell_type": "code",
   "execution_count": 198,
   "metadata": {},
   "outputs": [
    {
     "data": {
      "text/plain": [
       "count        14.000000\n",
       "mean      19000.071429\n",
       "std       34319.986163\n",
       "min        -756.000000\n",
       "25%         924.750000\n",
       "50%        3127.500000\n",
       "75%        7835.000000\n",
       "max      103037.000000\n",
       "dtype: float64"
      ]
     },
     "execution_count": 198,
     "metadata": {},
     "output_type": "execute_result"
    }
   ],
   "source": [
    "#Summary of descriptive statistics\n",
    "Delay_Carrier.describe()"
   ]
  },
  {
   "cell_type": "markdown",
   "metadata": {},
   "source": [
    "Plot the Total Delay by Each Airline"
   ]
  },
  {
   "cell_type": "code",
   "execution_count": 199,
   "metadata": {},
   "outputs": [
    {
     "data": {
      "text/plain": [
       "([<matplotlib.axis.XTick at 0x1a23b8f978>,\n",
       "  <matplotlib.axis.XTick at 0x1a2415f898>,\n",
       "  <matplotlib.axis.XTick at 0x120937668>,\n",
       "  <matplotlib.axis.XTick at 0x1a23cfde10>,\n",
       "  <matplotlib.axis.XTick at 0x1a241398d0>,\n",
       "  <matplotlib.axis.XTick at 0x1a23f2ee10>,\n",
       "  <matplotlib.axis.XTick at 0x1a240cf668>,\n",
       "  <matplotlib.axis.XTick at 0x1a23e52cc0>,\n",
       "  <matplotlib.axis.XTick at 0x1a23e52f60>,\n",
       "  <matplotlib.axis.XTick at 0x1a23e25f60>,\n",
       "  <matplotlib.axis.XTick at 0x1a23e25438>,\n",
       "  <matplotlib.axis.XTick at 0x1a23e25dd8>,\n",
       "  <matplotlib.axis.XTick at 0x1a23e25710>,\n",
       "  <matplotlib.axis.XTick at 0x1a240cf4a8>],\n",
       " <a list of 14 Text xticklabel objects>)"
      ]
     },
     "execution_count": 199,
     "metadata": {},
     "output_type": "execute_result"
    },
    {
     "data": {
      "image/png": "[encoded data removed]",
      "text/plain": [
       "<Figure size 432x288 with 1 Axes>"
      ]
     },
     "metadata": {
      "needs_background": "light"
     },
     "output_type": "display_data"
    }
   ],
   "source": [
    "y_pos = np.arange(len(index))\n",
    "\n",
    "#Make a Bar Plot\n",
    "plt.bar(y_pos, Delay_Carrier_Sum)\n",
    "\n",
    "#Put the names of the Airlines on the X Axis\n",
    "plt.xticks(y_pos, index)"
   ]
  },
  {
   "cell_type": "markdown",
   "metadata": {},
   "source": [
    "As we can see there is significant variation by the Airline, Travelers should avoid CO,WN, and XE."
   ]
  },
  {
   "cell_type": "code",
   "execution_count": null,
   "metadata": {},
   "outputs": [],
   "source": []
  },
  {
   "cell_type": "code",
   "execution_count": 133,
   "metadata": {},
   "outputs": [],
   "source": [
    "##importing all of my data analysis tools!\n",
    "import pandas as pd\n",
    "import numpy as np\n",
    "import matplotlib.pyplot as plt\n",
    "import seaborn as sns\n",
    "\n",
    "from pandas import Series, DataFrame"
   ]
  },
  {
   "cell_type": "code",
   "execution_count": 164,
   "metadata": {},
   "outputs": [],
   "source": [
    "##given code block at the beginning of the assignment\n",
    "filename = \"https://raw.githubusercontent.com/jtopor/DAV-5400/master/Project1/hflights.csv\"\n",
    "\n",
    "Flight_Project = pd.read_csv(filename)"
   ]
  },
  {
   "cell_type": "code",
   "execution_count": 43,
   "metadata": {},
   "outputs": [
    {
     "name": "stdout",
     "output_type": "stream",
     "text": [
      "       Year  Month  DayofMonth  DayOfWeek  DepTime  ArrTime UniqueCarrier  \\\n",
      "0      2011      1           1          6   1400.0   1500.0            AA   \n",
      "1      2011      1           2          7   1401.0   1501.0            AA   \n",
      "2      2011      1           3          1   1352.0   1502.0            AA   \n",
      "3      2011      1           4          2   1403.0   1513.0            AA   \n",
      "4      2011      1           5          3   1405.0   1507.0            AA   \n",
      "5      2011      1           6          4   1359.0   1503.0            AA   \n",
      "6      2011      1           7          5   1359.0   1509.0            AA   \n",
      "7      2011      1           8          6   1355.0   1454.0            AA   \n",
      "8      2011      1           9          7   1443.0   1554.0            AA   \n",
      "9      2011      1          10          1   1443.0   1553.0            AA   \n",
      "10     2011      1          11          2   1429.0   1539.0            AA   \n",
      "11     2011      1          12          3   1419.0   1515.0            AA   \n",
      "12     2011      1          13          4   1358.0   1501.0            AA   \n",
      "13     2011      1          14          5   1357.0   1504.0            AA   \n",
      "14     2011      1          15          6   1359.0   1459.0            AA   \n",
      "15     2011      1          16          7   1359.0   1509.0            AA   \n",
      "16     2011      1          17          1   1530.0   1634.0            AA   \n",
      "17     2011      1          18          2   1408.0   1508.0            AA   \n",
      "18     2011      1          19          3   1356.0   1503.0            AA   \n",
      "19     2011      1          20          4   1507.0   1622.0            AA   \n",
      "20     2011      1          21          5   1357.0   1459.0            AA   \n",
      "21     2011      1          22          6   1355.0   1456.0            AA   \n",
      "22     2011      1          23          7   1356.0   1501.0            AA   \n",
      "23     2011      1          24          1   1356.0   1513.0            AA   \n",
      "24     2011      1          25          2   1352.0   1452.0            AA   \n",
      "25     2011      1          26          3   1353.0   1455.0            AA   \n",
      "26     2011      1          27          4   1356.0   1458.0            AA   \n",
      "27     2011      1          28          5   1359.0   1505.0            AA   \n",
      "28     2011      1          29          6   1355.0   1455.0            AA   \n",
      "29     2011      1          30          7   1359.0   1456.0            AA   \n",
      "...     ...    ...         ...        ...      ...      ...           ...   \n",
      "19970  2011      2          25          5    916.0   1004.0            CO   \n",
      "19971  2011      2          25          5   1850.0   2148.0            CO   \n",
      "19972  2011      2          25          5   1437.0   1614.0            CO   \n",
      "19973  2011      2          25          5    728.0   1037.0            CO   \n",
      "19974  2011      2          25          5   1900.0   1945.0            CO   \n",
      "19975  2011      2          25          5   1201.0   1356.0            CO   \n",
      "19976  2011      2          25          5   1328.0   1515.0            CO   \n",
      "19977  2011      2          25          5   1612.0   1717.0            CO   \n",
      "19978  2011      2          25          5    847.0    946.0            CO   \n",
      "19979  2011      2          25          5   1214.0   1353.0            CO   \n",
      "19980  2011      2          25          5   2000.0     14.0            CO   \n",
      "19981  2011      2          25          5   2051.0   2300.0            CO   \n",
      "19982  2011      2          25          5   1100.0   1326.0            CO   \n",
      "19983  2011      2          25          5   1602.0   1914.0            CO   \n",
      "19984  2011      2          25          5   2035.0   2329.0            CO   \n",
      "19985  2011      2          25          5    732.0    842.0            CO   \n",
      "19986  2011      2          25          5   1754.0   2154.0            CO   \n",
      "19987  2011      2          25          5    914.0   1025.0            CO   \n",
      "19988  2011      2          25          5   1616.0   2001.0            CO   \n",
      "19989  2011      2          25          5   1734.0   1910.0            CO   \n",
      "19990  2011      2          25          5   1029.0   1341.0            CO   \n",
      "19991  2011      2          25          5   1451.0   1645.0            CO   \n",
      "19992  2011      2          25          5   1903.0   2034.0            CO   \n",
      "19993  2011      2          25          5    908.0   1137.0            CO   \n",
      "19994  2011      2          25          5   2111.0   2236.0            CO   \n",
      "19995  2011      2          25          5   1126.0   1333.0            CO   \n",
      "19996  2011      2          25          5    941.0   1111.0            CO   \n",
      "19997  2011      2          25          5    722.0    948.0            CO   \n",
      "19998  2011      2          25          5   1909.0   2216.0            CO   \n",
      "19999  2011      2          25          5   1255.0   1553.0            CO   \n",
      "\n",
      "       FlightNum TailNum  ActualElapsedTime  ...  ArrDelay  DepDelay  Origin  \\\n",
      "0            428  N576AA               60.0  ...     -10.0       0.0     IAH   \n",
      "1            428  N557AA               60.0  ...      -9.0       1.0     IAH   \n",
      "2            428  N541AA               70.0  ...      -8.0      -8.0     IAH   \n",
      "3            428  N403AA               70.0  ...       3.0       3.0     IAH   \n",
      "4            428  N492AA               62.0  ...      -3.0       5.0     IAH   \n",
      "5            428  N262AA               64.0  ...      -7.0      -1.0     IAH   \n",
      "6            428  N493AA               70.0  ...      -1.0      -1.0     IAH   \n",
      "7            428  N477AA               59.0  ...     -16.0      -5.0     IAH   \n",
      "8            428  N476AA               71.0  ...      44.0      43.0     IAH   \n",
      "9            428  N504AA               70.0  ...      43.0      43.0     IAH   \n",
      "10           428  N565AA               70.0  ...      29.0      29.0     IAH   \n",
      "11           428  N577AA               56.0  ...       5.0      19.0     IAH   \n",
      "12           428  N476AA               63.0  ...      -9.0      -2.0     IAH   \n",
      "13           428  N552AA               67.0  ...      -6.0      -3.0     IAH   \n",
      "14           428  N462AA               60.0  ...     -11.0      -1.0     IAH   \n",
      "15           428  N555AA               70.0  ...      -1.0      -1.0     IAH   \n",
      "16           428  N518AA               64.0  ...      84.0      90.0     IAH   \n",
      "17           428  N507AA               60.0  ...      -2.0       8.0     IAH   \n",
      "18           428  N523AA               67.0  ...      -7.0      -4.0     IAH   \n",
      "19           428  N425AA               75.0  ...      72.0      67.0     IAH   \n",
      "20           428  N251AA               62.0  ...     -11.0      -3.0     IAH   \n",
      "21           428  N551AA               61.0  ...     -14.0      -5.0     IAH   \n",
      "22           428  N479AA               65.0  ...      -9.0      -4.0     IAH   \n",
      "23           428  N531AA               77.0  ...       3.0      -4.0     IAH   \n",
      "24           428  N561AA               60.0  ...     -18.0      -8.0     IAH   \n",
      "25           428  N541AA               62.0  ...     -15.0      -7.0     IAH   \n",
      "26           428  N512AA               62.0  ...     -12.0      -4.0     IAH   \n",
      "27           428  N4UBAA               66.0  ...      -5.0      -1.0     IAH   \n",
      "28           428  N491AA               60.0  ...     -15.0      -5.0     IAH   \n",
      "29           428  N561AA               57.0  ...     -14.0      -1.0     IAH   \n",
      "...          ...     ...                ...  ...       ...       ...     ...   \n",
      "19970       1583  N14645               48.0  ...     -16.0      -4.0     IAH   \n",
      "19971       1586  N57863              118.0  ...     -13.0       0.0     IAH   \n",
      "19972       1589  N17233              217.0  ...      10.0       2.0     IAH   \n",
      "19973       1590  N17233              129.0  ...     -13.0       3.0     IAH   \n",
      "19974       1603  N17719               45.0  ...      55.0      65.0     IAH   \n",
      "19975       1605  N73406              235.0  ...      21.0      11.0     IAH   \n",
      "19976       1620  N75433              167.0  ...      95.0     108.0     IAH   \n",
      "19977       1621  N37255               65.0  ...      90.0     102.0     IAH   \n",
      "19978       1623  N13750               59.0  ...      -9.0       2.0     IAH   \n",
      "19979       1629  N23707              219.0  ...     -12.0      -4.0     IAH   \n",
      "19980       1632  N21723              194.0  ...     129.0     145.0     IAH   \n",
      "19981       1644  N79279              249.0  ...      -6.0       1.0     IAH   \n",
      "19982       1646  N57864              146.0  ...      31.0      40.0     IAH   \n",
      "19983       1648  N77867              132.0  ...     -13.0       2.0     IAH   \n",
      "19984       1662  N75433              114.0  ...      27.0      45.0     IAH   \n",
      "19985       1675  N12221               70.0  ...      -8.0      -3.0     IAH   \n",
      "19986       1676  N33294              180.0  ...      94.0     109.0     IAH   \n",
      "19987       1679  N14639               71.0  ...       3.0      -6.0     IAH   \n",
      "19988       1688  N54241              165.0  ...       7.0      16.0     IAH   \n",
      "19989       1689  N24211              216.0  ...      -7.0      -1.0     IAH   \n",
      "19990       1690  N33294              132.0  ...     -23.0      -1.0     IAH   \n",
      "19991       1695  N14231              234.0  ...     105.0      96.0     IAH   \n",
      "19992       1711  N16648               91.0  ...       1.0      -7.0     IAH   \n",
      "19993       1714  N32404              269.0  ...      10.0      -2.0     IAH   \n",
      "19994       1717  N37290              205.0  ...      -9.0       1.0     IAH   \n",
      "19995       1719  N19621              187.0  ...       8.0      -4.0     IAH   \n",
      "19996       1723  N37298              210.0  ...       0.0      11.0     IAH   \n",
      "19997       1746  N37408              146.0  ...     -17.0      -3.0     IAH   \n",
      "19998       1748  N27239              127.0  ...     -10.0      12.0     IAH   \n",
      "19999       1757  N14604              118.0  ...      -3.0       5.0     IAH   \n",
      "\n",
      "      Dest Distance  TaxiIn  TaxiOut  Cancelled  CancellationCode Diverted  \n",
      "0      DFW      224     7.0     13.0          0               NaN        0  \n",
      "1      DFW      224     6.0      9.0          0               NaN        0  \n",
      "2      DFW      224     5.0     17.0          0               NaN        0  \n",
      "3      DFW      224     9.0     22.0          0               NaN        0  \n",
      "4      DFW      224     9.0      9.0          0               NaN        0  \n",
      "5      DFW      224     6.0     13.0          0               NaN        0  \n",
      "6      DFW      224    12.0     15.0          0               NaN        0  \n",
      "7      DFW      224     7.0     12.0          0               NaN        0  \n",
      "8      DFW      224     8.0     22.0          0               NaN        0  \n",
      "9      DFW      224     6.0     19.0          0               NaN        0  \n",
      "10     DFW      224     8.0     20.0          0               NaN        0  \n",
      "11     DFW      224     4.0     11.0          0               NaN        0  \n",
      "12     DFW      224     6.0     13.0          0               NaN        0  \n",
      "13     DFW      224     5.0     15.0          0               NaN        0  \n",
      "14     DFW      224     6.0     10.0          0               NaN        0  \n",
      "15     DFW      224    12.0     17.0          0               NaN        0  \n",
      "16     DFW      224     8.0      8.0          0               NaN        0  \n",
      "17     DFW      224     7.0     11.0          0               NaN        0  \n",
      "18     DFW      224    10.0     11.0          0               NaN        0  \n",
      "19     DFW      224     9.0     24.0          0               NaN        0  \n",
      "20     DFW      224     6.0      9.0          0               NaN        0  \n",
      "21     DFW      224     9.0      8.0          0               NaN        0  \n",
      "22     DFW      224     7.0     18.0          0               NaN        0  \n",
      "23     DFW      224     6.0     28.0          0               NaN        0  \n",
      "24     DFW      224     7.0     13.0          0               NaN        0  \n",
      "25     DFW      224     8.0     14.0          0               NaN        0  \n",
      "26     DFW      224    12.0     10.0          0               NaN        0  \n",
      "27     DFW      224     8.0     12.0          0               NaN        0  \n",
      "28     DFW      224     7.0      7.0          0               NaN        0  \n",
      "29     DFW      224     7.0     11.0          0               NaN        0  \n",
      "...    ...      ...     ...      ...        ...               ...      ...  \n",
      "19970  AUS      140     6.0     14.0          0               NaN        0  \n",
      "19971  MCO      853     6.0     12.0          0               NaN        0  \n",
      "19972  SAN     1303     3.0     21.0          0               NaN        0  \n",
      "19973  MIA      964     9.0     10.0          0               NaN        0  \n",
      "19974  AUS      140     4.0     13.0          0               NaN        0  \n",
      "19975  LAX     1379    11.0     23.0          0               NaN        0  \n",
      "19976  PHX     1009     3.0     21.0          0               NaN        0  \n",
      "19977  MFE      316     4.0     11.0          0               NaN        0  \n",
      "19978  MSY      305     5.0     13.0          0               NaN        0  \n",
      "19979  SNA     1347     7.0     17.0          0               NaN        0  \n",
      "19980  LGA     1416     5.0     31.0          0               NaN        0  \n",
      "19981  SMF     1609     5.0     14.0          0               NaN        0  \n",
      "19982  ORD      925    22.0     13.0          0               NaN        0  \n",
      "19983  FLL      965     3.0     18.0          0               NaN        0  \n",
      "19984  RSW      861     5.0     14.0          0               NaN        0  \n",
      "19985  DFW      224    10.0     19.0          0               NaN        0  \n",
      "19986  PHL     1324     6.0     17.0          0               NaN        0  \n",
      "19987  SAT      191     5.0     25.0          0               NaN        0  \n",
      "19988  DTW     1076    12.0     21.0          0               NaN        0  \n",
      "19989  SAN     1303     5.0     15.0          0               NaN        0  \n",
      "19990  MIA      964    10.0     15.0          0               NaN        0  \n",
      "19991  LAX     1379     8.0     25.0          0               NaN        0  \n",
      "19992  OKC      395     5.0     25.0          0               NaN        0  \n",
      "19993  SMF     1609     7.0     15.0          0               NaN        0  \n",
      "19994  SAN     1303     3.0     12.0          0               NaN        0  \n",
      "19995  MTJ      926     5.0     30.0          0               NaN        0  \n",
      "19996  ONT     1334     5.0     12.0          0               NaN        0  \n",
      "19997  ORD      925    17.0     14.0          0               NaN        0  \n",
      "19998  FLL      965     6.0     15.0          0               NaN        0  \n",
      "19999  ATL      689    13.0     22.0          0               NaN        0  \n",
      "\n",
      "[20000 rows x 21 columns]\n"
     ]
    }
   ],
   "source": [
    "##taking a sneak peek at the data \n",
    "print(Flight_Project)"
   ]
  },
  {
   "cell_type": "markdown",
   "metadata": {},
   "source": [
    "# I'm going to try an answer the question: \n",
    "\n",
    "Which airport in Houston yield more efficient results? \n",
    "\n",
    "Travelers want to get to their destination as quickly and efficiently as possible, so with measurable data, one can formulate reasonable hypotheses on which airport will have the less likely chance of wasting time.\n",
    "\n",
    "First, I think it will make sense to define what 'more efficient' means. Generally, a 'better' experience in an airport (with respect to the data we have available) would be a faster, more hassle-free one with as least time wasted as possible. \n",
    "Webster's Dictionary online (https://www.merriam-webster.com/dictionary/efficient) defines the word \"efficient\" as \"capable of producing desired results with little or no waste (as of time or materials)\"\n",
    "\n",
    "For this analysis, I first want to assume that there will be no discrimination between the following variables:\n",
    "\n",
    "A)destinations, \n",
    "B)date/time of departures,\n",
    "C)flight/tail numbers, or \n",
    "D)the distance of the flight.\n",
    "E)price of the flight - since no data is available.\n",
    "F)preference to the time of day the flights take place - I am assuming every traveler does not care when their plane leaves.\n",
    "\n",
    "What I will take into consideration for each airport will be:\n",
    "\n",
    "a)# of aggreggated flights and carriers. - more flights/carriers means a better chance of any given passenger making any given flight\n",
    "\n",
    "b)ratio of delayed flights to total flights flown, for all flights aggregated - this will give us a percentage of the number of delayed flights to the total number in the airport so as to measure the efficiency of each airport.\n",
    "\n",
    "c)average taxi-in and taxi-out times - I will again, measure this aggregated and split this up by carrier to point out trends by carrier. The taxi-ing of a plane is a coordinated approach between the airline and the carrier, so separating them helps note any key trends across either party.\n"
   ]
  },
  {
   "cell_type": "markdown",
   "metadata": {},
   "source": [
    "-------------------------------------------------------------------------------------------------------------"
   ]
  },
  {
   "cell_type": "markdown",
   "metadata": {},
   "source": [
    "First thing's first is to count the number of flights for the entire data set for each respective airport."
   ]
  },
  {
   "cell_type": "code",
   "execution_count": 20,
   "metadata": {},
   "outputs": [
    {
     "data": {
      "text/plain": [
       "count     20000\n",
       "unique        2\n",
       "top         IAH\n",
       "freq      15681\n",
       "Name: Origin, dtype: object"
      ]
     },
     "execution_count": 20,
     "metadata": {},
     "output_type": "execute_result"
    }
   ],
   "source": [
    "### with this single line of code, I can see the frequency of flights from IAH. The difference between the frequency\n",
    "##shown below and 20,000 would be the number of flights for the other airport, HOU.\n",
    "Flight_Project['Origin'].describe()"
   ]
  },
  {
   "cell_type": "code",
   "execution_count": 29,
   "metadata": {},
   "outputs": [
    {
     "name": "stdout",
     "output_type": "stream",
     "text": [
      "4319\n",
      "3.6307015512850196\n",
      "0.21595\n",
      "0.78405\n"
     ]
    }
   ],
   "source": [
    "print(20000-15681) ##number of flights that belong to HOU airport\n",
    "print(15681/4319)  ##IAH flies over 3 times as many flights as HOU\n",
    "print(4319/20000)  ##HOU is responsible for roughly 22% of all of the flights in the data\n",
    "print(15681/20000) ##IAH is responsible for roughly 78% of all of the flights in the data."
   ]
  },
  {
   "cell_type": "markdown",
   "metadata": {},
   "source": [
    "Already, IAH carries out more than 3 times as many flights as HOU. If I was a traveler, I'd probably opt for choosing IAH over HOU. "
   ]
  },
  {
   "cell_type": "code",
   "execution_count": 31,
   "metadata": {},
   "outputs": [
    {
     "data": {
      "text/plain": [
       "array(['AA', 'AS', 'B6', 'CO', 'DL', 'OO', 'UA', 'US', 'WN', 'EV', 'F9',\n",
       "       'FL', 'MQ', 'XE'], dtype=object)"
      ]
     },
     "execution_count": 31,
     "metadata": {},
     "output_type": "execute_result"
    }
   ],
   "source": [
    "##wanting to find out all of the unique carriers for both airports\n",
    "Flight_Project.UniqueCarrier.unique()"
   ]
  },
  {
   "cell_type": "code",
   "execution_count": 45,
   "metadata": {},
   "outputs": [
    {
     "name": "stdout",
     "output_type": "stream",
     "text": [
      "Origin\n",
      "HOU     7\n",
      "IAH    10\n",
      "Name: UniqueCarrier, dtype: int64\n"
     ]
    }
   ],
   "source": [
    "##show counts of unique airlines available at each airport, 7 in HOU, 10 in IAH\n",
    "print (Flight_Project.groupby('Origin')['UniqueCarrier'].nunique())"
   ]
  },
  {
   "cell_type": "markdown",
   "metadata": {},
   "source": [
    "Here, I can see that IAH offers 10 different airlines, while HOU only offers 7."
   ]
  },
  {
   "cell_type": "code",
   "execution_count": 67,
   "metadata": {},
   "outputs": [
    {
     "name": "stdout",
     "output_type": "stream",
     "text": [
      "       Year  Month  DayofMonth  DayOfWeek  DepTime  ArrTime UniqueCarrier  \\\n",
      "304    2011      1           1          6    654.0   1124.0            B6   \n",
      "305    2011      1           1          6   1639.0   2110.0            B6   \n",
      "306    2011      1           2          7    703.0   1113.0            B6   \n",
      "307    2011      1           2          7   1604.0   2040.0            B6   \n",
      "308    2011      1           3          1    659.0   1100.0            B6   \n",
      "309    2011      1           3          1   1801.0   2200.0            B6   \n",
      "310    2011      1           4          2    654.0   1103.0            B6   \n",
      "311    2011      1           4          2   1608.0   2034.0            B6   \n",
      "312    2011      1           5          3    700.0   1103.0            B6   \n",
      "313    2011      1           5          3   1544.0   1954.0            B6   \n",
      "314    2011      1           6          4   1532.0   1943.0            B6   \n",
      "315    2011      1           7          5    654.0   1117.0            B6   \n",
      "316    2011      1           7          5   1542.0   1956.0            B6   \n",
      "317    2011      1           8          6    654.0   1058.0            B6   \n",
      "318    2011      1           9          7    653.0   1059.0            B6   \n",
      "319    2011      1           9          7   1618.0   2057.0            B6   \n",
      "320    2011      1          10          1    656.0   1102.0            B6   \n",
      "321    2011      1          10          1   1554.0   2001.0            B6   \n",
      "322    2011      1          11          2    653.0   1053.0            B6   \n",
      "323    2011      1          11          2      NaN      NaN            B6   \n",
      "324    2011      1          12          3   1532.0   1953.0            B6   \n",
      "325    2011      1          13          4   1522.0   1938.0            B6   \n",
      "326    2011      1          14          5    808.0   1229.0            B6   \n",
      "327    2011      1          14          5   1534.0   2015.0            B6   \n",
      "328    2011      1          15          6    700.0   1114.0            B6   \n",
      "329    2011      1          16          7    652.0   1055.0            B6   \n",
      "330    2011      1          16          7   1551.0   2004.0            B6   \n",
      "331    2011      1          17          1    730.0   1135.0            B6   \n",
      "332    2011      1          17          1   1531.0   1946.0            B6   \n",
      "333    2011      1          18          2    659.0   1102.0            B6   \n",
      "...     ...    ...         ...        ...      ...      ...           ...   \n",
      "19203  2011      2          13          7   1529.0   2012.0            B6   \n",
      "19204  2011      2          14          1    655.0   1113.0            B6   \n",
      "19205  2011      2          14          1   1532.0   1950.0            B6   \n",
      "19206  2011      2          15          2    658.0   1118.0            B6   \n",
      "19207  2011      2          15          2   1541.0   2007.0            B6   \n",
      "19208  2011      2          16          3   1527.0   2003.0            B6   \n",
      "19209  2011      2          17          4    708.0   2058.0            B6   \n",
      "19210  2011      2          17          4   1742.0   2200.0            B6   \n",
      "19211  2011      2          18          5    658.0   1109.0            B6   \n",
      "19212  2011      2          18          5   1534.0   2024.0            B6   \n",
      "19213  2011      2          19          6    703.0   1114.0            B6   \n",
      "19214  2011      2          19          6   1653.0   2207.0            B6   \n",
      "19215  2011      2          20          7   1107.0   1517.0            B6   \n",
      "19216  2011      2          20          7   1530.0   2000.0            B6   \n",
      "19217  2011      2          21          1    657.0   1106.0            B6   \n",
      "19218  2011      2          21          1   1545.0   1956.0            B6   \n",
      "19219  2011      2          22          2    659.0   1108.0            B6   \n",
      "19220  2011      2          22          2   1535.0   1949.0            B6   \n",
      "19221  2011      2          23          3    700.0   1106.0            B6   \n",
      "19222  2011      2          23          3   1546.0   2002.0            B6   \n",
      "19223  2011      2          24          4    653.0   1102.0            B6   \n",
      "19224  2011      2          24          4   1545.0   2013.0            B6   \n",
      "19225  2011      2          25          5    653.0   1130.0            B6   \n",
      "19226  2011      2          25          5   1824.0   2314.0            B6   \n",
      "19227  2011      2          26          6    652.0   1054.0            B6   \n",
      "19228  2011      2          26          6   1538.0   1951.0            B6   \n",
      "19229  2011      2          27          7    658.0   1107.0            B6   \n",
      "19230  2011      2          27          7   1606.0   2020.0            B6   \n",
      "19231  2011      2          28          1    655.0   1115.0            B6   \n",
      "19232  2011      2          28          1   1710.0   2145.0            B6   \n",
      "\n",
      "       FlightNum TailNum  ActualElapsedTime  ...  ArrDelay  DepDelay  Origin  \\\n",
      "304          620  N324JB              210.0  ...       5.0      -6.0     HOU   \n",
      "305          622  N324JB              211.0  ...      61.0      54.0     HOU   \n",
      "306          620  N324JB              190.0  ...      -6.0       3.0     HOU   \n",
      "307          622  N324JB              216.0  ...      31.0      19.0     HOU   \n",
      "308          620  N229JB              181.0  ...     -19.0      -1.0     HOU   \n",
      "309          622  N206JB              179.0  ...     111.0     136.0     HOU   \n",
      "310          620  N267JB              189.0  ...     -16.0      -6.0     HOU   \n",
      "311          622  N267JB              206.0  ...      25.0      23.0     HOU   \n",
      "312          620  N708JB              183.0  ...     -14.0       0.0     HOU   \n",
      "313          624  N644JB              190.0  ...      -6.0       9.0     HOU   \n",
      "314          624  N641JB              191.0  ...     -17.0      -3.0     HOU   \n",
      "315          620  N641JB              203.0  ...       0.0      -6.0     HOU   \n",
      "316          624  N564JB              194.0  ...      -4.0       7.0     HOU   \n",
      "317          620  N630JB              184.0  ...     -19.0      -6.0     HOU   \n",
      "318          620  N599JB              186.0  ...     -18.0      -7.0     HOU   \n",
      "319          624  N625JB              219.0  ...      57.0      43.0     HOU   \n",
      "320          620  N625JB              186.0  ...     -15.0      -4.0     HOU   \n",
      "321          624  N504JB              187.0  ...       1.0      19.0     HOU   \n",
      "322          620  N504JB              180.0  ...     -24.0      -7.0     HOU   \n",
      "323          624  N537JB                NaN  ...       NaN       NaN     HOU   \n",
      "324          624  N504JB              201.0  ...      -7.0      -3.0     HOU   \n",
      "325          624  N597JB              196.0  ...     -22.0     -13.0     HOU   \n",
      "326          620  N597JB              201.0  ...      72.0      68.0     HOU   \n",
      "327          624  N729JB              221.0  ...      15.0      -1.0     HOU   \n",
      "328          620  N503JB              194.0  ...      -3.0       0.0     HOU   \n",
      "329          620  N706JB              183.0  ...     -22.0      -8.0     HOU   \n",
      "330          624  N565JB              193.0  ...       4.0      16.0     HOU   \n",
      "331          620  N523JB              185.0  ...      18.0      30.0     HOU   \n",
      "332          624  N779JB              195.0  ...     -14.0      -4.0     HOU   \n",
      "333          620  N779JB              183.0  ...     -15.0      -1.0     HOU   \n",
      "...          ...     ...                ...  ...       ...       ...     ...   \n",
      "19203        624  N630JB              223.0  ...      12.0      -6.0     HOU   \n",
      "19204        620  N526JB              198.0  ...      -4.0      -5.0     HOU   \n",
      "19205        624  N648JB              198.0  ...     -10.0      -3.0     HOU   \n",
      "19206        620  N648JB              200.0  ...       1.0      -2.0     HOU   \n",
      "19207        624  N615JB              206.0  ...       7.0       6.0     HOU   \n",
      "19208        624  N661JB              216.0  ...       3.0      -8.0     HOU   \n",
      "19209        620  N247JB                NaN  ...       NaN       8.0     HOU   \n",
      "19210        624  N289JB              198.0  ...     120.0     127.0     HOU   \n",
      "19211        620  N228JB              191.0  ...      -8.0      -2.0     HOU   \n",
      "19212        624  N228JB              230.0  ...      24.0      -1.0     HOU   \n",
      "19213        620  N228JB              191.0  ...      -3.0       3.0     HOU   \n",
      "19214        624  N228JB              254.0  ...     127.0      78.0     HOU   \n",
      "19215        620  N766JB              190.0  ...     240.0     247.0     HOU   \n",
      "19216        624  N190JB              210.0  ...       0.0      -5.0     HOU   \n",
      "19217        620  N316JB              189.0  ...     -11.0      -3.0     HOU   \n",
      "19218        624  N179JB              191.0  ...      -4.0      10.0     HOU   \n",
      "19219        620  N197JB              189.0  ...      -9.0      -1.0     HOU   \n",
      "19220        624  N197JB              194.0  ...     -11.0       0.0     HOU   \n",
      "19221        620  N318JB              186.0  ...     -11.0       0.0     HOU   \n",
      "19222        624  N318JB              196.0  ...       2.0      11.0     HOU   \n",
      "19223        620  N179JB              189.0  ...     -15.0      -7.0     HOU   \n",
      "19224        624  N179JB              208.0  ...      13.0      10.0     HOU   \n",
      "19225        620  N292JB              217.0  ...      13.0      -7.0     HOU   \n",
      "19226        624  N273JB              230.0  ...     194.0     169.0     HOU   \n",
      "19227        620  N292JB              182.0  ...     -23.0      -8.0     HOU   \n",
      "19228        624  N292JB              193.0  ...      -9.0       3.0     HOU   \n",
      "19229        620  N198JB              189.0  ...     -10.0      -2.0     HOU   \n",
      "19230        624  N198JB              194.0  ...      20.0      31.0     HOU   \n",
      "19231        620  N206JB              200.0  ...      -2.0      -5.0     HOU   \n",
      "19232        624  N206JB              215.0  ...     105.0      95.0     HOU   \n",
      "\n",
      "      Dest Distance  TaxiIn  TaxiOut  Cancelled  CancellationCode Diverted  \n",
      "304    JFK     1428     6.0     23.0          0               NaN        0  \n",
      "305    JFK     1428    12.0     11.0          0               NaN        0  \n",
      "306    JFK     1428     6.0     12.0          0               NaN        0  \n",
      "307    JFK     1428     9.0     31.0          0               NaN        0  \n",
      "308    JFK     1428     3.0     12.0          0               NaN        0  \n",
      "309    JFK     1428     5.0      9.0          0               NaN        0  \n",
      "310    JFK     1428     9.0     12.0          0               NaN        0  \n",
      "311    JFK     1428     8.0     23.0          0               NaN        0  \n",
      "312    JFK     1428     4.0     12.0          0               NaN        0  \n",
      "313    JFK     1428    14.0     10.0          0               NaN        0  \n",
      "314    JFK     1428     7.0      9.0          0               NaN        0  \n",
      "315    JFK     1428     6.0     25.0          0               NaN        0  \n",
      "316    JFK     1428     9.0     10.0          0               NaN        0  \n",
      "317    JFK     1428     9.0     13.0          0               NaN        0  \n",
      "318    JFK     1428     3.0     20.0          0               NaN        0  \n",
      "319    JFK     1428    11.0     12.0          0               NaN        0  \n",
      "320    JFK     1428     4.0     16.0          0               NaN        0  \n",
      "321    JFK     1428     7.0     10.0          0               NaN        0  \n",
      "322    JFK     1428     5.0     14.0          0               NaN        0  \n",
      "323    JFK     1428     NaN      NaN          1                 B        0  \n",
      "324    JFK     1428     8.0     16.0          0               NaN        0  \n",
      "325    JFK     1428     8.0     10.0          0               NaN        0  \n",
      "326    JFK     1428     7.0      9.0          0               NaN        0  \n",
      "327    JFK     1428     8.0     24.0          0               NaN        0  \n",
      "328    JFK     1428     4.0     17.0          0               NaN        0  \n",
      "329    JFK     1428     4.0     13.0          0               NaN        0  \n",
      "330    JFK     1428     5.0     12.0          0               NaN        0  \n",
      "331    JFK     1428     4.0     13.0          0               NaN        0  \n",
      "332    JFK     1428     7.0     15.0          0               NaN        0  \n",
      "333    JFK     1428     6.0     15.0          0               NaN        0  \n",
      "...    ...      ...     ...      ...        ...               ...      ...  \n",
      "19203  JFK     1428    10.0      9.0          0               NaN        0  \n",
      "19204  JFK     1428     8.0     12.0          0               NaN        0  \n",
      "19205  JFK     1428     4.0     11.0          0               NaN        0  \n",
      "19206  JFK     1428     8.0     14.0          0               NaN        0  \n",
      "19207  JFK     1428    13.0     15.0          0               NaN        0  \n",
      "19208  JFK     1428     7.0     13.0          0               NaN        0  \n",
      "19209  JFK     1428    10.0      8.0          0               NaN        1  \n",
      "19210  JFK     1428     4.0     13.0          0               NaN        0  \n",
      "19211  JFK     1428     5.0      7.0          0               NaN        0  \n",
      "19212  JFK     1428     9.0     35.0          0               NaN        0  \n",
      "19213  JFK     1428     4.0     16.0          0               NaN        0  \n",
      "19214  JFK     1428     5.0     41.0          0               NaN        0  \n",
      "19215  JFK     1428     3.0     10.0          0               NaN        0  \n",
      "19216  JFK     1428     7.0     17.0          0               NaN        0  \n",
      "19217  JFK     1428     9.0     10.0          0               NaN        0  \n",
      "19218  JFK     1428     7.0     13.0          0               NaN        0  \n",
      "19219  JFK     1428     8.0     11.0          0               NaN        0  \n",
      "19220  JFK     1428     6.0     17.0          0               NaN        0  \n",
      "19221  JFK     1428     4.0      9.0          0               NaN        0  \n",
      "19222  JFK     1428     5.0     16.0          0               NaN        0  \n",
      "19223  JFK     1428     5.0      9.0          0               NaN        0  \n",
      "19224  JFK     1428     4.0     11.0          0               NaN        0  \n",
      "19225  JFK     1428     9.0     11.0          0               NaN        0  \n",
      "19226  JFK     1428     3.0     59.0          0               NaN        0  \n",
      "19227  JFK     1428     2.0     11.0          0               NaN        0  \n",
      "19228  JFK     1428     7.0      8.0          0               NaN        0  \n",
      "19229  JFK     1428     9.0     10.0          0               NaN        0  \n",
      "19230  JFK     1428     9.0      6.0          0               NaN        0  \n",
      "19231  JFK     1428     4.0     12.0          0               NaN        0  \n",
      "19232  JFK     1428     6.0     15.0          0               NaN        0  \n",
      "\n",
      "[4319 rows x 21 columns]\n"
     ]
    }
   ],
   "source": [
    "##making a dataframe that lists only the flights coming out of HOU\n",
    "Flight_Project_HOU= Flight_Project[Flight_Project.Origin != 'IAH']\n",
    "print(Flight_Project_HOU)"
   ]
  },
  {
   "cell_type": "code",
   "execution_count": 68,
   "metadata": {},
   "outputs": [
    {
     "name": "stdout",
     "output_type": "stream",
     "text": [
      "       Year  Month  DayofMonth  DayOfWeek  DepTime  ArrTime UniqueCarrier  \\\n",
      "304    2011      1           1          6    654.0   1124.0            B6   \n",
      "305    2011      1           1          6   1639.0   2110.0            B6   \n",
      "306    2011      1           2          7    703.0   1113.0            B6   \n",
      "307    2011      1           2          7   1604.0   2040.0            B6   \n",
      "308    2011      1           3          1    659.0   1100.0            B6   \n",
      "309    2011      1           3          1   1801.0   2200.0            B6   \n",
      "310    2011      1           4          2    654.0   1103.0            B6   \n",
      "311    2011      1           4          2   1608.0   2034.0            B6   \n",
      "312    2011      1           5          3    700.0   1103.0            B6   \n",
      "313    2011      1           5          3   1544.0   1954.0            B6   \n",
      "314    2011      1           6          4   1532.0   1943.0            B6   \n",
      "315    2011      1           7          5    654.0   1117.0            B6   \n",
      "316    2011      1           7          5   1542.0   1956.0            B6   \n",
      "317    2011      1           8          6    654.0   1058.0            B6   \n",
      "318    2011      1           9          7    653.0   1059.0            B6   \n",
      "319    2011      1           9          7   1618.0   2057.0            B6   \n",
      "320    2011      1          10          1    656.0   1102.0            B6   \n",
      "321    2011      1          10          1   1554.0   2001.0            B6   \n",
      "322    2011      1          11          2    653.0   1053.0            B6   \n",
      "323    2011      1          11          2      NaN      NaN            B6   \n",
      "324    2011      1          12          3   1532.0   1953.0            B6   \n",
      "325    2011      1          13          4   1522.0   1938.0            B6   \n",
      "326    2011      1          14          5    808.0   1229.0            B6   \n",
      "327    2011      1          14          5   1534.0   2015.0            B6   \n",
      "328    2011      1          15          6    700.0   1114.0            B6   \n",
      "329    2011      1          16          7    652.0   1055.0            B6   \n",
      "330    2011      1          16          7   1551.0   2004.0            B6   \n",
      "331    2011      1          17          1    730.0   1135.0            B6   \n",
      "332    2011      1          17          1   1531.0   1946.0            B6   \n",
      "333    2011      1          18          2    659.0   1102.0            B6   \n",
      "...     ...    ...         ...        ...      ...      ...           ...   \n",
      "19203  2011      2          13          7   1529.0   2012.0            B6   \n",
      "19204  2011      2          14          1    655.0   1113.0            B6   \n",
      "19205  2011      2          14          1   1532.0   1950.0            B6   \n",
      "19206  2011      2          15          2    658.0   1118.0            B6   \n",
      "19207  2011      2          15          2   1541.0   2007.0            B6   \n",
      "19208  2011      2          16          3   1527.0   2003.0            B6   \n",
      "19209  2011      2          17          4    708.0   2058.0            B6   \n",
      "19210  2011      2          17          4   1742.0   2200.0            B6   \n",
      "19211  2011      2          18          5    658.0   1109.0            B6   \n",
      "19212  2011      2          18          5   1534.0   2024.0            B6   \n",
      "19213  2011      2          19          6    703.0   1114.0            B6   \n",
      "19214  2011      2          19          6   1653.0   2207.0            B6   \n",
      "19215  2011      2          20          7   1107.0   1517.0            B6   \n",
      "19216  2011      2          20          7   1530.0   2000.0            B6   \n",
      "19217  2011      2          21          1    657.0   1106.0            B6   \n",
      "19218  2011      2          21          1   1545.0   1956.0            B6   \n",
      "19219  2011      2          22          2    659.0   1108.0            B6   \n",
      "19220  2011      2          22          2   1535.0   1949.0            B6   \n",
      "19221  2011      2          23          3    700.0   1106.0            B6   \n",
      "19222  2011      2          23          3   1546.0   2002.0            B6   \n",
      "19223  2011      2          24          4    653.0   1102.0            B6   \n",
      "19224  2011      2          24          4   1545.0   2013.0            B6   \n",
      "19225  2011      2          25          5    653.0   1130.0            B6   \n",
      "19226  2011      2          25          5   1824.0   2314.0            B6   \n",
      "19227  2011      2          26          6    652.0   1054.0            B6   \n",
      "19228  2011      2          26          6   1538.0   1951.0            B6   \n",
      "19229  2011      2          27          7    658.0   1107.0            B6   \n",
      "19230  2011      2          27          7   1606.0   2020.0            B6   \n",
      "19231  2011      2          28          1    655.0   1115.0            B6   \n",
      "19232  2011      2          28          1   1710.0   2145.0            B6   \n",
      "\n",
      "       FlightNum TailNum  ActualElapsedTime  ...  ArrDelay  DepDelay  Origin  \\\n",
      "304          620  N324JB              210.0  ...       5.0      -6.0     HOU   \n",
      "305          622  N324JB              211.0  ...      61.0      54.0     HOU   \n",
      "306          620  N324JB              190.0  ...      -6.0       3.0     HOU   \n",
      "307          622  N324JB              216.0  ...      31.0      19.0     HOU   \n",
      "308          620  N229JB              181.0  ...     -19.0      -1.0     HOU   \n",
      "309          622  N206JB              179.0  ...     111.0     136.0     HOU   \n",
      "310          620  N267JB              189.0  ...     -16.0      -6.0     HOU   \n",
      "311          622  N267JB              206.0  ...      25.0      23.0     HOU   \n",
      "312          620  N708JB              183.0  ...     -14.0       0.0     HOU   \n",
      "313          624  N644JB              190.0  ...      -6.0       9.0     HOU   \n",
      "314          624  N641JB              191.0  ...     -17.0      -3.0     HOU   \n",
      "315          620  N641JB              203.0  ...       0.0      -6.0     HOU   \n",
      "316          624  N564JB              194.0  ...      -4.0       7.0     HOU   \n",
      "317          620  N630JB              184.0  ...     -19.0      -6.0     HOU   \n",
      "318          620  N599JB              186.0  ...     -18.0      -7.0     HOU   \n",
      "319          624  N625JB              219.0  ...      57.0      43.0     HOU   \n",
      "320          620  N625JB              186.0  ...     -15.0      -4.0     HOU   \n",
      "321          624  N504JB              187.0  ...       1.0      19.0     HOU   \n",
      "322          620  N504JB              180.0  ...     -24.0      -7.0     HOU   \n",
      "323          624  N537JB                NaN  ...       NaN       NaN     HOU   \n",
      "324          624  N504JB              201.0  ...      -7.0      -3.0     HOU   \n",
      "325          624  N597JB              196.0  ...     -22.0     -13.0     HOU   \n",
      "326          620  N597JB              201.0  ...      72.0      68.0     HOU   \n",
      "327          624  N729JB              221.0  ...      15.0      -1.0     HOU   \n",
      "328          620  N503JB              194.0  ...      -3.0       0.0     HOU   \n",
      "329          620  N706JB              183.0  ...     -22.0      -8.0     HOU   \n",
      "330          624  N565JB              193.0  ...       4.0      16.0     HOU   \n",
      "331          620  N523JB              185.0  ...      18.0      30.0     HOU   \n",
      "332          624  N779JB              195.0  ...     -14.0      -4.0     HOU   \n",
      "333          620  N779JB              183.0  ...     -15.0      -1.0     HOU   \n",
      "...          ...     ...                ...  ...       ...       ...     ...   \n",
      "19203        624  N630JB              223.0  ...      12.0      -6.0     HOU   \n",
      "19204        620  N526JB              198.0  ...      -4.0      -5.0     HOU   \n",
      "19205        624  N648JB              198.0  ...     -10.0      -3.0     HOU   \n",
      "19206        620  N648JB              200.0  ...       1.0      -2.0     HOU   \n",
      "19207        624  N615JB              206.0  ...       7.0       6.0     HOU   \n",
      "19208        624  N661JB              216.0  ...       3.0      -8.0     HOU   \n",
      "19209        620  N247JB                NaN  ...       NaN       8.0     HOU   \n",
      "19210        624  N289JB              198.0  ...     120.0     127.0     HOU   \n",
      "19211        620  N228JB              191.0  ...      -8.0      -2.0     HOU   \n",
      "19212        624  N228JB              230.0  ...      24.0      -1.0     HOU   \n",
      "19213        620  N228JB              191.0  ...      -3.0       3.0     HOU   \n",
      "19214        624  N228JB              254.0  ...     127.0      78.0     HOU   \n",
      "19215        620  N766JB              190.0  ...     240.0     247.0     HOU   \n",
      "19216        624  N190JB              210.0  ...       0.0      -5.0     HOU   \n",
      "19217        620  N316JB              189.0  ...     -11.0      -3.0     HOU   \n",
      "19218        624  N179JB              191.0  ...      -4.0      10.0     HOU   \n",
      "19219        620  N197JB              189.0  ...      -9.0      -1.0     HOU   \n",
      "19220        624  N197JB              194.0  ...     -11.0       0.0     HOU   \n",
      "19221        620  N318JB              186.0  ...     -11.0       0.0     HOU   \n",
      "19222        624  N318JB              196.0  ...       2.0      11.0     HOU   \n",
      "19223        620  N179JB              189.0  ...     -15.0      -7.0     HOU   \n",
      "19224        624  N179JB              208.0  ...      13.0      10.0     HOU   \n",
      "19225        620  N292JB              217.0  ...      13.0      -7.0     HOU   \n",
      "19226        624  N273JB              230.0  ...     194.0     169.0     HOU   \n",
      "19227        620  N292JB              182.0  ...     -23.0      -8.0     HOU   \n",
      "19228        624  N292JB              193.0  ...      -9.0       3.0     HOU   \n",
      "19229        620  N198JB              189.0  ...     -10.0      -2.0     HOU   \n",
      "19230        624  N198JB              194.0  ...      20.0      31.0     HOU   \n",
      "19231        620  N206JB              200.0  ...      -2.0      -5.0     HOU   \n",
      "19232        624  N206JB              215.0  ...     105.0      95.0     HOU   \n",
      "\n",
      "      Dest Distance  TaxiIn  TaxiOut  Cancelled  CancellationCode Diverted  \n",
      "304    JFK     1428     6.0     23.0          0               NaN        0  \n",
      "305    JFK     1428    12.0     11.0          0               NaN        0  \n",
      "306    JFK     1428     6.0     12.0          0               NaN        0  \n",
      "307    JFK     1428     9.0     31.0          0               NaN        0  \n",
      "308    JFK     1428     3.0     12.0          0               NaN        0  \n",
      "309    JFK     1428     5.0      9.0          0               NaN        0  \n",
      "310    JFK     1428     9.0     12.0          0               NaN        0  \n",
      "311    JFK     1428     8.0     23.0          0               NaN        0  \n",
      "312    JFK     1428     4.0     12.0          0               NaN        0  \n",
      "313    JFK     1428    14.0     10.0          0               NaN        0  \n",
      "314    JFK     1428     7.0      9.0          0               NaN        0  \n",
      "315    JFK     1428     6.0     25.0          0               NaN        0  \n",
      "316    JFK     1428     9.0     10.0          0               NaN        0  \n",
      "317    JFK     1428     9.0     13.0          0               NaN        0  \n",
      "318    JFK     1428     3.0     20.0          0               NaN        0  \n",
      "319    JFK     1428    11.0     12.0          0               NaN        0  \n",
      "320    JFK     1428     4.0     16.0          0               NaN        0  \n",
      "321    JFK     1428     7.0     10.0          0               NaN        0  \n",
      "322    JFK     1428     5.0     14.0          0               NaN        0  \n",
      "323    JFK     1428     NaN      NaN          1                 B        0  \n",
      "324    JFK     1428     8.0     16.0          0               NaN        0  \n",
      "325    JFK     1428     8.0     10.0          0               NaN        0  \n",
      "326    JFK     1428     7.0      9.0          0               NaN        0  \n",
      "327    JFK     1428     8.0     24.0          0               NaN        0  \n",
      "328    JFK     1428     4.0     17.0          0               NaN        0  \n",
      "329    JFK     1428     4.0     13.0          0               NaN        0  \n",
      "330    JFK     1428     5.0     12.0          0               NaN        0  \n",
      "331    JFK     1428     4.0     13.0          0               NaN        0  \n",
      "332    JFK     1428     7.0     15.0          0               NaN        0  \n",
      "333    JFK     1428     6.0     15.0          0               NaN        0  \n",
      "...    ...      ...     ...      ...        ...               ...      ...  \n",
      "19203  JFK     1428    10.0      9.0          0               NaN        0  \n",
      "19204  JFK     1428     8.0     12.0          0               NaN        0  \n",
      "19205  JFK     1428     4.0     11.0          0               NaN        0  \n",
      "19206  JFK     1428     8.0     14.0          0               NaN        0  \n",
      "19207  JFK     1428    13.0     15.0          0               NaN        0  \n",
      "19208  JFK     1428     7.0     13.0          0               NaN        0  \n",
      "19209  JFK     1428    10.0      8.0          0               NaN        1  \n",
      "19210  JFK     1428     4.0     13.0          0               NaN        0  \n",
      "19211  JFK     1428     5.0      7.0          0               NaN        0  \n",
      "19212  JFK     1428     9.0     35.0          0               NaN        0  \n",
      "19213  JFK     1428     4.0     16.0          0               NaN        0  \n",
      "19214  JFK     1428     5.0     41.0          0               NaN        0  \n",
      "19215  JFK     1428     3.0     10.0          0               NaN        0  \n",
      "19216  JFK     1428     7.0     17.0          0               NaN        0  \n",
      "19217  JFK     1428     9.0     10.0          0               NaN        0  \n",
      "19218  JFK     1428     7.0     13.0          0               NaN        0  \n",
      "19219  JFK     1428     8.0     11.0          0               NaN        0  \n",
      "19220  JFK     1428     6.0     17.0          0               NaN        0  \n",
      "19221  JFK     1428     4.0      9.0          0               NaN        0  \n",
      "19222  JFK     1428     5.0     16.0          0               NaN        0  \n",
      "19223  JFK     1428     5.0      9.0          0               NaN        0  \n",
      "19224  JFK     1428     4.0     11.0          0               NaN        0  \n",
      "19225  JFK     1428     9.0     11.0          0               NaN        0  \n",
      "19226  JFK     1428     3.0     59.0          0               NaN        0  \n",
      "19227  JFK     1428     2.0     11.0          0               NaN        0  \n",
      "19228  JFK     1428     7.0      8.0          0               NaN        0  \n",
      "19229  JFK     1428     9.0     10.0          0               NaN        0  \n",
      "19230  JFK     1428     9.0      6.0          0               NaN        0  \n",
      "19231  JFK     1428     4.0     12.0          0               NaN        0  \n",
      "19232  JFK     1428     6.0     15.0          0               NaN        0  \n",
      "\n",
      "[4319 rows x 21 columns]\n"
     ]
    }
   ],
   "source": [
    "##making a dataframe that lists only the flights coming out of IAH\n",
    "Flight_Project_IAH= Flight_Project[Flight_Project.Origin != 'HOU']\n",
    "print(Flight_Project_HOU)"
   ]
  },
  {
   "cell_type": "markdown",
   "metadata": {},
   "source": [
    "I wanted to split the dataframe by airport so it can be easy to work with and write less complicated code. "
   ]
  },
  {
   "cell_type": "markdown",
   "metadata": {},
   "source": [
    "We can also look at the number of flights by airline out of IAH and HOU."
   ]
  },
  {
   "cell_type": "code",
   "execution_count": 106,
   "metadata": {},
   "outputs": [
    {
     "data": {
      "text/html": [
       "<div>\n",
       "<style scoped>\n",
       "    .dataframe tbody tr th:only-of-type {\n",
       "        vertical-align: middle;\n",
       "    }\n",
       "\n",
       "    .dataframe tbody tr th {\n",
       "        vertical-align: top;\n",
       "    }\n",
       "\n",
       "    .dataframe thead th {\n",
       "        text-align: right;\n",
       "    }\n",
       "</style>\n",
       "<table border=\"1\" class=\"dataframe\">\n",
       "  <thead>\n",
       "    <tr style=\"text-align: right;\">\n",
       "      <th></th>\n",
       "      <th>values</th>\n",
       "      <th>UniqueCarrier</th>\n",
       "    </tr>\n",
       "  </thead>\n",
       "  <tbody>\n",
       "    <tr>\n",
       "      <th>0</th>\n",
       "      <td>WN</td>\n",
       "      <td>3708</td>\n",
       "    </tr>\n",
       "    <tr>\n",
       "      <th>1</th>\n",
       "      <td>MQ</td>\n",
       "      <td>207</td>\n",
       "    </tr>\n",
       "    <tr>\n",
       "      <th>2</th>\n",
       "      <td>FL</td>\n",
       "      <td>144</td>\n",
       "    </tr>\n",
       "    <tr>\n",
       "      <th>3</th>\n",
       "      <td>B6</td>\n",
       "      <td>100</td>\n",
       "    </tr>\n",
       "    <tr>\n",
       "      <th>4</th>\n",
       "      <td>DL</td>\n",
       "      <td>87</td>\n",
       "    </tr>\n",
       "    <tr>\n",
       "      <th>5</th>\n",
       "      <td>F9</td>\n",
       "      <td>62</td>\n",
       "    </tr>\n",
       "    <tr>\n",
       "      <th>6</th>\n",
       "      <td>EV</td>\n",
       "      <td>11</td>\n",
       "    </tr>\n",
       "  </tbody>\n",
       "</table>\n",
       "</div>"
      ],
      "text/plain": [
       "  values  UniqueCarrier\n",
       "0     WN           3708\n",
       "1     MQ            207\n",
       "2     FL            144\n",
       "3     B6            100\n",
       "4     DL             87\n",
       "5     F9             62\n",
       "6     EV             11"
      ]
     },
     "execution_count": 106,
     "metadata": {},
     "output_type": "execute_result"
    }
   ],
   "source": [
    "##to find out how many flights per carrier out of HOU\n",
    "Flight_Project_HOU['UniqueCarrier'].value_counts().to_frame().reset_index().rename(columns={'index':'values', 'values':'count'})"
   ]
  },
  {
   "cell_type": "code",
   "execution_count": 107,
   "metadata": {},
   "outputs": [
    {
     "data": {
      "text/html": [
       "<div>\n",
       "<style scoped>\n",
       "    .dataframe tbody tr th:only-of-type {\n",
       "        vertical-align: middle;\n",
       "    }\n",
       "\n",
       "    .dataframe tbody tr th {\n",
       "        vertical-align: top;\n",
       "    }\n",
       "\n",
       "    .dataframe thead th {\n",
       "        text-align: right;\n",
       "    }\n",
       "</style>\n",
       "<table border=\"1\" class=\"dataframe\">\n",
       "  <thead>\n",
       "    <tr style=\"text-align: right;\">\n",
       "      <th></th>\n",
       "      <th>values</th>\n",
       "      <th>UniqueCarrier</th>\n",
       "    </tr>\n",
       "  </thead>\n",
       "  <tbody>\n",
       "    <tr>\n",
       "      <th>0</th>\n",
       "      <td>CO</td>\n",
       "      <td>6830</td>\n",
       "    </tr>\n",
       "    <tr>\n",
       "      <th>1</th>\n",
       "      <td>XE</td>\n",
       "      <td>6775</td>\n",
       "    </tr>\n",
       "    <tr>\n",
       "      <th>2</th>\n",
       "      <td>OO</td>\n",
       "      <td>699</td>\n",
       "    </tr>\n",
       "    <tr>\n",
       "      <th>3</th>\n",
       "      <td>AA</td>\n",
       "      <td>519</td>\n",
       "    </tr>\n",
       "    <tr>\n",
       "      <th>4</th>\n",
       "      <td>US</td>\n",
       "      <td>308</td>\n",
       "    </tr>\n",
       "    <tr>\n",
       "      <th>5</th>\n",
       "      <td>DL</td>\n",
       "      <td>171</td>\n",
       "    </tr>\n",
       "    <tr>\n",
       "      <th>6</th>\n",
       "      <td>MQ</td>\n",
       "      <td>124</td>\n",
       "    </tr>\n",
       "    <tr>\n",
       "      <th>7</th>\n",
       "      <td>UA</td>\n",
       "      <td>101</td>\n",
       "    </tr>\n",
       "    <tr>\n",
       "      <th>8</th>\n",
       "      <td>EV</td>\n",
       "      <td>95</td>\n",
       "    </tr>\n",
       "    <tr>\n",
       "      <th>9</th>\n",
       "      <td>AS</td>\n",
       "      <td>59</td>\n",
       "    </tr>\n",
       "  </tbody>\n",
       "</table>\n",
       "</div>"
      ],
      "text/plain": [
       "  values  UniqueCarrier\n",
       "0     CO           6830\n",
       "1     XE           6775\n",
       "2     OO            699\n",
       "3     AA            519\n",
       "4     US            308\n",
       "5     DL            171\n",
       "6     MQ            124\n",
       "7     UA            101\n",
       "8     EV             95\n",
       "9     AS             59"
      ]
     },
     "execution_count": 107,
     "metadata": {},
     "output_type": "execute_result"
    }
   ],
   "source": [
    "##to find out how many flights per carrier out of IAH\n",
    "Flight_Project_IAH['UniqueCarrier'].value_counts().to_frame().reset_index().rename(columns={'index':'values', 'values':'count'})"
   ]
  },
  {
   "cell_type": "markdown",
   "metadata": {},
   "source": [
    "Let's look at the flights delayed in IAH as a ratio."
   ]
  },
  {
   "cell_type": "code",
   "execution_count": 111,
   "metadata": {},
   "outputs": [
    {
     "data": {
      "text/plain": [
       "count    15533.000000\n",
       "mean         6.886757\n",
       "std         23.771530\n",
       "min        -18.000000\n",
       "25%         -3.000000\n",
       "50%          0.000000\n",
       "75%          8.000000\n",
       "max        780.000000\n",
       "Name: DepDelay, dtype: float64"
      ]
     },
     "execution_count": 111,
     "metadata": {},
     "output_type": "execute_result"
    }
   ],
   "source": [
    "Flight_Project_IAH.DepDelay.describe()"
   ]
  },
  {
   "cell_type": "code",
   "execution_count": 114,
   "metadata": {},
   "outputs": [
    {
     "name": "stdout",
     "output_type": "stream",
     "text": [
      "The percentage of flights delayed out of all flights in IAH is:\n",
      "0.9905618264141317\n"
     ]
    }
   ],
   "source": [
    "print('The percentage of flights delayed out of all flights in IAH is:')\n",
    "print(15533/15681)"
   ]
  },
  {
   "cell_type": "code",
   "execution_count": 112,
   "metadata": {},
   "outputs": [
    {
     "data": {
      "text/plain": [
       "count    4252.000000\n",
       "mean       13.452023\n",
       "std        23.822074\n",
       "min       -14.000000\n",
       "25%        -1.000000\n",
       "50%         5.000000\n",
       "75%        19.000000\n",
       "max       247.000000\n",
       "Name: DepDelay, dtype: float64"
      ]
     },
     "execution_count": 112,
     "metadata": {},
     "output_type": "execute_result"
    }
   ],
   "source": [
    "Flight_Project_HOU.DepDelay.describe()"
   ]
  },
  {
   "cell_type": "code",
   "execution_count": 115,
   "metadata": {},
   "outputs": [
    {
     "name": "stdout",
     "output_type": "stream",
     "text": [
      "The percentage of flights delayed out of all flights in HOU is:\n",
      "0.9844871498031952\n"
     ]
    }
   ],
   "source": [
    "print('The percentage of flights delayed out of all flights in HOU is:')\n",
    "print(4252/4319)"
   ]
  },
  {
   "cell_type": "markdown",
   "metadata": {},
   "source": [
    "Here we can see that both airports experience high rates of delays, (both in the upper 90's) IAH only experiences 1% more delays than HOU. For comparison purposes, these airports are essentially the same in their delay rate. HOWEVER, we are able to notice that the average delay for IAH is just over half the length of delays that occur in HOU. An average delay of only about 7 minutes in IAH versus an average delay of about 13 minutes in HOU."
   ]
  },
  {
   "cell_type": "code",
   "execution_count": 149,
   "metadata": {},
   "outputs": [
    {
     "data": {
      "text/plain": [
       "<matplotlib.axes._subplots.AxesSubplot at 0x1a2460b358>"
      ]
     },
     "execution_count": 149,
     "metadata": {},
     "output_type": "execute_result"
    },
    {
     "data": {
      "image/png": "[encoded data removed]",
      "text/plain": [
       "<Figure size 432x288 with 1 Axes>"
      ]
     },
     "metadata": {
      "needs_background": "light"
     },
     "output_type": "display_data"
    }
   ],
   "source": [
    "Flight_Project_IAH.boxplot(column=\"DepDelay\", vert=False, showfliers=False)"
   ]
  },
  {
   "cell_type": "code",
   "execution_count": 147,
   "metadata": {},
   "outputs": [
    {
     "data": {
      "text/plain": [
       "<matplotlib.axes._subplots.AxesSubplot at 0x1a24478e10>"
      ]
     },
     "execution_count": 147,
     "metadata": {},
     "output_type": "execute_result"
    },
    {
     "data": {
      "image/png": "[encoded data removed]",
      "text/plain": [
       "<Figure size 432x288 with 1 Axes>"
      ]
     },
     "metadata": {
      "needs_background": "light"
     },
     "output_type": "display_data"
    }
   ],
   "source": [
    "Flight_Project_HOU.boxplot(column=\"DepDelay\", vert=False, showfliers=False)"
   ]
  },
  {
   "cell_type": "markdown",
   "metadata": {},
   "source": [
    "Here these two box and whisker graphs tell a story about the delay times at each airport. (I took out outliers)\n",
    "\n",
    "FOR IAH - the box sits between approximately -4 and 8 minutes of a delay (I'm assuming a negative delay means that the flight left earlier than anticipated!) IAH's first 50% of all delay times are either a negative delay or 0, which is very good, the latter 50% show delays with a sans-outlier max of 20 minutes.\n",
    "\n",
    "FOR HOU - the box sits between about -1 and 19, so it's a wider range for a delay. The first 50% goes from about -15 to 5, (so there's a greater chance your plane will leave early) and the latter 50% show your plane could range from 5 to roughly 50 minutes of a delay (sans-outliers)\n",
    "\n",
    "In my opinion, I'd rather go with IAH, given that I'd most likely only be delayed by about 20 minutes.\n",
    "A flight out of HOU would be riskier to take if I want to avoid delay time."
   ]
  },
  {
   "cell_type": "markdown",
   "metadata": {},
   "source": [
    "Now I will use a similar tactic to find out some info on the taxi time for flights OUTBOUND - this can be viewed in the same light as a delay. - just because I'm on my plane, doesn't mean I am actively reducing the distance to my destination! \n",
    "\n",
    "(I've left out Taxi_In times because I deem them unimportant, as I'm trying to take the perspective of the traveler)"
   ]
  },
  {
   "cell_type": "code",
   "execution_count": 150,
   "metadata": {},
   "outputs": [
    {
     "data": {
      "text/plain": [
       "count    15528.000000\n",
       "mean        16.753928\n",
       "std          6.911678\n",
       "min          4.000000\n",
       "25%         12.000000\n",
       "50%         15.000000\n",
       "75%         19.000000\n",
       "max         78.000000\n",
       "Name: TaxiOut, dtype: float64"
      ]
     },
     "execution_count": 150,
     "metadata": {},
     "output_type": "execute_result"
    }
   ],
   "source": [
    "#descriptive stats on TaxiOut in IAH\n",
    "Flight_Project_IAH.TaxiOut.describe()"
   ]
  },
  {
   "cell_type": "code",
   "execution_count": 151,
   "metadata": {},
   "outputs": [
    {
     "data": {
      "text/plain": [
       "count    4252.000000\n",
       "mean        9.219661\n",
       "std         3.454882\n",
       "min         4.000000\n",
       "25%         7.000000\n",
       "50%         8.000000\n",
       "75%        10.000000\n",
       "max        59.000000\n",
       "Name: TaxiOut, dtype: float64"
      ]
     },
     "execution_count": 151,
     "metadata": {},
     "output_type": "execute_result"
    }
   ],
   "source": [
    "#descriptive stats on TaxiOut in HOU\n",
    "Flight_Project_HOU.TaxiOut.describe()"
   ]
  },
  {
   "cell_type": "markdown",
   "metadata": {},
   "source": [
    "Let's see if we can make some visualizations with this statistical data."
   ]
  },
  {
   "cell_type": "code",
   "execution_count": 161,
   "metadata": {},
   "outputs": [
    {
     "data": {
      "image/png": "[encoded data removed]",
      "text/plain": [
       "<Figure size 432x288 with 1 Axes>"
      ]
     },
     "metadata": {
      "needs_background": "light"
     },
     "output_type": "display_data"
    }
   ],
   "source": [
    "#going to make a bar graph with ranges of TaxiOut times for IAH\n",
    "bins= [0,5,10,15,20,25,30,35,40]\n",
    "plt.hist(Flight_Project_IAH.TaxiOut, bins=bins, edgecolor=\"k\")\n",
    "plt.xticks(bins)\n",
    "\n",
    "plt.show()"
   ]
  },
  {
   "cell_type": "markdown",
   "metadata": {},
   "source": [
    "This bar graph mimics a Gaussian distribution with a SLIGHT rightward skewedness for TaxiOut times at IAH.\n",
    "The majority of the Taxi Out times are between 10 and 25 minutes in length.\n",
    "\n",
    "***Again, TaxiOut time can be a result of both the carrier and the airport"
   ]
  },
  {
   "cell_type": "code",
   "execution_count": 160,
   "metadata": {},
   "outputs": [
    {
     "data": {
      "image/png": "[encoded data removed]",
      "text/plain": [
       "<Figure size 432x288 with 1 Axes>"
      ]
     },
     "metadata": {
      "needs_background": "light"
     },
     "output_type": "display_data"
    }
   ],
   "source": [
    "#going to make a bar graph with ranges of TaxiOut times for HOU\n",
    "bins= [0,5,10,15,20,25,30,35,40]\n",
    "plt.hist(Flight_Project_HOU.TaxiOut, bins=bins, edgecolor=\"k\")\n",
    "plt.xticks(bins)\n",
    "\n",
    "plt.show()"
   ]
  },
  {
   "cell_type": "markdown",
   "metadata": {},
   "source": [
    "This bar graph also mimics a Gaussian distribution with a stronger rightward skewness for TaxiOut times at IAH then at HOU.\n",
    "The majority of the Taxi Out times are between 5 and 15 minutes in length.\n",
    "\n",
    "***Again, TaxiOut time can be a result of both the carrier and the airport"
   ]
  },
  {
   "cell_type": "markdown",
   "metadata": {},
   "source": [
    "After analysis over all of these indicators, as a person who is risk-averse, I will elect to go with IAH over HOU to have a greater selection of flights, airlines, less chance of a lengthy delay and less chance of lengthy taxi-out time. After all of this analysis, I can imagine that IAH is simply a bigger airport that provides more service than HOU."
   ]
  },
  {
   "cell_type": "markdown",
   "metadata": {},
   "source": [
    "# I'm going to try an another question for two reasons!\n",
    "A) My partner and I agreed on four answered questions for motivation!\n",
    "B) My partner and I found that doing 4 questions would split the work evenly.\n",
    "\n",
    "Our last question will be:\n",
    "***What is the average \"non-airtime\" for any given flight across all airlines and airports? I want to be able to see the percent of time a flight is in the air and not in the air over its entire elapsed time.\n",
    "\n",
    "Since I already have my dataframe split into two by airport, it couldn't hurt to find these numbers as a whole and with respect to the airports."
   ]
  },
  {
   "cell_type": "code",
   "execution_count": 173,
   "metadata": {},
   "outputs": [
    {
     "name": "stdout",
     "output_type": "stream",
     "text": [
      "       Year  Month  DayofMonth  DayOfWeek  DepTime  ArrTime UniqueCarrier  \\\n",
      "0      2011      1           1          6   1400.0   1500.0            AA   \n",
      "1      2011      1           2          7   1401.0   1501.0            AA   \n",
      "2      2011      1           3          1   1352.0   1502.0            AA   \n",
      "3      2011      1           4          2   1403.0   1513.0            AA   \n",
      "4      2011      1           5          3   1405.0   1507.0            AA   \n",
      "5      2011      1           6          4   1359.0   1503.0            AA   \n",
      "6      2011      1           7          5   1359.0   1509.0            AA   \n",
      "7      2011      1           8          6   1355.0   1454.0            AA   \n",
      "8      2011      1           9          7   1443.0   1554.0            AA   \n",
      "9      2011      1          10          1   1443.0   1553.0            AA   \n",
      "10     2011      1          11          2   1429.0   1539.0            AA   \n",
      "11     2011      1          12          3   1419.0   1515.0            AA   \n",
      "12     2011      1          13          4   1358.0   1501.0            AA   \n",
      "13     2011      1          14          5   1357.0   1504.0            AA   \n",
      "14     2011      1          15          6   1359.0   1459.0            AA   \n",
      "15     2011      1          16          7   1359.0   1509.0            AA   \n",
      "16     2011      1          17          1   1530.0   1634.0            AA   \n",
      "17     2011      1          18          2   1408.0   1508.0            AA   \n",
      "18     2011      1          19          3   1356.0   1503.0            AA   \n",
      "19     2011      1          20          4   1507.0   1622.0            AA   \n",
      "20     2011      1          21          5   1357.0   1459.0            AA   \n",
      "21     2011      1          22          6   1355.0   1456.0            AA   \n",
      "22     2011      1          23          7   1356.0   1501.0            AA   \n",
      "23     2011      1          24          1   1356.0   1513.0            AA   \n",
      "24     2011      1          25          2   1352.0   1452.0            AA   \n",
      "25     2011      1          26          3   1353.0   1455.0            AA   \n",
      "26     2011      1          27          4   1356.0   1458.0            AA   \n",
      "27     2011      1          28          5   1359.0   1505.0            AA   \n",
      "28     2011      1          29          6   1355.0   1455.0            AA   \n",
      "29     2011      1          30          7   1359.0   1456.0            AA   \n",
      "...     ...    ...         ...        ...      ...      ...           ...   \n",
      "19970  2011      2          25          5    916.0   1004.0            CO   \n",
      "19971  2011      2          25          5   1850.0   2148.0            CO   \n",
      "19972  2011      2          25          5   1437.0   1614.0            CO   \n",
      "19973  2011      2          25          5    728.0   1037.0            CO   \n",
      "19974  2011      2          25          5   1900.0   1945.0            CO   \n",
      "19975  2011      2          25          5   1201.0   1356.0            CO   \n",
      "19976  2011      2          25          5   1328.0   1515.0            CO   \n",
      "19977  2011      2          25          5   1612.0   1717.0            CO   \n",
      "19978  2011      2          25          5    847.0    946.0            CO   \n",
      "19979  2011      2          25          5   1214.0   1353.0            CO   \n",
      "19980  2011      2          25          5   2000.0     14.0            CO   \n",
      "19981  2011      2          25          5   2051.0   2300.0            CO   \n",
      "19982  2011      2          25          5   1100.0   1326.0            CO   \n",
      "19983  2011      2          25          5   1602.0   1914.0            CO   \n",
      "19984  2011      2          25          5   2035.0   2329.0            CO   \n",
      "19985  2011      2          25          5    732.0    842.0            CO   \n",
      "19986  2011      2          25          5   1754.0   2154.0            CO   \n",
      "19987  2011      2          25          5    914.0   1025.0            CO   \n",
      "19988  2011      2          25          5   1616.0   2001.0            CO   \n",
      "19989  2011      2          25          5   1734.0   1910.0            CO   \n",
      "19990  2011      2          25          5   1029.0   1341.0            CO   \n",
      "19991  2011      2          25          5   1451.0   1645.0            CO   \n",
      "19992  2011      2          25          5   1903.0   2034.0            CO   \n",
      "19993  2011      2          25          5    908.0   1137.0            CO   \n",
      "19994  2011      2          25          5   2111.0   2236.0            CO   \n",
      "19995  2011      2          25          5   1126.0   1333.0            CO   \n",
      "19996  2011      2          25          5    941.0   1111.0            CO   \n",
      "19997  2011      2          25          5    722.0    948.0            CO   \n",
      "19998  2011      2          25          5   1909.0   2216.0            CO   \n",
      "19999  2011      2          25          5   1255.0   1553.0            CO   \n",
      "\n",
      "       FlightNum TailNum  ActualElapsedTime  ...  DepDelay  Origin  Dest  \\\n",
      "0            428  N576AA               60.0  ...       0.0     IAH   DFW   \n",
      "1            428  N557AA               60.0  ...       1.0     IAH   DFW   \n",
      "2            428  N541AA               70.0  ...      -8.0     IAH   DFW   \n",
      "3            428  N403AA               70.0  ...       3.0     IAH   DFW   \n",
      "4            428  N492AA               62.0  ...       5.0     IAH   DFW   \n",
      "5            428  N262AA               64.0  ...      -1.0     IAH   DFW   \n",
      "6            428  N493AA               70.0  ...      -1.0     IAH   DFW   \n",
      "7            428  N477AA               59.0  ...      -5.0     IAH   DFW   \n",
      "8            428  N476AA               71.0  ...      43.0     IAH   DFW   \n",
      "9            428  N504AA               70.0  ...      43.0     IAH   DFW   \n",
      "10           428  N565AA               70.0  ...      29.0     IAH   DFW   \n",
      "11           428  N577AA               56.0  ...      19.0     IAH   DFW   \n",
      "12           428  N476AA               63.0  ...      -2.0     IAH   DFW   \n",
      "13           428  N552AA               67.0  ...      -3.0     IAH   DFW   \n",
      "14           428  N462AA               60.0  ...      -1.0     IAH   DFW   \n",
      "15           428  N555AA               70.0  ...      -1.0     IAH   DFW   \n",
      "16           428  N518AA               64.0  ...      90.0     IAH   DFW   \n",
      "17           428  N507AA               60.0  ...       8.0     IAH   DFW   \n",
      "18           428  N523AA               67.0  ...      -4.0     IAH   DFW   \n",
      "19           428  N425AA               75.0  ...      67.0     IAH   DFW   \n",
      "20           428  N251AA               62.0  ...      -3.0     IAH   DFW   \n",
      "21           428  N551AA               61.0  ...      -5.0     IAH   DFW   \n",
      "22           428  N479AA               65.0  ...      -4.0     IAH   DFW   \n",
      "23           428  N531AA               77.0  ...      -4.0     IAH   DFW   \n",
      "24           428  N561AA               60.0  ...      -8.0     IAH   DFW   \n",
      "25           428  N541AA               62.0  ...      -7.0     IAH   DFW   \n",
      "26           428  N512AA               62.0  ...      -4.0     IAH   DFW   \n",
      "27           428  N4UBAA               66.0  ...      -1.0     IAH   DFW   \n",
      "28           428  N491AA               60.0  ...      -5.0     IAH   DFW   \n",
      "29           428  N561AA               57.0  ...      -1.0     IAH   DFW   \n",
      "...          ...     ...                ...  ...       ...     ...   ...   \n",
      "19970       1583  N14645               48.0  ...      -4.0     IAH   AUS   \n",
      "19971       1586  N57863              118.0  ...       0.0     IAH   MCO   \n",
      "19972       1589  N17233              217.0  ...       2.0     IAH   SAN   \n",
      "19973       1590  N17233              129.0  ...       3.0     IAH   MIA   \n",
      "19974       1603  N17719               45.0  ...      65.0     IAH   AUS   \n",
      "19975       1605  N73406              235.0  ...      11.0     IAH   LAX   \n",
      "19976       1620  N75433              167.0  ...     108.0     IAH   PHX   \n",
      "19977       1621  N37255               65.0  ...     102.0     IAH   MFE   \n",
      "19978       1623  N13750               59.0  ...       2.0     IAH   MSY   \n",
      "19979       1629  N23707              219.0  ...      -4.0     IAH   SNA   \n",
      "19980       1632  N21723              194.0  ...     145.0     IAH   LGA   \n",
      "19981       1644  N79279              249.0  ...       1.0     IAH   SMF   \n",
      "19982       1646  N57864              146.0  ...      40.0     IAH   ORD   \n",
      "19983       1648  N77867              132.0  ...       2.0     IAH   FLL   \n",
      "19984       1662  N75433              114.0  ...      45.0     IAH   RSW   \n",
      "19985       1675  N12221               70.0  ...      -3.0     IAH   DFW   \n",
      "19986       1676  N33294              180.0  ...     109.0     IAH   PHL   \n",
      "19987       1679  N14639               71.0  ...      -6.0     IAH   SAT   \n",
      "19988       1688  N54241              165.0  ...      16.0     IAH   DTW   \n",
      "19989       1689  N24211              216.0  ...      -1.0     IAH   SAN   \n",
      "19990       1690  N33294              132.0  ...      -1.0     IAH   MIA   \n",
      "19991       1695  N14231              234.0  ...      96.0     IAH   LAX   \n",
      "19992       1711  N16648               91.0  ...      -7.0     IAH   OKC   \n",
      "19993       1714  N32404              269.0  ...      -2.0     IAH   SMF   \n",
      "19994       1717  N37290              205.0  ...       1.0     IAH   SAN   \n",
      "19995       1719  N19621              187.0  ...      -4.0     IAH   MTJ   \n",
      "19996       1723  N37298              210.0  ...      11.0     IAH   ONT   \n",
      "19997       1746  N37408              146.0  ...      -3.0     IAH   ORD   \n",
      "19998       1748  N27239              127.0  ...      12.0     IAH   FLL   \n",
      "19999       1757  N14604              118.0  ...       5.0     IAH   ATL   \n",
      "\n",
      "      Distance TaxiIn  TaxiOut  Cancelled  CancellationCode  Diverted  \\\n",
      "0          224    7.0     13.0          0               NaN         0   \n",
      "1          224    6.0      9.0          0               NaN         0   \n",
      "2          224    5.0     17.0          0               NaN         0   \n",
      "3          224    9.0     22.0          0               NaN         0   \n",
      "4          224    9.0      9.0          0               NaN         0   \n",
      "5          224    6.0     13.0          0               NaN         0   \n",
      "6          224   12.0     15.0          0               NaN         0   \n",
      "7          224    7.0     12.0          0               NaN         0   \n",
      "8          224    8.0     22.0          0               NaN         0   \n",
      "9          224    6.0     19.0          0               NaN         0   \n",
      "10         224    8.0     20.0          0               NaN         0   \n",
      "11         224    4.0     11.0          0               NaN         0   \n",
      "12         224    6.0     13.0          0               NaN         0   \n",
      "13         224    5.0     15.0          0               NaN         0   \n",
      "14         224    6.0     10.0          0               NaN         0   \n",
      "15         224   12.0     17.0          0               NaN         0   \n",
      "16         224    8.0      8.0          0               NaN         0   \n",
      "17         224    7.0     11.0          0               NaN         0   \n",
      "18         224   10.0     11.0          0               NaN         0   \n",
      "19         224    9.0     24.0          0               NaN         0   \n",
      "20         224    6.0      9.0          0               NaN         0   \n",
      "21         224    9.0      8.0          0               NaN         0   \n",
      "22         224    7.0     18.0          0               NaN         0   \n",
      "23         224    6.0     28.0          0               NaN         0   \n",
      "24         224    7.0     13.0          0               NaN         0   \n",
      "25         224    8.0     14.0          0               NaN         0   \n",
      "26         224   12.0     10.0          0               NaN         0   \n",
      "27         224    8.0     12.0          0               NaN         0   \n",
      "28         224    7.0      7.0          0               NaN         0   \n",
      "29         224    7.0     11.0          0               NaN         0   \n",
      "...        ...    ...      ...        ...               ...       ...   \n",
      "19970      140    6.0     14.0          0               NaN         0   \n",
      "19971      853    6.0     12.0          0               NaN         0   \n",
      "19972     1303    3.0     21.0          0               NaN         0   \n",
      "19973      964    9.0     10.0          0               NaN         0   \n",
      "19974      140    4.0     13.0          0               NaN         0   \n",
      "19975     1379   11.0     23.0          0               NaN         0   \n",
      "19976     1009    3.0     21.0          0               NaN         0   \n",
      "19977      316    4.0     11.0          0               NaN         0   \n",
      "19978      305    5.0     13.0          0               NaN         0   \n",
      "19979     1347    7.0     17.0          0               NaN         0   \n",
      "19980     1416    5.0     31.0          0               NaN         0   \n",
      "19981     1609    5.0     14.0          0               NaN         0   \n",
      "19982      925   22.0     13.0          0               NaN         0   \n",
      "19983      965    3.0     18.0          0               NaN         0   \n",
      "19984      861    5.0     14.0          0               NaN         0   \n",
      "19985      224   10.0     19.0          0               NaN         0   \n",
      "19986     1324    6.0     17.0          0               NaN         0   \n",
      "19987      191    5.0     25.0          0               NaN         0   \n",
      "19988     1076   12.0     21.0          0               NaN         0   \n",
      "19989     1303    5.0     15.0          0               NaN         0   \n",
      "19990      964   10.0     15.0          0               NaN         0   \n",
      "19991     1379    8.0     25.0          0               NaN         0   \n",
      "19992      395    5.0     25.0          0               NaN         0   \n",
      "19993     1609    7.0     15.0          0               NaN         0   \n",
      "19994     1303    3.0     12.0          0               NaN         0   \n",
      "19995      926    5.0     30.0          0               NaN         0   \n",
      "19996     1334    5.0     12.0          0               NaN         0   \n",
      "19997      925   17.0     14.0          0               NaN         0   \n",
      "19998      965    6.0     15.0          0               NaN         0   \n",
      "19999      689   13.0     22.0          0               NaN         0   \n",
      "\n",
      "      NonAirTime  \n",
      "0           20.0  \n",
      "1           15.0  \n",
      "2           22.0  \n",
      "3           31.0  \n",
      "4           18.0  \n",
      "5           19.0  \n",
      "6           27.0  \n",
      "7           19.0  \n",
      "8           30.0  \n",
      "9           25.0  \n",
      "10          28.0  \n",
      "11          15.0  \n",
      "12          19.0  \n",
      "13          20.0  \n",
      "14          16.0  \n",
      "15          29.0  \n",
      "16          16.0  \n",
      "17          18.0  \n",
      "18          21.0  \n",
      "19          33.0  \n",
      "20          15.0  \n",
      "21          17.0  \n",
      "22          25.0  \n",
      "23          34.0  \n",
      "24          20.0  \n",
      "25          22.0  \n",
      "26          22.0  \n",
      "27          20.0  \n",
      "28          14.0  \n",
      "29          18.0  \n",
      "...          ...  \n",
      "19970       20.0  \n",
      "19971       18.0  \n",
      "19972       24.0  \n",
      "19973       19.0  \n",
      "19974       17.0  \n",
      "19975       34.0  \n",
      "19976       24.0  \n",
      "19977       15.0  \n",
      "19978       18.0  \n",
      "19979       24.0  \n",
      "19980       36.0  \n",
      "19981       19.0  \n",
      "19982       35.0  \n",
      "19983       21.0  \n",
      "19984       19.0  \n",
      "19985       29.0  \n",
      "19986       23.0  \n",
      "19987       30.0  \n",
      "19988       33.0  \n",
      "19989       20.0  \n",
      "19990       25.0  \n",
      "19991       33.0  \n",
      "19992       30.0  \n",
      "19993       22.0  \n",
      "19994       15.0  \n",
      "19995       35.0  \n",
      "19996       17.0  \n",
      "19997       31.0  \n",
      "19998       21.0  \n",
      "19999       35.0  \n",
      "\n",
      "[20000 rows x 22 columns]\n"
     ]
    }
   ],
   "source": [
    "#making the new column in the orignal data frame\n",
    "Flight_Project['NonAirTime'] = (Flight_Project[\"ActualElapsedTime\"] - Flight_Project[\"AirTime\"])\n",
    "print(Flight_Project)"
   ]
  },
  {
   "cell_type": "code",
   "execution_count": 189,
   "metadata": {},
   "outputs": [
    {
     "data": {
      "image/png": "[encoded data removed]",
      "text/plain": [
       "<Figure size 432x288 with 1 Axes>"
      ]
     },
     "metadata": {
      "needs_background": "light"
     },
     "output_type": "display_data"
    }
   ],
   "source": [
    "##now for a visualization on \"non-air times across all flights for both airports\"\n",
    "bins= [0,10,20,30,40,50,60,70,80]\n",
    "plt.hist(Flight_Project.NonAirTime , bins=bins, edgecolor=\"k\")\n",
    "plt.xticks(bins)\n",
    "\n",
    "plt.show()"
   ]
  },
  {
   "cell_type": "markdown",
   "metadata": {},
   "source": [
    "Again, we see the classic Gaussian distribution. Most nonair times lie between the 10 and 30 minute mark."
   ]
  },
  {
   "cell_type": "code",
   "execution_count": 176,
   "metadata": {},
   "outputs": [
    {
     "data": {
      "text/plain": [
       "count    19738.000000\n",
       "mean        21.210964\n",
       "std          8.493510\n",
       "min          6.000000\n",
       "25%         15.000000\n",
       "50%         20.000000\n",
       "75%         25.000000\n",
       "max        176.000000\n",
       "Name: NonAirTime, dtype: float64"
      ]
     },
     "execution_count": 176,
     "metadata": {},
     "output_type": "execute_result"
    }
   ],
   "source": [
    "##let's accompany this graph with some descriptive statistics!\n",
    "Flight_Project.NonAirTime.describe()"
   ]
  },
  {
   "cell_type": "markdown",
   "metadata": {},
   "source": [
    "Here we can see the data match the picture that the graph shows. \n",
    "The empirical rule in statistics says that \n",
    "\n",
    "-68% of the data falls between the mean and +/- one standard deviation. (12.7174 and 29.7044)\n",
    "-95% of the data falls between the mean and +/- two standard deviations. (4.2239 and 38.1979)\n",
    "-99.7% of the data falls between the mean and +/- three standard deviations. (-4.2695 and 46.6914)\n",
    "\n",
    "I like that there's a 95% chance that my nonair time would be no more than about 38 minutes. That doesn't sound too bad and could be considered \"par for the course\" when flying.\n",
    "\n",
    "https://www.learner.org/courses/againstallodds/pdfs/AgainstAllOdds_StudentGuide_Unit08.pdf"
   ]
  },
  {
   "cell_type": "markdown",
   "metadata": {},
   "source": [
    "Let's see what we can find when we split the flights by airport!"
   ]
  },
  {
   "cell_type": "code",
   "execution_count": 179,
   "metadata": {},
   "outputs": [
    {
     "name": "stdout",
     "output_type": "stream",
     "text": [
      "       Year  Month  DayofMonth  DayOfWeek  DepTime  ArrTime UniqueCarrier  \\\n",
      "0      2011      1           1          6   1400.0   1500.0            AA   \n",
      "1      2011      1           2          7   1401.0   1501.0            AA   \n",
      "2      2011      1           3          1   1352.0   1502.0            AA   \n",
      "3      2011      1           4          2   1403.0   1513.0            AA   \n",
      "4      2011      1           5          3   1405.0   1507.0            AA   \n",
      "5      2011      1           6          4   1359.0   1503.0            AA   \n",
      "6      2011      1           7          5   1359.0   1509.0            AA   \n",
      "7      2011      1           8          6   1355.0   1454.0            AA   \n",
      "8      2011      1           9          7   1443.0   1554.0            AA   \n",
      "9      2011      1          10          1   1443.0   1553.0            AA   \n",
      "10     2011      1          11          2   1429.0   1539.0            AA   \n",
      "11     2011      1          12          3   1419.0   1515.0            AA   \n",
      "12     2011      1          13          4   1358.0   1501.0            AA   \n",
      "13     2011      1          14          5   1357.0   1504.0            AA   \n",
      "14     2011      1          15          6   1359.0   1459.0            AA   \n",
      "15     2011      1          16          7   1359.0   1509.0            AA   \n",
      "16     2011      1          17          1   1530.0   1634.0            AA   \n",
      "17     2011      1          18          2   1408.0   1508.0            AA   \n",
      "18     2011      1          19          3   1356.0   1503.0            AA   \n",
      "19     2011      1          20          4   1507.0   1622.0            AA   \n",
      "20     2011      1          21          5   1357.0   1459.0            AA   \n",
      "21     2011      1          22          6   1355.0   1456.0            AA   \n",
      "22     2011      1          23          7   1356.0   1501.0            AA   \n",
      "23     2011      1          24          1   1356.0   1513.0            AA   \n",
      "24     2011      1          25          2   1352.0   1452.0            AA   \n",
      "25     2011      1          26          3   1353.0   1455.0            AA   \n",
      "26     2011      1          27          4   1356.0   1458.0            AA   \n",
      "27     2011      1          28          5   1359.0   1505.0            AA   \n",
      "28     2011      1          29          6   1355.0   1455.0            AA   \n",
      "29     2011      1          30          7   1359.0   1456.0            AA   \n",
      "...     ...    ...         ...        ...      ...      ...           ...   \n",
      "19970  2011      2          25          5    916.0   1004.0            CO   \n",
      "19971  2011      2          25          5   1850.0   2148.0            CO   \n",
      "19972  2011      2          25          5   1437.0   1614.0            CO   \n",
      "19973  2011      2          25          5    728.0   1037.0            CO   \n",
      "19974  2011      2          25          5   1900.0   1945.0            CO   \n",
      "19975  2011      2          25          5   1201.0   1356.0            CO   \n",
      "19976  2011      2          25          5   1328.0   1515.0            CO   \n",
      "19977  2011      2          25          5   1612.0   1717.0            CO   \n",
      "19978  2011      2          25          5    847.0    946.0            CO   \n",
      "19979  2011      2          25          5   1214.0   1353.0            CO   \n",
      "19980  2011      2          25          5   2000.0     14.0            CO   \n",
      "19981  2011      2          25          5   2051.0   2300.0            CO   \n",
      "19982  2011      2          25          5   1100.0   1326.0            CO   \n",
      "19983  2011      2          25          5   1602.0   1914.0            CO   \n",
      "19984  2011      2          25          5   2035.0   2329.0            CO   \n",
      "19985  2011      2          25          5    732.0    842.0            CO   \n",
      "19986  2011      2          25          5   1754.0   2154.0            CO   \n",
      "19987  2011      2          25          5    914.0   1025.0            CO   \n",
      "19988  2011      2          25          5   1616.0   2001.0            CO   \n",
      "19989  2011      2          25          5   1734.0   1910.0            CO   \n",
      "19990  2011      2          25          5   1029.0   1341.0            CO   \n",
      "19991  2011      2          25          5   1451.0   1645.0            CO   \n",
      "19992  2011      2          25          5   1903.0   2034.0            CO   \n",
      "19993  2011      2          25          5    908.0   1137.0            CO   \n",
      "19994  2011      2          25          5   2111.0   2236.0            CO   \n",
      "19995  2011      2          25          5   1126.0   1333.0            CO   \n",
      "19996  2011      2          25          5    941.0   1111.0            CO   \n",
      "19997  2011      2          25          5    722.0    948.0            CO   \n",
      "19998  2011      2          25          5   1909.0   2216.0            CO   \n",
      "19999  2011      2          25          5   1255.0   1553.0            CO   \n",
      "\n",
      "       FlightNum TailNum  ActualElapsedTime  ...  DepDelay  Origin  Dest  \\\n",
      "0            428  N576AA               60.0  ...       0.0     IAH   DFW   \n",
      "1            428  N557AA               60.0  ...       1.0     IAH   DFW   \n",
      "2            428  N541AA               70.0  ...      -8.0     IAH   DFW   \n",
      "3            428  N403AA               70.0  ...       3.0     IAH   DFW   \n",
      "4            428  N492AA               62.0  ...       5.0     IAH   DFW   \n",
      "5            428  N262AA               64.0  ...      -1.0     IAH   DFW   \n",
      "6            428  N493AA               70.0  ...      -1.0     IAH   DFW   \n",
      "7            428  N477AA               59.0  ...      -5.0     IAH   DFW   \n",
      "8            428  N476AA               71.0  ...      43.0     IAH   DFW   \n",
      "9            428  N504AA               70.0  ...      43.0     IAH   DFW   \n",
      "10           428  N565AA               70.0  ...      29.0     IAH   DFW   \n",
      "11           428  N577AA               56.0  ...      19.0     IAH   DFW   \n",
      "12           428  N476AA               63.0  ...      -2.0     IAH   DFW   \n",
      "13           428  N552AA               67.0  ...      -3.0     IAH   DFW   \n",
      "14           428  N462AA               60.0  ...      -1.0     IAH   DFW   \n",
      "15           428  N555AA               70.0  ...      -1.0     IAH   DFW   \n",
      "16           428  N518AA               64.0  ...      90.0     IAH   DFW   \n",
      "17           428  N507AA               60.0  ...       8.0     IAH   DFW   \n",
      "18           428  N523AA               67.0  ...      -4.0     IAH   DFW   \n",
      "19           428  N425AA               75.0  ...      67.0     IAH   DFW   \n",
      "20           428  N251AA               62.0  ...      -3.0     IAH   DFW   \n",
      "21           428  N551AA               61.0  ...      -5.0     IAH   DFW   \n",
      "22           428  N479AA               65.0  ...      -4.0     IAH   DFW   \n",
      "23           428  N531AA               77.0  ...      -4.0     IAH   DFW   \n",
      "24           428  N561AA               60.0  ...      -8.0     IAH   DFW   \n",
      "25           428  N541AA               62.0  ...      -7.0     IAH   DFW   \n",
      "26           428  N512AA               62.0  ...      -4.0     IAH   DFW   \n",
      "27           428  N4UBAA               66.0  ...      -1.0     IAH   DFW   \n",
      "28           428  N491AA               60.0  ...      -5.0     IAH   DFW   \n",
      "29           428  N561AA               57.0  ...      -1.0     IAH   DFW   \n",
      "...          ...     ...                ...  ...       ...     ...   ...   \n",
      "19970       1583  N14645               48.0  ...      -4.0     IAH   AUS   \n",
      "19971       1586  N57863              118.0  ...       0.0     IAH   MCO   \n",
      "19972       1589  N17233              217.0  ...       2.0     IAH   SAN   \n",
      "19973       1590  N17233              129.0  ...       3.0     IAH   MIA   \n",
      "19974       1603  N17719               45.0  ...      65.0     IAH   AUS   \n",
      "19975       1605  N73406              235.0  ...      11.0     IAH   LAX   \n",
      "19976       1620  N75433              167.0  ...     108.0     IAH   PHX   \n",
      "19977       1621  N37255               65.0  ...     102.0     IAH   MFE   \n",
      "19978       1623  N13750               59.0  ...       2.0     IAH   MSY   \n",
      "19979       1629  N23707              219.0  ...      -4.0     IAH   SNA   \n",
      "19980       1632  N21723              194.0  ...     145.0     IAH   LGA   \n",
      "19981       1644  N79279              249.0  ...       1.0     IAH   SMF   \n",
      "19982       1646  N57864              146.0  ...      40.0     IAH   ORD   \n",
      "19983       1648  N77867              132.0  ...       2.0     IAH   FLL   \n",
      "19984       1662  N75433              114.0  ...      45.0     IAH   RSW   \n",
      "19985       1675  N12221               70.0  ...      -3.0     IAH   DFW   \n",
      "19986       1676  N33294              180.0  ...     109.0     IAH   PHL   \n",
      "19987       1679  N14639               71.0  ...      -6.0     IAH   SAT   \n",
      "19988       1688  N54241              165.0  ...      16.0     IAH   DTW   \n",
      "19989       1689  N24211              216.0  ...      -1.0     IAH   SAN   \n",
      "19990       1690  N33294              132.0  ...      -1.0     IAH   MIA   \n",
      "19991       1695  N14231              234.0  ...      96.0     IAH   LAX   \n",
      "19992       1711  N16648               91.0  ...      -7.0     IAH   OKC   \n",
      "19993       1714  N32404              269.0  ...      -2.0     IAH   SMF   \n",
      "19994       1717  N37290              205.0  ...       1.0     IAH   SAN   \n",
      "19995       1719  N19621              187.0  ...      -4.0     IAH   MTJ   \n",
      "19996       1723  N37298              210.0  ...      11.0     IAH   ONT   \n",
      "19997       1746  N37408              146.0  ...      -3.0     IAH   ORD   \n",
      "19998       1748  N27239              127.0  ...      12.0     IAH   FLL   \n",
      "19999       1757  N14604              118.0  ...       5.0     IAH   ATL   \n",
      "\n",
      "      Distance TaxiIn  TaxiOut  Cancelled  CancellationCode  Diverted  \\\n",
      "0          224    7.0     13.0          0               NaN         0   \n",
      "1          224    6.0      9.0          0               NaN         0   \n",
      "2          224    5.0     17.0          0               NaN         0   \n",
      "3          224    9.0     22.0          0               NaN         0   \n",
      "4          224    9.0      9.0          0               NaN         0   \n",
      "5          224    6.0     13.0          0               NaN         0   \n",
      "6          224   12.0     15.0          0               NaN         0   \n",
      "7          224    7.0     12.0          0               NaN         0   \n",
      "8          224    8.0     22.0          0               NaN         0   \n",
      "9          224    6.0     19.0          0               NaN         0   \n",
      "10         224    8.0     20.0          0               NaN         0   \n",
      "11         224    4.0     11.0          0               NaN         0   \n",
      "12         224    6.0     13.0          0               NaN         0   \n",
      "13         224    5.0     15.0          0               NaN         0   \n",
      "14         224    6.0     10.0          0               NaN         0   \n",
      "15         224   12.0     17.0          0               NaN         0   \n",
      "16         224    8.0      8.0          0               NaN         0   \n",
      "17         224    7.0     11.0          0               NaN         0   \n",
      "18         224   10.0     11.0          0               NaN         0   \n",
      "19         224    9.0     24.0          0               NaN         0   \n",
      "20         224    6.0      9.0          0               NaN         0   \n",
      "21         224    9.0      8.0          0               NaN         0   \n",
      "22         224    7.0     18.0          0               NaN         0   \n",
      "23         224    6.0     28.0          0               NaN         0   \n",
      "24         224    7.0     13.0          0               NaN         0   \n",
      "25         224    8.0     14.0          0               NaN         0   \n",
      "26         224   12.0     10.0          0               NaN         0   \n",
      "27         224    8.0     12.0          0               NaN         0   \n",
      "28         224    7.0      7.0          0               NaN         0   \n",
      "29         224    7.0     11.0          0               NaN         0   \n",
      "...        ...    ...      ...        ...               ...       ...   \n",
      "19970      140    6.0     14.0          0               NaN         0   \n",
      "19971      853    6.0     12.0          0               NaN         0   \n",
      "19972     1303    3.0     21.0          0               NaN         0   \n",
      "19973      964    9.0     10.0          0               NaN         0   \n",
      "19974      140    4.0     13.0          0               NaN         0   \n",
      "19975     1379   11.0     23.0          0               NaN         0   \n",
      "19976     1009    3.0     21.0          0               NaN         0   \n",
      "19977      316    4.0     11.0          0               NaN         0   \n",
      "19978      305    5.0     13.0          0               NaN         0   \n",
      "19979     1347    7.0     17.0          0               NaN         0   \n",
      "19980     1416    5.0     31.0          0               NaN         0   \n",
      "19981     1609    5.0     14.0          0               NaN         0   \n",
      "19982      925   22.0     13.0          0               NaN         0   \n",
      "19983      965    3.0     18.0          0               NaN         0   \n",
      "19984      861    5.0     14.0          0               NaN         0   \n",
      "19985      224   10.0     19.0          0               NaN         0   \n",
      "19986     1324    6.0     17.0          0               NaN         0   \n",
      "19987      191    5.0     25.0          0               NaN         0   \n",
      "19988     1076   12.0     21.0          0               NaN         0   \n",
      "19989     1303    5.0     15.0          0               NaN         0   \n",
      "19990      964   10.0     15.0          0               NaN         0   \n",
      "19991     1379    8.0     25.0          0               NaN         0   \n",
      "19992      395    5.0     25.0          0               NaN         0   \n",
      "19993     1609    7.0     15.0          0               NaN         0   \n",
      "19994     1303    3.0     12.0          0               NaN         0   \n",
      "19995      926    5.0     30.0          0               NaN         0   \n",
      "19996     1334    5.0     12.0          0               NaN         0   \n",
      "19997      925   17.0     14.0          0               NaN         0   \n",
      "19998      965    6.0     15.0          0               NaN         0   \n",
      "19999      689   13.0     22.0          0               NaN         0   \n",
      "\n",
      "      NonAirTime  \n",
      "0           20.0  \n",
      "1           15.0  \n",
      "2           22.0  \n",
      "3           31.0  \n",
      "4           18.0  \n",
      "5           19.0  \n",
      "6           27.0  \n",
      "7           19.0  \n",
      "8           30.0  \n",
      "9           25.0  \n",
      "10          28.0  \n",
      "11          15.0  \n",
      "12          19.0  \n",
      "13          20.0  \n",
      "14          16.0  \n",
      "15          29.0  \n",
      "16          16.0  \n",
      "17          18.0  \n",
      "18          21.0  \n",
      "19          33.0  \n",
      "20          15.0  \n",
      "21          17.0  \n",
      "22          25.0  \n",
      "23          34.0  \n",
      "24          20.0  \n",
      "25          22.0  \n",
      "26          22.0  \n",
      "27          20.0  \n",
      "28          14.0  \n",
      "29          18.0  \n",
      "...          ...  \n",
      "19970       20.0  \n",
      "19971       18.0  \n",
      "19972       24.0  \n",
      "19973       19.0  \n",
      "19974       17.0  \n",
      "19975       34.0  \n",
      "19976       24.0  \n",
      "19977       15.0  \n",
      "19978       18.0  \n",
      "19979       24.0  \n",
      "19980       36.0  \n",
      "19981       19.0  \n",
      "19982       35.0  \n",
      "19983       21.0  \n",
      "19984       19.0  \n",
      "19985       29.0  \n",
      "19986       23.0  \n",
      "19987       30.0  \n",
      "19988       33.0  \n",
      "19989       20.0  \n",
      "19990       25.0  \n",
      "19991       33.0  \n",
      "19992       30.0  \n",
      "19993       22.0  \n",
      "19994       15.0  \n",
      "19995       35.0  \n",
      "19996       17.0  \n",
      "19997       31.0  \n",
      "19998       21.0  \n",
      "19999       35.0  \n",
      "\n",
      "[15681 rows x 22 columns]\n"
     ]
    }
   ],
   "source": [
    "#making the new column in the IAH dataframe\n",
    "Flight_Project_IAH['NonAirTime'] = (Flight_Project_IAH[\"ActualElapsedTime\"] - Flight_Project_IAH[\"AirTime\"])\n",
    "print(Flight_Project_IAH)"
   ]
  },
  {
   "cell_type": "code",
   "execution_count": 188,
   "metadata": {},
   "outputs": [
    {
     "data": {
      "image/png": "[encoded data removed]",
      "text/plain": [
       "<Figure size 432x288 with 1 Axes>"
      ]
     },
     "metadata": {
      "needs_background": "light"
     },
     "output_type": "display_data"
    }
   ],
   "source": [
    "##bar graph for IAH\n",
    "bins= [0,10,20,30,40,50,60,70,80]\n",
    "plt.hist(Flight_Project_IAH.NonAirTime , bins=bins, edgecolor=\"k\")\n",
    "plt.xticks(bins)\n",
    "\n",
    "plt.show()"
   ]
  },
  {
   "cell_type": "code",
   "execution_count": 181,
   "metadata": {},
   "outputs": [
    {
     "data": {
      "text/plain": [
       "count    15492.000000\n",
       "mean        23.081655\n",
       "std          8.219999\n",
       "min          8.000000\n",
       "25%         18.000000\n",
       "50%         21.000000\n",
       "75%         27.000000\n",
       "max        176.000000\n",
       "Name: NonAirTime, dtype: float64"
      ]
     },
     "execution_count": 181,
     "metadata": {},
     "output_type": "execute_result"
    }
   ],
   "source": [
    "##descriptive statistics for IAH\n",
    "Flight_Project_IAH.NonAirTime.describe()"
   ]
  },
  {
   "cell_type": "code",
   "execution_count": 183,
   "metadata": {},
   "outputs": [
    {
     "name": "stdout",
     "output_type": "stream",
     "text": [
      "       Year  Month  DayofMonth  DayOfWeek  DepTime  ArrTime UniqueCarrier  \\\n",
      "304    2011      1           1          6    654.0   1124.0            B6   \n",
      "305    2011      1           1          6   1639.0   2110.0            B6   \n",
      "306    2011      1           2          7    703.0   1113.0            B6   \n",
      "307    2011      1           2          7   1604.0   2040.0            B6   \n",
      "308    2011      1           3          1    659.0   1100.0            B6   \n",
      "309    2011      1           3          1   1801.0   2200.0            B6   \n",
      "310    2011      1           4          2    654.0   1103.0            B6   \n",
      "311    2011      1           4          2   1608.0   2034.0            B6   \n",
      "312    2011      1           5          3    700.0   1103.0            B6   \n",
      "313    2011      1           5          3   1544.0   1954.0            B6   \n",
      "314    2011      1           6          4   1532.0   1943.0            B6   \n",
      "315    2011      1           7          5    654.0   1117.0            B6   \n",
      "316    2011      1           7          5   1542.0   1956.0            B6   \n",
      "317    2011      1           8          6    654.0   1058.0            B6   \n",
      "318    2011      1           9          7    653.0   1059.0            B6   \n",
      "319    2011      1           9          7   1618.0   2057.0            B6   \n",
      "320    2011      1          10          1    656.0   1102.0            B6   \n",
      "321    2011      1          10          1   1554.0   2001.0            B6   \n",
      "322    2011      1          11          2    653.0   1053.0            B6   \n",
      "323    2011      1          11          2      NaN      NaN            B6   \n",
      "324    2011      1          12          3   1532.0   1953.0            B6   \n",
      "325    2011      1          13          4   1522.0   1938.0            B6   \n",
      "326    2011      1          14          5    808.0   1229.0            B6   \n",
      "327    2011      1          14          5   1534.0   2015.0            B6   \n",
      "328    2011      1          15          6    700.0   1114.0            B6   \n",
      "329    2011      1          16          7    652.0   1055.0            B6   \n",
      "330    2011      1          16          7   1551.0   2004.0            B6   \n",
      "331    2011      1          17          1    730.0   1135.0            B6   \n",
      "332    2011      1          17          1   1531.0   1946.0            B6   \n",
      "333    2011      1          18          2    659.0   1102.0            B6   \n",
      "...     ...    ...         ...        ...      ...      ...           ...   \n",
      "19203  2011      2          13          7   1529.0   2012.0            B6   \n",
      "19204  2011      2          14          1    655.0   1113.0            B6   \n",
      "19205  2011      2          14          1   1532.0   1950.0            B6   \n",
      "19206  2011      2          15          2    658.0   1118.0            B6   \n",
      "19207  2011      2          15          2   1541.0   2007.0            B6   \n",
      "19208  2011      2          16          3   1527.0   2003.0            B6   \n",
      "19209  2011      2          17          4    708.0   2058.0            B6   \n",
      "19210  2011      2          17          4   1742.0   2200.0            B6   \n",
      "19211  2011      2          18          5    658.0   1109.0            B6   \n",
      "19212  2011      2          18          5   1534.0   2024.0            B6   \n",
      "19213  2011      2          19          6    703.0   1114.0            B6   \n",
      "19214  2011      2          19          6   1653.0   2207.0            B6   \n",
      "19215  2011      2          20          7   1107.0   1517.0            B6   \n",
      "19216  2011      2          20          7   1530.0   2000.0            B6   \n",
      "19217  2011      2          21          1    657.0   1106.0            B6   \n",
      "19218  2011      2          21          1   1545.0   1956.0            B6   \n",
      "19219  2011      2          22          2    659.0   1108.0            B6   \n",
      "19220  2011      2          22          2   1535.0   1949.0            B6   \n",
      "19221  2011      2          23          3    700.0   1106.0            B6   \n",
      "19222  2011      2          23          3   1546.0   2002.0            B6   \n",
      "19223  2011      2          24          4    653.0   1102.0            B6   \n",
      "19224  2011      2          24          4   1545.0   2013.0            B6   \n",
      "19225  2011      2          25          5    653.0   1130.0            B6   \n",
      "19226  2011      2          25          5   1824.0   2314.0            B6   \n",
      "19227  2011      2          26          6    652.0   1054.0            B6   \n",
      "19228  2011      2          26          6   1538.0   1951.0            B6   \n",
      "19229  2011      2          27          7    658.0   1107.0            B6   \n",
      "19230  2011      2          27          7   1606.0   2020.0            B6   \n",
      "19231  2011      2          28          1    655.0   1115.0            B6   \n",
      "19232  2011      2          28          1   1710.0   2145.0            B6   \n",
      "\n",
      "       FlightNum TailNum  ActualElapsedTime  ...  DepDelay  Origin  Dest  \\\n",
      "304          620  N324JB              210.0  ...      -6.0     HOU   JFK   \n",
      "305          622  N324JB              211.0  ...      54.0     HOU   JFK   \n",
      "306          620  N324JB              190.0  ...       3.0     HOU   JFK   \n",
      "307          622  N324JB              216.0  ...      19.0     HOU   JFK   \n",
      "308          620  N229JB              181.0  ...      -1.0     HOU   JFK   \n",
      "309          622  N206JB              179.0  ...     136.0     HOU   JFK   \n",
      "310          620  N267JB              189.0  ...      -6.0     HOU   JFK   \n",
      "311          622  N267JB              206.0  ...      23.0     HOU   JFK   \n",
      "312          620  N708JB              183.0  ...       0.0     HOU   JFK   \n",
      "313          624  N644JB              190.0  ...       9.0     HOU   JFK   \n",
      "314          624  N641JB              191.0  ...      -3.0     HOU   JFK   \n",
      "315          620  N641JB              203.0  ...      -6.0     HOU   JFK   \n",
      "316          624  N564JB              194.0  ...       7.0     HOU   JFK   \n",
      "317          620  N630JB              184.0  ...      -6.0     HOU   JFK   \n",
      "318          620  N599JB              186.0  ...      -7.0     HOU   JFK   \n",
      "319          624  N625JB              219.0  ...      43.0     HOU   JFK   \n",
      "320          620  N625JB              186.0  ...      -4.0     HOU   JFK   \n",
      "321          624  N504JB              187.0  ...      19.0     HOU   JFK   \n",
      "322          620  N504JB              180.0  ...      -7.0     HOU   JFK   \n",
      "323          624  N537JB                NaN  ...       NaN     HOU   JFK   \n",
      "324          624  N504JB              201.0  ...      -3.0     HOU   JFK   \n",
      "325          624  N597JB              196.0  ...     -13.0     HOU   JFK   \n",
      "326          620  N597JB              201.0  ...      68.0     HOU   JFK   \n",
      "327          624  N729JB              221.0  ...      -1.0     HOU   JFK   \n",
      "328          620  N503JB              194.0  ...       0.0     HOU   JFK   \n",
      "329          620  N706JB              183.0  ...      -8.0     HOU   JFK   \n",
      "330          624  N565JB              193.0  ...      16.0     HOU   JFK   \n",
      "331          620  N523JB              185.0  ...      30.0     HOU   JFK   \n",
      "332          624  N779JB              195.0  ...      -4.0     HOU   JFK   \n",
      "333          620  N779JB              183.0  ...      -1.0     HOU   JFK   \n",
      "...          ...     ...                ...  ...       ...     ...   ...   \n",
      "19203        624  N630JB              223.0  ...      -6.0     HOU   JFK   \n",
      "19204        620  N526JB              198.0  ...      -5.0     HOU   JFK   \n",
      "19205        624  N648JB              198.0  ...      -3.0     HOU   JFK   \n",
      "19206        620  N648JB              200.0  ...      -2.0     HOU   JFK   \n",
      "19207        624  N615JB              206.0  ...       6.0     HOU   JFK   \n",
      "19208        624  N661JB              216.0  ...      -8.0     HOU   JFK   \n",
      "19209        620  N247JB                NaN  ...       8.0     HOU   JFK   \n",
      "19210        624  N289JB              198.0  ...     127.0     HOU   JFK   \n",
      "19211        620  N228JB              191.0  ...      -2.0     HOU   JFK   \n",
      "19212        624  N228JB              230.0  ...      -1.0     HOU   JFK   \n",
      "19213        620  N228JB              191.0  ...       3.0     HOU   JFK   \n",
      "19214        624  N228JB              254.0  ...      78.0     HOU   JFK   \n",
      "19215        620  N766JB              190.0  ...     247.0     HOU   JFK   \n",
      "19216        624  N190JB              210.0  ...      -5.0     HOU   JFK   \n",
      "19217        620  N316JB              189.0  ...      -3.0     HOU   JFK   \n",
      "19218        624  N179JB              191.0  ...      10.0     HOU   JFK   \n",
      "19219        620  N197JB              189.0  ...      -1.0     HOU   JFK   \n",
      "19220        624  N197JB              194.0  ...       0.0     HOU   JFK   \n",
      "19221        620  N318JB              186.0  ...       0.0     HOU   JFK   \n",
      "19222        624  N318JB              196.0  ...      11.0     HOU   JFK   \n",
      "19223        620  N179JB              189.0  ...      -7.0     HOU   JFK   \n",
      "19224        624  N179JB              208.0  ...      10.0     HOU   JFK   \n",
      "19225        620  N292JB              217.0  ...      -7.0     HOU   JFK   \n",
      "19226        624  N273JB              230.0  ...     169.0     HOU   JFK   \n",
      "19227        620  N292JB              182.0  ...      -8.0     HOU   JFK   \n",
      "19228        624  N292JB              193.0  ...       3.0     HOU   JFK   \n",
      "19229        620  N198JB              189.0  ...      -2.0     HOU   JFK   \n",
      "19230        624  N198JB              194.0  ...      31.0     HOU   JFK   \n",
      "19231        620  N206JB              200.0  ...      -5.0     HOU   JFK   \n",
      "19232        624  N206JB              215.0  ...      95.0     HOU   JFK   \n",
      "\n",
      "      Distance TaxiIn  TaxiOut  Cancelled  CancellationCode  Diverted  \\\n",
      "304       1428    6.0     23.0          0               NaN         0   \n",
      "305       1428   12.0     11.0          0               NaN         0   \n",
      "306       1428    6.0     12.0          0               NaN         0   \n",
      "307       1428    9.0     31.0          0               NaN         0   \n",
      "308       1428    3.0     12.0          0               NaN         0   \n",
      "309       1428    5.0      9.0          0               NaN         0   \n",
      "310       1428    9.0     12.0          0               NaN         0   \n",
      "311       1428    8.0     23.0          0               NaN         0   \n",
      "312       1428    4.0     12.0          0               NaN         0   \n",
      "313       1428   14.0     10.0          0               NaN         0   \n",
      "314       1428    7.0      9.0          0               NaN         0   \n",
      "315       1428    6.0     25.0          0               NaN         0   \n",
      "316       1428    9.0     10.0          0               NaN         0   \n",
      "317       1428    9.0     13.0          0               NaN         0   \n",
      "318       1428    3.0     20.0          0               NaN         0   \n",
      "319       1428   11.0     12.0          0               NaN         0   \n",
      "320       1428    4.0     16.0          0               NaN         0   \n",
      "321       1428    7.0     10.0          0               NaN         0   \n",
      "322       1428    5.0     14.0          0               NaN         0   \n",
      "323       1428    NaN      NaN          1                 B         0   \n",
      "324       1428    8.0     16.0          0               NaN         0   \n",
      "325       1428    8.0     10.0          0               NaN         0   \n",
      "326       1428    7.0      9.0          0               NaN         0   \n",
      "327       1428    8.0     24.0          0               NaN         0   \n",
      "328       1428    4.0     17.0          0               NaN         0   \n",
      "329       1428    4.0     13.0          0               NaN         0   \n",
      "330       1428    5.0     12.0          0               NaN         0   \n",
      "331       1428    4.0     13.0          0               NaN         0   \n",
      "332       1428    7.0     15.0          0               NaN         0   \n",
      "333       1428    6.0     15.0          0               NaN         0   \n",
      "...        ...    ...      ...        ...               ...       ...   \n",
      "19203     1428   10.0      9.0          0               NaN         0   \n",
      "19204     1428    8.0     12.0          0               NaN         0   \n",
      "19205     1428    4.0     11.0          0               NaN         0   \n",
      "19206     1428    8.0     14.0          0               NaN         0   \n",
      "19207     1428   13.0     15.0          0               NaN         0   \n",
      "19208     1428    7.0     13.0          0               NaN         0   \n",
      "19209     1428   10.0      8.0          0               NaN         1   \n",
      "19210     1428    4.0     13.0          0               NaN         0   \n",
      "19211     1428    5.0      7.0          0               NaN         0   \n",
      "19212     1428    9.0     35.0          0               NaN         0   \n",
      "19213     1428    4.0     16.0          0               NaN         0   \n",
      "19214     1428    5.0     41.0          0               NaN         0   \n",
      "19215     1428    3.0     10.0          0               NaN         0   \n",
      "19216     1428    7.0     17.0          0               NaN         0   \n",
      "19217     1428    9.0     10.0          0               NaN         0   \n",
      "19218     1428    7.0     13.0          0               NaN         0   \n",
      "19219     1428    8.0     11.0          0               NaN         0   \n",
      "19220     1428    6.0     17.0          0               NaN         0   \n",
      "19221     1428    4.0      9.0          0               NaN         0   \n",
      "19222     1428    5.0     16.0          0               NaN         0   \n",
      "19223     1428    5.0      9.0          0               NaN         0   \n",
      "19224     1428    4.0     11.0          0               NaN         0   \n",
      "19225     1428    9.0     11.0          0               NaN         0   \n",
      "19226     1428    3.0     59.0          0               NaN         0   \n",
      "19227     1428    2.0     11.0          0               NaN         0   \n",
      "19228     1428    7.0      8.0          0               NaN         0   \n",
      "19229     1428    9.0     10.0          0               NaN         0   \n",
      "19230     1428    9.0      6.0          0               NaN         0   \n",
      "19231     1428    4.0     12.0          0               NaN         0   \n",
      "19232     1428    6.0     15.0          0               NaN         0   \n",
      "\n",
      "      NonAirTime  \n",
      "304         29.0  \n",
      "305         23.0  \n",
      "306         18.0  \n",
      "307         40.0  \n",
      "308         15.0  \n",
      "309         14.0  \n",
      "310         21.0  \n",
      "311         31.0  \n",
      "312         16.0  \n",
      "313         24.0  \n",
      "314         16.0  \n",
      "315         31.0  \n",
      "316         19.0  \n",
      "317         22.0  \n",
      "318         23.0  \n",
      "319         23.0  \n",
      "320         20.0  \n",
      "321         17.0  \n",
      "322         19.0  \n",
      "323          NaN  \n",
      "324         24.0  \n",
      "325         18.0  \n",
      "326         16.0  \n",
      "327         32.0  \n",
      "328         21.0  \n",
      "329         17.0  \n",
      "330         17.0  \n",
      "331         17.0  \n",
      "332         22.0  \n",
      "333         21.0  \n",
      "...          ...  \n",
      "19203       19.0  \n",
      "19204       20.0  \n",
      "19205       15.0  \n",
      "19206       22.0  \n",
      "19207       28.0  \n",
      "19208       20.0  \n",
      "19209        NaN  \n",
      "19210       17.0  \n",
      "19211       12.0  \n",
      "19212       44.0  \n",
      "19213       20.0  \n",
      "19214       46.0  \n",
      "19215       13.0  \n",
      "19216       24.0  \n",
      "19217       19.0  \n",
      "19218       20.0  \n",
      "19219       19.0  \n",
      "19220       23.0  \n",
      "19221       13.0  \n",
      "19222       21.0  \n",
      "19223       14.0  \n",
      "19224       15.0  \n",
      "19225       20.0  \n",
      "19226       62.0  \n",
      "19227       13.0  \n",
      "19228       15.0  \n",
      "19229       19.0  \n",
      "19230       15.0  \n",
      "19231       16.0  \n",
      "19232       21.0  \n",
      "\n",
      "[4319 rows x 22 columns]\n"
     ]
    }
   ],
   "source": [
    "##making new column in HOU dataframe\n",
    "Flight_Project_HOU['NonAirTime'] = (Flight_Project_HOU[\"ActualElapsedTime\"] - Flight_Project_HOU[\"AirTime\"])\n",
    "print(Flight_Project_HOU)"
   ]
  },
  {
   "cell_type": "code",
   "execution_count": 187,
   "metadata": {},
   "outputs": [
    {
     "data": {
      "image/png": "[encoded data removed]",
      "text/plain": [
       "<Figure size 432x288 with 1 Axes>"
      ]
     },
     "metadata": {
      "needs_background": "light"
     },
     "output_type": "display_data"
    }
   ],
   "source": [
    "##bar graph for HOU\n",
    "bins= [0,10,20,30,40,50,60,70,80]\n",
    "plt.hist(Flight_Project_HOU.NonAirTime , bins=bins, edgecolor=\"k\")\n",
    "plt.xticks(bins)\n",
    "\n",
    "plt.show()"
   ]
  },
  {
   "cell_type": "code",
   "execution_count": 190,
   "metadata": {},
   "outputs": [
    {
     "data": {
      "text/plain": [
       "count    4246.000000\n",
       "mean       14.385539\n",
       "std         5.428622\n",
       "min         6.000000\n",
       "25%        11.000000\n",
       "50%        13.000000\n",
       "75%        16.000000\n",
       "max        74.000000\n",
       "Name: NonAirTime, dtype: float64"
      ]
     },
     "execution_count": 190,
     "metadata": {},
     "output_type": "execute_result"
    }
   ],
   "source": [
    "Flight_Project_HOU.NonAirTime.describe()"
   ]
  },
  {
   "cell_type": "markdown",
   "metadata": {},
   "source": [
    "Interesting data we have found!"
   ]
  },
  {
   "cell_type": "markdown",
   "metadata": {},
   "source": [
    "Some observations to make:"
   ]
  },
  {
   "cell_type": "markdown",
   "metadata": {},
   "source": [
    "-HOU's NonAirTime mean was about only 62% that of IAH's. (5.42 min vs. 8.21 min)"
   ]
  },
  {
   "cell_type": "markdown",
   "metadata": {},
   "source": [
    "-HOU's data was packed closer together than that of IAH's! HOU's Range (max-min) was 68 minutes while IAH's was 168 minutes. That is a big difference in the \"spread of the data\""
   ]
  },
  {
   "cell_type": "markdown",
   "metadata": {},
   "source": [
    "To refer to the empirical rule again\n",
    "\n",
    "-68% of the data for IAH falls between the mean and +/- one standard deviation. (14.8616 min. and 31.3016 min.)\n",
    "-95% of the data for IAH falls between the mean and +/- two standard deviations. (6.6416 min and 39.5216 min.)\n",
    "-99.7% of the data for IAH falls between the mean and +/- three standard deviations. (-1.5783 min. and 47.7416 min.)\n"
   ]
  },
  {
   "cell_type": "markdown",
   "metadata": {},
   "source": [
    "-68% of the data for HOU falls between the mean and +/- one standard deviation. (8.9569 min and 19.8141 min)\n",
    "-95% of the data for HOU falls between the mean and +/- two standard deviations. (3.5282 min. and 25.2427 min )\n",
    "-99.7% of the data for HOU falls between the mean and +/- three standard deviations. (-1.9003 min. and 30.6714 min.)\n",
    "\n",
    "95% chance of having a NonAirTime of sub 25 min versus a 95% chance of having a sub 40 min NonAirTime"
   ]
  },
  {
   "cell_type": "markdown",
   "metadata": {},
   "source": [
    "According to these findings, it seems clear that HOU is the better airport if you want less time on the ground and more time in the air!"
   ]
  },
  {
   "cell_type": "code",
   "execution_count": null,
   "metadata": {},
   "outputs": [],
   "source": []
  }
 ],
 "metadata": {
  "kernelspec": {
   "display_name": "Python 3",
   "language": "python",
   "name": "python3"
  },
  "language_info": {
   "codemirror_mode": {
    "name": "ipython",
    "version": 3
   },
   "file_extension": ".py",
   "mimetype": "text/x-python",
   "name": "python",
   "nbconvert_exporter": "python",
   "pygments_lexer": "ipython3",
   "version": "3.7.3"
  }
 },
 "nbformat": 4,
 "nbformat_minor": 2
}
