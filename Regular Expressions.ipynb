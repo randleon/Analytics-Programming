{
 "cells": [
  {
   "cell_type": "markdown",
   "metadata": {},
   "source": [
    "# Week Assignment 8: Regular Expressions by Randy Leon"
   ]
  },
  {
   "cell_type": "code",
   "execution_count": 547,
   "metadata": {},
   "outputs": [],
   "source": [
    "## importing the tools I need.\n",
    "import numpy as np\n",
    "import pandas as pd\n",
    "import re as regex\n",
    "from pandas import DataFrame"
   ]
  },
  {
   "cell_type": "markdown",
   "metadata": {},
   "source": [
    "1. Extract the names of each individual from the unformatted text string and store them in a vector of some sort. When complete, your vector should contain the following entries:"
   ]
  },
  {
   "cell_type": "code",
   "execution_count": 548,
   "metadata": {},
   "outputs": [],
   "source": [
    "#naming the database 'SimpsonNames' from the CSV file I made by copying and pasting the string from the HW assignment\n",
    "filename = \"/Users/RandyLeon/Desktop/REGEX_ASSIGNMENT.csv\"\n",
    "SimpsonNames = pd.read_csv(filename)"
   ]
  },
  {
   "cell_type": "code",
   "execution_count": 549,
   "metadata": {},
   "outputs": [
    {
     "name": "stdout",
     "output_type": "stream",
     "text": [
      "Empty DataFrame\n",
      "Columns: [\"555-1239Moe Szyslak(636) 555-0113Burns, C. Montgomery555 -6542Rev. Timothy Lovejoy555 8904Ned Flanders636-555-3226Simpson, Homer5553642Dr. Julius Hibbert\" ]\n",
      "Index: []\n"
     ]
    }
   ],
   "source": [
    "#sanity check\n",
    "print(SimpsonNames);"
   ]
  },
  {
   "cell_type": "code",
   "execution_count": 550,
   "metadata": {},
   "outputs": [
    {
     "name": "stdout",
     "output_type": "stream",
     "text": [
      "'\"\"\"555-1239Moe Szyslak(636) 555-0113Burns, C. Montgomery555 -6542Rev. Timothy Lovejoy555 8904Ned Flanders636-555-3226Simpson, Homer5553642Dr. Julius Hibbert\"\" \"'\n"
     ]
    }
   ],
   "source": [
    "##found out how to convert csv to a string variable using this link: \n",
    "##https://stackoverflow.com/questions/40444821/convert-csv-to-a-string-variable\n",
    "with open(\"/Users/RandyLeon/Desktop/REGEX_ASSIGNMENT.csv\") as f:\n",
    "    s = f.read()\n",
    "print(repr(s))"
   ]
  },
  {
   "cell_type": "markdown",
   "metadata": {},
   "source": [
    "Here I was successfully able to upload the text file and make it a string I can work with in the Jupyter environment"
   ]
  },
  {
   "cell_type": "markdown",
   "metadata": {},
   "source": [
    "Below I took a piecewise approach with regex so as to not try and make one complicated string"
   ]
  },
  {
   "cell_type": "code",
   "execution_count": 551,
   "metadata": {},
   "outputs": [
    {
     "name": "stdout",
     "output_type": "stream",
     "text": [
      "\"\"\"555-1239Moe Szyslak555-0113Burns, C. Montgomery555 -6542Rev. Timothy Lovejoy555 8904Ned Flanders636-555-3226Simpson, Homer5553642Dr. Julius Hibbert\"\" \"\n"
     ]
    }
   ],
   "source": [
    "#delete three digit area codes enclosed in a parentheses from my string\n",
    "s = re.sub(r\"(\\(\\d{3}\\) ?)\", \"\", s);  \n",
    "print(s)"
   ]
  },
  {
   "cell_type": "code",
   "execution_count": 552,
   "metadata": {},
   "outputs": [
    {
     "name": "stdout",
     "output_type": "stream",
     "text": [
      "\"\"\"5551239Moe Szyslak5550113Burns, C. Montgomery555 6542Rev. Timothy Lovejoy555 8904Ned Flanders6365553226Simpson, Homer5553642Dr. Julius Hibbert\"\" \"\n"
     ]
    }
   ],
   "source": [
    "#delete hyphens leftover from phone numbers.\n",
    "s = re.sub(r\"(-)\", \"\", s);\n",
    "print(s)"
   ]
  },
  {
   "cell_type": "code",
   "execution_count": 553,
   "metadata": {},
   "outputs": [
    {
     "name": "stdout",
     "output_type": "stream",
     "text": [
      "\"\"\"9Moe Szyslak3Burns, C. Montgomery 2Rev. Timothy Lovejoy 4Ned Flanders6Simpson, Homer2Dr. Julius Hibbert\"\" \"\n"
     ]
    }
   ],
   "source": [
    "#delete all clusters of three digits\n",
    "s = re.sub(r\"(([0-9]{3}))\", \"\", s);\n",
    "print(s)"
   ]
  },
  {
   "cell_type": "code",
   "execution_count": 554,
   "metadata": {},
   "outputs": [
    {
     "name": "stdout",
     "output_type": "stream",
     "text": [
      "\"\"\" Moe Szyslak Burns, C. Montgomery  Rev. Timothy Lovejoy  Ned Flanders Simpson, Homer Dr. Julius Hibbert\"\" \"\n"
     ]
    }
   ],
   "source": [
    "#delete all remaining digits\n",
    "s = re.sub(r\"(([0-9]{1}))\", \" \", s);\n",
    "print(s)"
   ]
  },
  {
   "cell_type": "code",
   "execution_count": null,
   "metadata": {},
   "outputs": [],
   "source": []
  },
  {
   "cell_type": "markdown",
   "metadata": {},
   "source": [
    "2.Using your new vector containing only the names of the six individuals, complete the following tasks:"
   ]
  },
  {
   "cell_type": "markdown",
   "metadata": {},
   "source": [
    "a) Use your regex skills to rearrange the vector so that all elements conform to the standard, \"firstname lastname\" convention, preserving any titles. (e.g. Dr. or Rev.) and/or middle or second names."
   ]
  },
  {
   "cell_type": "code",
   "execution_count": 555,
   "metadata": {},
   "outputs": [],
   "source": [
    "#turns out switching name orientation is a common task needed.\n",
    "#found out how to switch names conveniently in regex from the following link:\n",
    "#https://stackoverflow.com/questions/51644998/extracting-name-as-first-name-last-name-in-python\n",
    "s=((re.sub(r\"([a-z'-]+), ([a-z'-]+)\", r'\\2 \\1', s, flags=re.IGNORECASE)))"
   ]
  },
  {
   "cell_type": "code",
   "execution_count": 574,
   "metadata": {},
   "outputs": [
    {
     "name": "stdout",
     "output_type": "stream",
     "text": [
      "\"\"\" Moe Szyslak C Burns. Montgomery  Rev. Timothy Lovejoy  Ned Flanders Homer Simpson Dr. Julius Hibbert\"\" \"\n"
     ]
    }
   ],
   "source": [
    "#sanity check\n",
    "print(s)\n"
   ]
  },
  {
   "cell_type": "markdown",
   "metadata": {},
   "source": [
    "b) Construct a logical vector indicating whether a character has a title (i.e., Rev. and Dr.)\n"
   ]
  },
  {
   "cell_type": "code",
   "execution_count": 575,
   "metadata": {},
   "outputs": [
    {
     "data": {
      "text/plain": [
       "['Rev.', 'Dr.']"
      ]
     },
     "execution_count": 575,
     "metadata": {},
     "output_type": "execute_result"
    }
   ],
   "source": [
    "#how to find all of the titles in the list. Made this regex assuming all titles are at least two letters long in length.\n",
    "#(There is no one lettered title in the English language)\n",
    "re.findall(r\"(\"\"[A-Z]{1}[a-z]{1,2}\\.)\",s)"
   ]
  },
  {
   "cell_type": "markdown",
   "metadata": {},
   "source": [
    "I was able to find the only two titles in the string, Doctor and Reverend"
   ]
  },
  {
   "cell_type": "markdown",
   "metadata": {},
   "source": [
    "c)Construct a logical vector indicating whether a character has a middle/second name."
   ]
  },
  {
   "cell_type": "markdown",
   "metadata": {},
   "source": [
    "The only one with a second/middle name is C Burns. Montgomery. I can make my regex specific to just finding him."
   ]
  },
  {
   "cell_type": "code",
   "execution_count": 576,
   "metadata": {},
   "outputs": [
    {
     "data": {
      "text/plain": [
       "['C Burns. Montgomery']"
      ]
     },
     "execution_count": 576,
     "metadata": {},
     "output_type": "execute_result"
    }
   ],
   "source": [
    "#This regex searches for a single capital letter, followed by a period, followed by a whitespace,\n",
    "#followed by another capital letter, followed by a series of lowercase letters\n",
    "#followed by another whitespace, followed by another capital letter\n",
    "#finally followed by lowercase letters\n",
    "re.findall(r\"(\"\"[A-Z]+\\s+[A-Z]+[a-z]+\\.*\\s*[A-Z]*[a-z]+)\",s)"
   ]
  },
  {
   "cell_type": "code",
   "execution_count": null,
   "metadata": {},
   "outputs": [],
   "source": []
  },
  {
   "cell_type": "markdown",
   "metadata": {},
   "source": [
    " 3. Consider the HTML string \"title>+++BREAKING NEWS+++<title\". We would like to extract the first HTML tag (i.e.,\n",
    " “title”). To do so we write the regular expression “<.+>”. Explain why this fails and correct the expression."
   ]
  },
  {
   "cell_type": "code",
   "execution_count": 560,
   "metadata": {},
   "outputs": [],
   "source": [
    "#made variable for string given in assignment\n",
    "h = \"<title>+++BREAKING NEWS+++<title>\""
   ]
  },
  {
   "cell_type": "code",
   "execution_count": 561,
   "metadata": {},
   "outputs": [
    {
     "name": "stdout",
     "output_type": "stream",
     "text": [
      "<title>+++BREAKING NEWS+++<title>\n"
     ]
    }
   ],
   "source": [
    "#sanity check\n",
    "print(h)"
   ]
  },
  {
   "cell_type": "code",
   "execution_count": 562,
   "metadata": {},
   "outputs": [],
   "source": [
    "#inputting out the convention given in the assignment\n",
    "h = re.sub(r'[<.+>]', ' ', h)"
   ]
  },
  {
   "cell_type": "code",
   "execution_count": 563,
   "metadata": {},
   "outputs": [
    {
     "name": "stdout",
     "output_type": "stream",
     "text": [
      " title    BREAKING NEWS    title \n"
     ]
    }
   ],
   "source": [
    "#seeing what results\n",
    "print(h)"
   ]
  },
  {
   "cell_type": "markdown",
   "metadata": {},
   "source": [
    "The previous regex code simply gets rid of all plus signs in our string and changes them to whitespace."
   ]
  },
  {
   "cell_type": "code",
   "execution_count": 564,
   "metadata": {},
   "outputs": [],
   "source": [
    "#making a new string to work a solution\n",
    "h2 = \"<title>+++BREAKING NEWS+++<title>\""
   ]
  },
  {
   "cell_type": "code",
   "execution_count": 565,
   "metadata": {},
   "outputs": [
    {
     "data": {
      "text/plain": [
       "'<title>'"
      ]
     },
     "execution_count": 565,
     "metadata": {},
     "output_type": "execute_result"
    }
   ],
   "source": [
    "#code to find only the first \"<title>\" from new string h2\n",
    "#this link provided in the module helped me with this question:\n",
    "#https://www.machinelearningplus.com/python/python-regex-tutorial-examples/\n",
    "re.search('<\\w{5}>?', h2).group()"
   ]
  },
  {
   "cell_type": "markdown",
   "metadata": {},
   "source": [
    "This regex code now allowed me to return only the first instance of \"< title >\" \n",
    "This is also known as \"lazy matching\"."
   ]
  },
  {
   "cell_type": "code",
   "execution_count": null,
   "metadata": {},
   "outputs": [],
   "source": []
  },
  {
   "cell_type": "code",
   "execution_count": null,
   "metadata": {},
   "outputs": [],
   "source": []
  },
  {
   "cell_type": "markdown",
   "metadata": {},
   "source": [
    "4. Consider the string “(5-3)^2=5^2-2*5*3+3^2” conforms to the binomial theorem. We would like to extract the\n",
    " formula in the string. To do so we write the regular expression “[^0-9=+*()]+”. Explain why this fails and correct the expression."
   ]
  },
  {
   "cell_type": "code",
   "execution_count": 566,
   "metadata": {},
   "outputs": [],
   "source": [
    "#made variable to hold string \n",
    "Bi = \"(5-3)^2=5^2-2*5*3+3^2\""
   ]
  },
  {
   "cell_type": "code",
   "execution_count": 567,
   "metadata": {},
   "outputs": [
    {
     "data": {
      "text/plain": [
       "'-'"
      ]
     },
     "execution_count": 567,
     "metadata": {},
     "output_type": "execute_result"
    }
   ],
   "source": [
    "#seeing what the given code returns\n",
    "re.search('[^0-9=+*()]+', Bi).group()"
   ]
  },
  {
   "cell_type": "markdown",
   "metadata": {},
   "source": [
    "All that regex appeared to do was match the minus sign from our string of numbers"
   ]
  },
  {
   "cell_type": "code",
   "execution_count": 568,
   "metadata": {},
   "outputs": [],
   "source": [
    "#replacing 5's with a's.\n",
    "Bi = re.sub(r\"5\", \"a\", Bi)"
   ]
  },
  {
   "cell_type": "code",
   "execution_count": 569,
   "metadata": {},
   "outputs": [],
   "source": [
    "#replacing 3's with b's.\n",
    "Bi = re.sub(r\"3\", \"b\", Bi)"
   ]
  },
  {
   "cell_type": "code",
   "execution_count": 570,
   "metadata": {},
   "outputs": [
    {
     "name": "stdout",
     "output_type": "stream",
     "text": [
      "(a-b)^2=a^2-2*a*b+b^2\n"
     ]
    }
   ],
   "source": [
    "print(Bi)"
   ]
  },
  {
   "cell_type": "markdown",
   "metadata": {},
   "source": [
    "The above technically is the binomial theorem, but let's see if we can clean it up by deleting asterisks since they aren't necessary."
   ]
  },
  {
   "cell_type": "code",
   "execution_count": 571,
   "metadata": {},
   "outputs": [],
   "source": [
    "#replacing asterisks with no space\n",
    "Bi = (Bi.replace('*', ''))"
   ]
  },
  {
   "cell_type": "code",
   "execution_count": 572,
   "metadata": {},
   "outputs": [
    {
     "name": "stdout",
     "output_type": "stream",
     "text": [
      "(a-b)^2=a^2-2ab+b^2\n"
     ]
    }
   ],
   "source": [
    "#sanity check\n",
    "print(Bi)"
   ]
  },
  {
   "cell_type": "markdown",
   "metadata": {},
   "source": [
    "The above is the binomial theorem."
   ]
  },
  {
   "cell_type": "code",
   "execution_count": null,
   "metadata": {},
   "outputs": [],
   "source": []
  }
 ],
 "metadata": {
  "kernelspec": {
   "display_name": "Python 3",
   "language": "python",
   "name": "python3"
  },
  "language_info": {
   "codemirror_mode": {
    "name": "ipython",
    "version": 3
   },
   "file_extension": ".py",
   "mimetype": "text/x-python",
   "name": "python",
   "nbconvert_exporter": "python",
   "pygments_lexer": "ipython3",
   "version": "3.7.3"
  }
 },
 "nbformat": 4,
 "nbformat_minor": 2
}
