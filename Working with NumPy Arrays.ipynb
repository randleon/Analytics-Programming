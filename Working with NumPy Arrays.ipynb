{
 "cells": [
  {
   "cell_type": "markdown",
   "metadata": {},
   "source": [
    "Get assignment started by importing numpy as np"
   ]
  },
  {
   "cell_type": "code",
   "execution_count": 332,
   "metadata": {},
   "outputs": [],
   "source": [
    "import numpy as np"
   ]
  },
  {
   "cell_type": "markdown",
   "metadata": {},
   "source": [
    "Task one:\n",
    "Write a Python/NumPy code block that finds the distinct between these two arrays\n",
    "\n",
    "a = np.array[(1, 2, 3, 2, 3, 4, 3, 4, 5, 6])\n",
    "b = np.array[(7, 2, 10, 2, 7, 4, 9, 4, 9, 8])\n",
    "\n",
    "Your output should contain only the distinct overlapping values. For example, if a 2 is found in both array a and b, your output should only contain one 2 even if array a contains more than one 2 in it."
   ]
  },
  {
   "cell_type": "code",
   "execution_count": 343,
   "metadata": {},
   "outputs": [
    {
     "ename": "TypeError",
     "evalue": "'list' object is not callable",
     "output_type": "error",
     "traceback": [
      "\u001b[0;31m---------------------------------------------------------------------------\u001b[0m",
      "\u001b[0;31mTypeError\u001b[0m                                 Traceback (most recent call last)",
      "\u001b[0;32m<ipython-input-343-c0c4983cf7a6>\u001b[0m in \u001b[0;36m<module>\u001b[0;34m\u001b[0m\n\u001b[0;32m----> 1\u001b[0;31m \u001b[0ma\u001b[0m \u001b[0;34m=\u001b[0m \u001b[0mnp\u001b[0m\u001b[0;34m.\u001b[0m\u001b[0marray\u001b[0m\u001b[0;34m(\u001b[0m\u001b[0;34m[\u001b[0m\u001b[0;36m1\u001b[0m\u001b[0;34m,\u001b[0m \u001b[0;36m2\u001b[0m\u001b[0;34m,\u001b[0m \u001b[0;36m3\u001b[0m\u001b[0;34m,\u001b[0m \u001b[0;36m2\u001b[0m\u001b[0;34m,\u001b[0m \u001b[0;36m3\u001b[0m\u001b[0;34m,\u001b[0m \u001b[0;36m4\u001b[0m\u001b[0;34m,\u001b[0m \u001b[0;36m3\u001b[0m\u001b[0;34m,\u001b[0m \u001b[0;36m4\u001b[0m\u001b[0;34m,\u001b[0m \u001b[0;36m5\u001b[0m\u001b[0;34m,\u001b[0m \u001b[0;36m6\u001b[0m\u001b[0;34m]\u001b[0m\u001b[0;34m)\u001b[0m\u001b[0;34m\u001b[0m\u001b[0;34m\u001b[0m\u001b[0m\n\u001b[0m",
      "\u001b[0;31mTypeError\u001b[0m: 'list' object is not callable"
     ]
    }
   ],
   "source": [
    "a = np.array([1, 2, 3, 2, 3, 4, 3, 4, 5, 6])"
   ]
  },
  {
   "cell_type": "code",
   "execution_count": 344,
   "metadata": {},
   "outputs": [
    {
     "ename": "TypeError",
     "evalue": "'list' object is not callable",
     "output_type": "error",
     "traceback": [
      "\u001b[0;31m---------------------------------------------------------------------------\u001b[0m",
      "\u001b[0;31mTypeError\u001b[0m                                 Traceback (most recent call last)",
      "\u001b[0;32m<ipython-input-344-d68025b23202>\u001b[0m in \u001b[0;36m<module>\u001b[0;34m\u001b[0m\n\u001b[0;32m----> 1\u001b[0;31m \u001b[0mb\u001b[0m \u001b[0;34m=\u001b[0m \u001b[0mnp\u001b[0m\u001b[0;34m.\u001b[0m\u001b[0marray\u001b[0m\u001b[0;34m(\u001b[0m\u001b[0;34m[\u001b[0m\u001b[0;36m7\u001b[0m\u001b[0;34m,\u001b[0m \u001b[0;36m2\u001b[0m\u001b[0;34m,\u001b[0m \u001b[0;36m10\u001b[0m\u001b[0;34m,\u001b[0m \u001b[0;36m2\u001b[0m\u001b[0;34m,\u001b[0m \u001b[0;36m7\u001b[0m\u001b[0;34m,\u001b[0m \u001b[0;36m4\u001b[0m\u001b[0;34m,\u001b[0m \u001b[0;36m9\u001b[0m\u001b[0;34m,\u001b[0m \u001b[0;36m4\u001b[0m\u001b[0;34m,\u001b[0m \u001b[0;36m9\u001b[0m\u001b[0;34m,\u001b[0m \u001b[0;36m8\u001b[0m\u001b[0;34m]\u001b[0m\u001b[0;34m)\u001b[0m\u001b[0;34m\u001b[0m\u001b[0;34m\u001b[0m\u001b[0m\n\u001b[0m",
      "\u001b[0;31mTypeError\u001b[0m: 'list' object is not callable"
     ]
    }
   ],
   "source": [
    "b = np.array([7, 2, 10, 2, 7, 4, 9, 4, 9, 8])"
   ]
  },
  {
   "cell_type": "code",
   "execution_count": 338,
   "metadata": {},
   "outputs": [
    {
     "data": {
      "text/plain": [
       "'sanity check for array a'"
      ]
     },
     "execution_count": 338,
     "metadata": {},
     "output_type": "execute_result"
    }
   ],
   "source": [
    "a\n",
    "'''sanity check for array a'''"
   ]
  },
  {
   "cell_type": "code",
   "execution_count": 337,
   "metadata": {},
   "outputs": [
    {
     "data": {
      "text/plain": [
       "'sanity check for array b'"
      ]
     },
     "execution_count": 337,
     "metadata": {},
     "output_type": "execute_result"
    }
   ],
   "source": [
    "b\n",
    "'''sanity check for array b'''"
   ]
  },
  {
   "cell_type": "code",
   "execution_count": 58,
   "metadata": {},
   "outputs": [],
   "source": [
    "###Here comes the code"
   ]
  },
  {
   "cell_type": "code",
   "execution_count": 346,
   "metadata": {},
   "outputs": [
    {
     "name": "stdout",
     "output_type": "stream",
     "text": [
      "array is now a list called a_list: \n",
      "[1, 2, 3, 2, 3, 4, 3, 4, 5, 6]\n"
     ]
    },
    {
     "data": {
      "text/plain": [
       "'https://www.w3resource.com/python-exercises/array/python-array-exercise-13.php \\nis how I found out how to turn array into a workable list'"
      ]
     },
     "execution_count": 346,
     "metadata": {},
     "output_type": "execute_result"
    }
   ],
   "source": [
    "from array import *\n",
    "array_num = array('i', [1, 2, 3, 2, 3, 4, 3, 4, 5, 6])\n",
    "print(\"array is now a list called a_list: \")\n",
    "a_list = array_num.tolist()\n",
    "\n",
    "print(a_list)\n",
    "\n",
    "'''found out how to turn an array into a list from this link'''\n",
    "'''https://www.w3resource.com/python-exercises/array/python-array-exercise-13.php \n",
    "is how I found out how to turn array into a workable list'''"
   ]
  },
  {
   "cell_type": "code",
   "execution_count": 61,
   "metadata": {},
   "outputs": [
    {
     "name": "stdout",
     "output_type": "stream",
     "text": [
      "array is now a list called b_list: \n",
      "[7, 2, 10, 2, 7, 4, 9, 4, 9, 8]\n"
     ]
    },
    {
     "data": {
      "text/plain": [
       "'duplicated this action for the second array'"
      ]
     },
     "execution_count": 61,
     "metadata": {},
     "output_type": "execute_result"
    }
   ],
   "source": [
    "from array import *\n",
    "array_num_2 = array('i', [7, 2, 10, 2, 7, 4, 9, 4, 9, 8])\n",
    "print(\"array is now a list called b_list: \")\n",
    "b_list = array_num_2.tolist()\n",
    "\n",
    "print(b_list)\n",
    "\n",
    "'''duplicated this action for the second array'''"
   ]
  },
  {
   "cell_type": "code",
   "execution_count": 62,
   "metadata": {},
   "outputs": [
    {
     "name": "stdout",
     "output_type": "stream",
     "text": [
      "[1, 2, 3, 2, 3, 4, 3, 4, 5, 6]\n",
      "[7, 2, 10, 2, 7, 4, 9, 4, 9, 8]\n"
     ]
    },
    {
     "data": {
      "text/plain": [
       "'sanity check'"
      ]
     },
     "execution_count": 62,
     "metadata": {},
     "output_type": "execute_result"
    }
   ],
   "source": [
    "print(a_list)\n",
    "print(b_list)\n",
    "\n",
    "'''sanity check'''"
   ]
  },
  {
   "cell_type": "code",
   "execution_count": 63,
   "metadata": {},
   "outputs": [
    {
     "name": "stdout",
     "output_type": "stream",
     "text": [
      "{2, 4}\n"
     ]
    },
    {
     "data": {
      "text/plain": [
       "'found the unique values of both arrays!'"
      ]
     },
     "execution_count": 63,
     "metadata": {},
     "output_type": "execute_result"
    }
   ],
   "source": [
    "c = set(a_list) & set(b_list)\n",
    "print(c)\n",
    "\n",
    "'''found the unique values of both arrays!'''"
   ]
  },
  {
   "cell_type": "code",
   "execution_count": null,
   "metadata": {},
   "outputs": [],
   "source": []
  },
  {
   "cell_type": "markdown",
   "metadata": {},
   "source": [
    "Task Two:\n",
    "Create the following 5*3 array using knowledge you have of Python's/NumPy's sequencing functionality so that you do not need to explicitly key in every intger value"
   ]
  },
  {
   "cell_type": "code",
   "execution_count": 324,
   "metadata": {},
   "outputs": [
    {
     "data": {
      "text/plain": [
       "'name a new array using .arange function\\n    start at 1\\n    stop at 15\\n    use 1 as the step between objects\\n    reshape the array to be a 5*3'"
      ]
     },
     "execution_count": 324,
     "metadata": {},
     "output_type": "execute_result"
    }
   ],
   "source": [
    "c = np.arange(start = 1, stop = 16, step = 1).reshape((3,5))\n",
    "\n",
    "'''name a new array using .arange function\n",
    "    start at 1\n",
    "    stop at 15\n",
    "    use 1 as the step between objects\n",
    "    reshape the array to be a 5*3'''\n",
    "\n",
    "\n"
   ]
  },
  {
   "cell_type": "code",
   "execution_count": 325,
   "metadata": {},
   "outputs": [
    {
     "data": {
      "text/plain": [
       "array([[ 1,  2,  3,  4,  5],\n",
       "       [ 6,  7,  8,  9, 10],\n",
       "       [11, 12, 13, 14, 15]])"
      ]
     },
     "execution_count": 325,
     "metadata": {},
     "output_type": "execute_result"
    }
   ],
   "source": [
    "c\n",
    "\n",
    "###testing my array to see if it works"
   ]
  },
  {
   "cell_type": "code",
   "execution_count": 326,
   "metadata": {},
   "outputs": [
    {
     "data": {
      "text/plain": [
       "array([[ 1,  6, 11],\n",
       "       [ 2,  7, 12],\n",
       "       [ 3,  8, 13],\n",
       "       [ 4,  9, 14],\n",
       "       [ 5, 10, 15]])"
      ]
     },
     "execution_count": 326,
     "metadata": {},
     "output_type": "execute_result"
    }
   ],
   "source": [
    "c.T\n",
    "\n",
    "##all I needed to do was switch columns for rows and vice versa using .T!###"
   ]
  },
  {
   "cell_type": "markdown",
   "metadata": {},
   "source": [
    "Task Three: You are given the following two arrays\n",
    "d = np.array([12, 5, 7, 15, 3, 1, 8])\n",
    "e = np.array([14, 6, 3, 11, 19, 12, 5]) \n",
    "\n",
    "Write a Python/NumPy that removes from array d any items that are also present in array e"
   ]
  },
  {
   "cell_type": "code",
   "execution_count": 94,
   "metadata": {},
   "outputs": [],
   "source": [
    "d = np.array([12, 5, 7, 15, 3, 1, 8])\n",
    "e = np.array([14, 6, 3, 11, 19, 12, 5])"
   ]
  },
  {
   "cell_type": "code",
   "execution_count": 101,
   "metadata": {},
   "outputs": [
    {
     "name": "stdout",
     "output_type": "stream",
     "text": [
      "array is now a list called d_list: \n",
      "[12, 5, 7, 15, 3, 1, 8]\n"
     ]
    },
    {
     "data": {
      "text/plain": [
       "'using same method from task 1 to turn first array into list for task 3'"
      ]
     },
     "execution_count": 101,
     "metadata": {},
     "output_type": "execute_result"
    }
   ],
   "source": [
    "from array import *\n",
    "array_num_3 = array('i',[12, 5, 7, 15, 3, 1, 8] )\n",
    "print(\"array is now a list called d_list: \")\n",
    "d_list = array_num_3.tolist()\n",
    "\n",
    "print(d_list)\n",
    "\n",
    "'''using same method from task 1 to turn first array into list for task 3'''"
   ]
  },
  {
   "cell_type": "code",
   "execution_count": 100,
   "metadata": {},
   "outputs": [
    {
     "name": "stdout",
     "output_type": "stream",
     "text": [
      "array is now a list called d_list: \n",
      "[14, 6, 3, 11, 19, 12, 5]\n"
     ]
    },
    {
     "data": {
      "text/plain": [
       "'using same method from task 1 to turn second array into list for task 3'"
      ]
     },
     "execution_count": 100,
     "metadata": {},
     "output_type": "execute_result"
    }
   ],
   "source": [
    "from array import *\n",
    "array_num_4 = array('i', [14, 6, 3, 11, 19, 12, 5] )\n",
    "print(\"array is now a list called d_list: \")\n",
    "e_list = array_num_4.tolist()\n",
    "\n",
    "print(e_list)\n",
    "\n",
    "'''using same method from task 1 to turn second array into list for task 3'''"
   ]
  },
  {
   "cell_type": "code",
   "execution_count": 110,
   "metadata": {},
   "outputs": [
    {
     "name": "stdout",
     "output_type": "stream",
     "text": [
      "[7, 15, 1, 8]\n"
     ]
    },
    {
     "data": {
      "text/plain": [
       "'used a list comprehension to make the desired array'"
      ]
     },
     "execution_count": 110,
     "metadata": {},
     "output_type": "execute_result"
    }
   ],
   "source": [
    "array_f = [x for x in d_list if x not in e_list]\n",
    "print(f)\n",
    "\n",
    "'''used a list comprehension to make the desired array'''"
   ]
  },
  {
   "cell_type": "code",
   "execution_count": 113,
   "metadata": {},
   "outputs": [
    {
     "data": {
      "text/plain": [
       "[7, 15, 1, 8]"
      ]
     },
     "execution_count": 113,
     "metadata": {},
     "output_type": "execute_result"
    }
   ],
   "source": [
    "f\n",
    "#testing to see if my result was an array"
   ]
  },
  {
   "cell_type": "code",
   "execution_count": null,
   "metadata": {},
   "outputs": [],
   "source": []
  },
  {
   "cell_type": "markdown",
   "metadata": {},
   "source": [
    "Task Four:\n",
    "Suppose you have ridden a bicycle from New York City to Key West, Florida. Your bicycle odometer shows the total miles you have travelled thus far, which you make a note of each day with paper and pencil. Your first two entries might be ‘55’ and ‘120’, indicating that you rode your bike 55 miles on day 1 and 65 miles on day 2. Your task is to create a NumPy array wherein you can record the cumulative miles you recorded each day during your trip. Then use your Python skills to show the total miles that you rode each day. Assume the trip took a total of 35 days and included at least 4 non-consecutive days where no cycling was possible due to either weather conditions or personal fatigue/soreness. For the remaining 31 days, you would have covered the entire distance between NYC and Key West. Complete your work within your Jupyter Notebook for this assignment and be sure to include a writeup explaining your approach to this problem, including the ways in which you decided to make use of NumPy."
   ]
  },
  {
   "cell_type": "code",
   "execution_count": 160,
   "metadata": {},
   "outputs": [
    {
     "data": {
      "text/plain": [
       "'***it is 1,547 miles between NYC, NY and Key West, FL***'"
      ]
     },
     "execution_count": 160,
     "metadata": {},
     "output_type": "execute_result"
    }
   ],
   "source": [
    "'''***it is 1,547 miles between NYC, NY and Key West, FL***'''"
   ]
  },
  {
   "cell_type": "code",
   "execution_count": 219,
   "metadata": {},
   "outputs": [
    {
     "data": {
      "text/plain": [
       "'made array that has 35 zero values to fill in with miles biked later'"
      ]
     },
     "execution_count": 219,
     "metadata": {},
     "output_type": "execute_result"
    }
   ],
   "source": [
    "bike_log=np.array =  [0] * 35\n",
    "\n",
    "'''made array that has 35 zero values to fill in with miles biked later'''"
   ]
  },
  {
   "cell_type": "code",
   "execution_count": 220,
   "metadata": {},
   "outputs": [
    {
     "data": {
      "text/plain": [
       "[0,\n",
       " 0,\n",
       " 0,\n",
       " 0,\n",
       " 0,\n",
       " 0,\n",
       " 0,\n",
       " 0,\n",
       " 0,\n",
       " 0,\n",
       " 0,\n",
       " 0,\n",
       " 0,\n",
       " 0,\n",
       " 0,\n",
       " 0,\n",
       " 0,\n",
       " 0,\n",
       " 0,\n",
       " 0,\n",
       " 0,\n",
       " 0,\n",
       " 0,\n",
       " 0,\n",
       " 0,\n",
       " 0,\n",
       " 0,\n",
       " 0,\n",
       " 0,\n",
       " 0,\n",
       " 0,\n",
       " 0,\n",
       " 0,\n",
       " 0,\n",
       " 0]"
      ]
     },
     "execution_count": 220,
     "metadata": {},
     "output_type": "execute_result"
    }
   ],
   "source": [
    "bike_log\n",
    "\n",
    "##sanity check, now this is a list that I can take advantage of because it is mutable##"
   ]
  },
  {
   "cell_type": "code",
   "execution_count": 221,
   "metadata": {},
   "outputs": [
    {
     "data": {
      "text/plain": [
       "[0,\n",
       " 0,\n",
       " 0,\n",
       " 0,\n",
       " 0,\n",
       " 0,\n",
       " 0,\n",
       " 0,\n",
       " 0,\n",
       " 0,\n",
       " 0,\n",
       " 0,\n",
       " 0,\n",
       " 0,\n",
       " 0,\n",
       " 0,\n",
       " 0,\n",
       " 0,\n",
       " 0,\n",
       " 0,\n",
       " 0,\n",
       " 0,\n",
       " 0,\n",
       " 0,\n",
       " 0,\n",
       " 0,\n",
       " 0,\n",
       " 0,\n",
       " 0,\n",
       " 0,\n",
       " 0,\n",
       " 0,\n",
       " 0,\n",
       " 0,\n",
       " 0]"
      ]
     },
     "execution_count": 221,
     "metadata": {},
     "output_type": "execute_result"
    }
   ],
   "source": [
    "list(bike_log)\n",
    "##sanity check"
   ]
  },
  {
   "cell_type": "code",
   "execution_count": 211,
   "metadata": {},
   "outputs": [
    {
     "data": {
      "text/plain": [
       "list"
      ]
     },
     "execution_count": 211,
     "metadata": {},
     "output_type": "execute_result"
    }
   ],
   "source": [
    "type(bike_log)\n",
    "\n",
    "##making sure that \"bike_log\" is indeed a list##"
   ]
  },
  {
   "cell_type": "code",
   "execution_count": 222,
   "metadata": {},
   "outputs": [
    {
     "data": {
      "text/plain": [
       "'just naming some variables, I either want to bike fifty, thirty, twenty, one, or zero miles in a day'"
      ]
     },
     "execution_count": 222,
     "metadata": {},
     "output_type": "execute_result"
    }
   ],
   "source": [
    "r = 50\n",
    "a = 30\n",
    "n = 20\n",
    "d = 1\n",
    "y = 0\n",
    "\n",
    "'''just naming some variables, I either want to bike fifty, thirty, twenty, one, or zero miles in a day'''"
   ]
  },
  {
   "cell_type": "code",
   "execution_count": 228,
   "metadata": {},
   "outputs": [],
   "source": [
    "bike_log[0] = r\n",
    "\n",
    "###with this I'm basically saying that on the first day of my trip, I traveled fifty miles"
   ]
  },
  {
   "cell_type": "code",
   "execution_count": 227,
   "metadata": {},
   "outputs": [
    {
     "name": "stdout",
     "output_type": "stream",
     "text": [
      "[50, 0, 0, 0, 0, 0, 0, 0, 0, 0, 0, 0, 0, 0, 0, 0, 0, 0, 0, 0, 0, 0, 0, 0, 0, 0, 0, 0, 0, 0, 0, 0, 0, 0, 0]\n"
     ]
    }
   ],
   "source": [
    "print(bike_log)\n",
    "\n",
    "##testing to see if my element replacement system works###"
   ]
  },
  {
   "cell_type": "code",
   "execution_count": 233,
   "metadata": {},
   "outputs": [],
   "source": [
    "bike_log[1] = r\n",
    "\n",
    "#testing method"
   ]
  },
  {
   "cell_type": "code",
   "execution_count": 285,
   "metadata": {},
   "outputs": [
    {
     "name": "stdout",
     "output_type": "stream",
     "text": [
      "[50, 1, 1, 3, 0, 1, 0, 11.0, 0, 1, 1, 1, 1, 30, 0, 1, 900, 50, 1, 1, 1, 50, 50, 50, 50, 50, 50, 20, 50, 30, 20, 50, 20, 1, 1]\n"
     ]
    }
   ],
   "source": [
    "print(bike_log)\n",
    "\n",
    "#sanity check"
   ]
  },
  {
   "cell_type": "code",
   "execution_count": 286,
   "metadata": {},
   "outputs": [],
   "source": [
    "bike_log[1] = d\n",
    "bike_log[2] = d\n",
    "bike_log[3] = d+d+d\n",
    "bike_log[4] = y\n",
    "bike_log[5] = d\n",
    "bike_log[6] = y\n",
    "bike_log[7] = (n/2)+d\n",
    "bike_log[8] = y\n",
    "bike_log[9] = d\n",
    "bike_log[10] = d\n",
    "bike_log[11] = d\n",
    "bike_log[12] = d\n",
    "bike_log[13] = a\n",
    "bike_log[14] = y\n",
    "bike_log[15] = d\n",
    "bike_log[16] = a*a\n",
    "bike_log[17] = r\n",
    "bike_log[18] = d\n",
    "bike_log[19] = d\n",
    "bike_log[20] = d\n",
    "bike_log[21] = r\n",
    "bike_log[22] = r\n",
    "bike_log[23] = r\n",
    "bike_log[24] = r\n",
    "bike_log[25] = r\n",
    "bike_log[26] = r\n",
    "bike_log[27] = n\n",
    "bike_log[28] = r\n",
    "bike_log[29] = a\n",
    "bike_log[30] = n\n",
    "bike_log[31] = r\n",
    "bike_log[32] = n\n",
    "bike_log[33] = d\n",
    "bike_log[34] = d\n",
    "\n",
    "##guess who had fun with all of these variables"
   ]
  },
  {
   "cell_type": "code",
   "execution_count": 287,
   "metadata": {},
   "outputs": [
    {
     "data": {
      "text/plain": [
       "1547.0"
      ]
     },
     "execution_count": 287,
     "metadata": {},
     "output_type": "execute_result"
    }
   ],
   "source": [
    "sum(bike_log)\n",
    "\n",
    "#testing if I made it to Key West on my bike according to my odometer"
   ]
  },
  {
   "cell_type": "code",
   "execution_count": 289,
   "metadata": {},
   "outputs": [
    {
     "name": "stdout",
     "output_type": "stream",
     "text": [
      "[50, 1, 1, 3, 0, 1, 0, 11.0, 0, 1, 1, 1, 1, 30, 0, 1, 900, 50, 1, 1, 1, 50, 50, 50, 50, 50, 50, 20, 50, 30, 20, 50, 20, 1, 1]\n"
     ]
    }
   ],
   "source": [
    "print(bike_log)\n",
    "\n",
    "#lol one day I traveled 900 miles via bike#"
   ]
  },
  {
   "cell_type": "code",
   "execution_count": 290,
   "metadata": {},
   "outputs": [],
   "source": [
    "bike_log_array = (bike_log)"
   ]
  },
  {
   "cell_type": "code",
   "execution_count": 291,
   "metadata": {},
   "outputs": [
    {
     "data": {
      "text/plain": [
       "[50,\n",
       " 1,\n",
       " 1,\n",
       " 3,\n",
       " 0,\n",
       " 1,\n",
       " 0,\n",
       " 11.0,\n",
       " 0,\n",
       " 1,\n",
       " 1,\n",
       " 1,\n",
       " 1,\n",
       " 30,\n",
       " 0,\n",
       " 1,\n",
       " 900,\n",
       " 50,\n",
       " 1,\n",
       " 1,\n",
       " 1,\n",
       " 50,\n",
       " 50,\n",
       " 50,\n",
       " 50,\n",
       " 50,\n",
       " 50,\n",
       " 20,\n",
       " 50,\n",
       " 30,\n",
       " 20,\n",
       " 50,\n",
       " 20,\n",
       " 1,\n",
       " 1]"
      ]
     },
     "execution_count": 291,
     "metadata": {},
     "output_type": "execute_result"
    }
   ],
   "source": [
    "bike_log_array\n",
    "\n",
    "#here is my array of miles I travelled every day for 35 days##"
   ]
  },
  {
   "cell_type": "code",
   "execution_count": null,
   "metadata": {},
   "outputs": [],
   "source": []
  },
  {
   "cell_type": "markdown",
   "metadata": {},
   "source": [
    "Task Five:"
   ]
  },
  {
   "cell_type": "markdown",
   "metadata": {},
   "source": [
    "Open the Jupyter Notebook provided to you with this assignment. The first code block within that file will load a small data set from a GitHub repository into a NumPy 2D array. The original source of that data contains an overview of its contents:\n",
    "https://data.cityofnewyork.us/Environment/Water-Consumption-In-The-New-York-City/ia2d-e54m\n",
    "\n",
    "\n",
    "Scroll down to the bottom of that page to access an interactive data viewer that includes the column headings for the data.\n",
    "Using the NumPy array that has been loaded for you in the Jupyter Notebook, answer the following questions using NumPy’s slicing, methods, and functions:\n",
    "\n",
    "\n",
    " What is the maximum yearly NYC consumption of water in millions of gallons per day?\n",
    "\n",
    " How many calendar years are represented within this data set? NumPy's shape command is one way to find out.\n",
    "\n",
    " What is the mean and the standard deviation of the per capita daily water consumption?\n",
    "\n",
    " What is the increase or decrease in population from year to year? Use NumPy's `diff` function to create an array of differences and save that to a variable called \"pop_diff\", then print that variable to the screen.\n",
    "\n",
    "\n"
   ]
  },
  {
   "cell_type": "code",
   "execution_count": 3,
   "metadata": {},
   "outputs": [
    {
     "name": "stderr",
     "output_type": "stream",
     "text": [
      "//anaconda3/lib/python3.7/site-packages/ipykernel_launcher.py:8: FutureWarning: Method .as_matrix will be removed in a future version. Use .values instead.\n",
      "  \n"
     ]
    },
    {
     "data": {
      "text/plain": [
       "numpy.ndarray"
      ]
     },
     "execution_count": 3,
     "metadata": {},
     "output_type": "execute_result"
    }
   ],
   "source": [
    "import pandas as pd\n",
    "import numpy as np\n",
    "\n",
    "# supress scientific notation\n",
    "np.set_printoptions(suppress = True)\n",
    "\n",
    "# read the data file from GitHub and convert to a NumPy ndarray object\n",
    "nyc_water = pd.read_csv('https://raw.githubusercontent.com/jtopor/DAV-5400/master/Week4/Water_Consumption_In_The_New_York_City.csv').as_matrix()\n",
    "\n",
    "# verify you have an ndarray object\n",
    "type(nyc_water)"
   ]
  },
  {
   "cell_type": "markdown",
   "metadata": {},
   "source": [
    "what is the maximum yearly NYC consumption of water in millions of gallons per day?"
   ]
  },
  {
   "cell_type": "code",
   "execution_count": 4,
   "metadata": {},
   "outputs": [
    {
     "name": "stdout",
     "output_type": "stream",
     "text": [
      "[[   1979.  7102100.     1512.      213. ]\n",
      " [   1980.  7071639.     1506.      213. ]\n",
      " [   1981.  7089241.     1309.      185. ]\n",
      " [   1982.  7109105.     1382.      194. ]\n",
      " [   1983.  7181224.     1424.      198. ]\n",
      " [   1984.  7234514.     1465.      203. ]\n",
      " [   1985.  7274054.     1326.      182. ]\n",
      " [   1986.  7319246.     1351.      185. ]\n",
      " [   1987.  7342476.     1447.      197. ]\n",
      " [   1988.  7353719.     1484.      202. ]\n",
      " [   1989.  7344175.     1402.      191. ]\n",
      " [   1990.  7335650.     1424.      194. ]\n",
      " [   1991.  7374501.     1469.      199. ]\n",
      " [   1992.  7428944.     1369.      184. ]\n",
      " [   1993.  7506166.     1368.5     182. ]\n",
      " [   1994.  7570458.     1357.7     179. ]\n",
      " [   1995.  7633040.     1325.7     174. ]\n",
      " [   1996.  7697812.     1297.9     169. ]\n",
      " [   1997.  7773443.     1205.5     155. ]\n",
      " [   1998.  7858259.     1219.5     155. ]\n",
      " [   1999.  7947660.     1237.2     156. ]\n",
      " [   2000.  8008278.     1240.4     155. ]\n",
      " [   2001.  8024963.5    1184.      148. ]\n",
      " [   2002.  8041649.     1135.6     141. ]\n",
      " [   2003.  8058334.5    1093.7     136. ]\n",
      " [   2004.  8075020.     1099.5     136. ]\n",
      " [   2005.  8091705.5    1138.      141. ]\n",
      " [   2006.  8108391.     1069.      132. ]\n",
      " [   2007.  8125076.5    1114.      137. ]\n",
      " [   2008.  8141762.     1098.      135. ]\n",
      " [   2009.  8158447.5    1007.5     123. ]\n",
      " [   2010.  8175133.     1039.      127. ]\n",
      " [   2011.  8284098.     1021.      123. ]\n",
      " [   2012.  8361179.     1009.1     121. ]\n",
      " [   2013.  8422460.     1006.1     119. ]\n",
      " [   2014.  8471990.      996.      118. ]\n",
      " [   2015.  8516502.     1009.      118. ]\n",
      " [   2016.  8537673.     1002.      117. ]\n",
      " [   2017.  8622698.      990.2     115. ]]\n"
     ]
    }
   ],
   "source": [
    "print(nyc_water)\n",
    "\n",
    "#wanted to see what the data looked like!###"
   ]
  },
  {
   "cell_type": "code",
   "execution_count": 5,
   "metadata": {},
   "outputs": [],
   "source": [
    "df1 = pd.read_csv(\"https://raw.githubusercontent.com/jtopor/DAV-5400/master/Week4/Water_Consumption_In_The_New_York_City.csv\")"
   ]
  },
  {
   "cell_type": "code",
   "execution_count": 6,
   "metadata": {},
   "outputs": [
    {
     "data": {
      "text/html": [
       "<div>\n",
       "<style scoped>\n",
       "    .dataframe tbody tr th:only-of-type {\n",
       "        vertical-align: middle;\n",
       "    }\n",
       "\n",
       "    .dataframe tbody tr th {\n",
       "        vertical-align: top;\n",
       "    }\n",
       "\n",
       "    .dataframe thead th {\n",
       "        text-align: right;\n",
       "    }\n",
       "</style>\n",
       "<table border=\"1\" class=\"dataframe\">\n",
       "  <thead>\n",
       "    <tr style=\"text-align: right;\">\n",
       "      <th></th>\n",
       "      <th>Year</th>\n",
       "      <th>New York City Population</th>\n",
       "      <th>NYC Consumption(Million gallons per day)</th>\n",
       "      <th>Per Capita(Gallons per person per day)</th>\n",
       "    </tr>\n",
       "  </thead>\n",
       "  <tbody>\n",
       "    <tr>\n",
       "      <th>0</th>\n",
       "      <td>1979</td>\n",
       "      <td>7102100.0</td>\n",
       "      <td>1512.0</td>\n",
       "      <td>213</td>\n",
       "    </tr>\n",
       "    <tr>\n",
       "      <th>1</th>\n",
       "      <td>1980</td>\n",
       "      <td>7071639.0</td>\n",
       "      <td>1506.0</td>\n",
       "      <td>213</td>\n",
       "    </tr>\n",
       "    <tr>\n",
       "      <th>2</th>\n",
       "      <td>1981</td>\n",
       "      <td>7089241.0</td>\n",
       "      <td>1309.0</td>\n",
       "      <td>185</td>\n",
       "    </tr>\n",
       "    <tr>\n",
       "      <th>3</th>\n",
       "      <td>1982</td>\n",
       "      <td>7109105.0</td>\n",
       "      <td>1382.0</td>\n",
       "      <td>194</td>\n",
       "    </tr>\n",
       "    <tr>\n",
       "      <th>4</th>\n",
       "      <td>1983</td>\n",
       "      <td>7181224.0</td>\n",
       "      <td>1424.0</td>\n",
       "      <td>198</td>\n",
       "    </tr>\n",
       "    <tr>\n",
       "      <th>5</th>\n",
       "      <td>1984</td>\n",
       "      <td>7234514.0</td>\n",
       "      <td>1465.0</td>\n",
       "      <td>203</td>\n",
       "    </tr>\n",
       "    <tr>\n",
       "      <th>6</th>\n",
       "      <td>1985</td>\n",
       "      <td>7274054.0</td>\n",
       "      <td>1326.0</td>\n",
       "      <td>182</td>\n",
       "    </tr>\n",
       "    <tr>\n",
       "      <th>7</th>\n",
       "      <td>1986</td>\n",
       "      <td>7319246.0</td>\n",
       "      <td>1351.0</td>\n",
       "      <td>185</td>\n",
       "    </tr>\n",
       "    <tr>\n",
       "      <th>8</th>\n",
       "      <td>1987</td>\n",
       "      <td>7342476.0</td>\n",
       "      <td>1447.0</td>\n",
       "      <td>197</td>\n",
       "    </tr>\n",
       "    <tr>\n",
       "      <th>9</th>\n",
       "      <td>1988</td>\n",
       "      <td>7353719.0</td>\n",
       "      <td>1484.0</td>\n",
       "      <td>202</td>\n",
       "    </tr>\n",
       "    <tr>\n",
       "      <th>10</th>\n",
       "      <td>1989</td>\n",
       "      <td>7344175.0</td>\n",
       "      <td>1402.0</td>\n",
       "      <td>191</td>\n",
       "    </tr>\n",
       "    <tr>\n",
       "      <th>11</th>\n",
       "      <td>1990</td>\n",
       "      <td>7335650.0</td>\n",
       "      <td>1424.0</td>\n",
       "      <td>194</td>\n",
       "    </tr>\n",
       "    <tr>\n",
       "      <th>12</th>\n",
       "      <td>1991</td>\n",
       "      <td>7374501.0</td>\n",
       "      <td>1469.0</td>\n",
       "      <td>199</td>\n",
       "    </tr>\n",
       "    <tr>\n",
       "      <th>13</th>\n",
       "      <td>1992</td>\n",
       "      <td>7428944.0</td>\n",
       "      <td>1369.0</td>\n",
       "      <td>184</td>\n",
       "    </tr>\n",
       "    <tr>\n",
       "      <th>14</th>\n",
       "      <td>1993</td>\n",
       "      <td>7506166.0</td>\n",
       "      <td>1368.5</td>\n",
       "      <td>182</td>\n",
       "    </tr>\n",
       "    <tr>\n",
       "      <th>15</th>\n",
       "      <td>1994</td>\n",
       "      <td>7570458.0</td>\n",
       "      <td>1357.7</td>\n",
       "      <td>179</td>\n",
       "    </tr>\n",
       "    <tr>\n",
       "      <th>16</th>\n",
       "      <td>1995</td>\n",
       "      <td>7633040.0</td>\n",
       "      <td>1325.7</td>\n",
       "      <td>174</td>\n",
       "    </tr>\n",
       "    <tr>\n",
       "      <th>17</th>\n",
       "      <td>1996</td>\n",
       "      <td>7697812.0</td>\n",
       "      <td>1297.9</td>\n",
       "      <td>169</td>\n",
       "    </tr>\n",
       "    <tr>\n",
       "      <th>18</th>\n",
       "      <td>1997</td>\n",
       "      <td>7773443.0</td>\n",
       "      <td>1205.5</td>\n",
       "      <td>155</td>\n",
       "    </tr>\n",
       "    <tr>\n",
       "      <th>19</th>\n",
       "      <td>1998</td>\n",
       "      <td>7858259.0</td>\n",
       "      <td>1219.5</td>\n",
       "      <td>155</td>\n",
       "    </tr>\n",
       "    <tr>\n",
       "      <th>20</th>\n",
       "      <td>1999</td>\n",
       "      <td>7947660.0</td>\n",
       "      <td>1237.2</td>\n",
       "      <td>156</td>\n",
       "    </tr>\n",
       "    <tr>\n",
       "      <th>21</th>\n",
       "      <td>2000</td>\n",
       "      <td>8008278.0</td>\n",
       "      <td>1240.4</td>\n",
       "      <td>155</td>\n",
       "    </tr>\n",
       "    <tr>\n",
       "      <th>22</th>\n",
       "      <td>2001</td>\n",
       "      <td>8024963.5</td>\n",
       "      <td>1184.0</td>\n",
       "      <td>148</td>\n",
       "    </tr>\n",
       "    <tr>\n",
       "      <th>23</th>\n",
       "      <td>2002</td>\n",
       "      <td>8041649.0</td>\n",
       "      <td>1135.6</td>\n",
       "      <td>141</td>\n",
       "    </tr>\n",
       "    <tr>\n",
       "      <th>24</th>\n",
       "      <td>2003</td>\n",
       "      <td>8058334.5</td>\n",
       "      <td>1093.7</td>\n",
       "      <td>136</td>\n",
       "    </tr>\n",
       "    <tr>\n",
       "      <th>25</th>\n",
       "      <td>2004</td>\n",
       "      <td>8075020.0</td>\n",
       "      <td>1099.5</td>\n",
       "      <td>136</td>\n",
       "    </tr>\n",
       "    <tr>\n",
       "      <th>26</th>\n",
       "      <td>2005</td>\n",
       "      <td>8091705.5</td>\n",
       "      <td>1138.0</td>\n",
       "      <td>141</td>\n",
       "    </tr>\n",
       "    <tr>\n",
       "      <th>27</th>\n",
       "      <td>2006</td>\n",
       "      <td>8108391.0</td>\n",
       "      <td>1069.0</td>\n",
       "      <td>132</td>\n",
       "    </tr>\n",
       "    <tr>\n",
       "      <th>28</th>\n",
       "      <td>2007</td>\n",
       "      <td>8125076.5</td>\n",
       "      <td>1114.0</td>\n",
       "      <td>137</td>\n",
       "    </tr>\n",
       "    <tr>\n",
       "      <th>29</th>\n",
       "      <td>2008</td>\n",
       "      <td>8141762.0</td>\n",
       "      <td>1098.0</td>\n",
       "      <td>135</td>\n",
       "    </tr>\n",
       "    <tr>\n",
       "      <th>30</th>\n",
       "      <td>2009</td>\n",
       "      <td>8158447.5</td>\n",
       "      <td>1007.5</td>\n",
       "      <td>123</td>\n",
       "    </tr>\n",
       "    <tr>\n",
       "      <th>31</th>\n",
       "      <td>2010</td>\n",
       "      <td>8175133.0</td>\n",
       "      <td>1039.0</td>\n",
       "      <td>127</td>\n",
       "    </tr>\n",
       "    <tr>\n",
       "      <th>32</th>\n",
       "      <td>2011</td>\n",
       "      <td>8284098.0</td>\n",
       "      <td>1021.0</td>\n",
       "      <td>123</td>\n",
       "    </tr>\n",
       "    <tr>\n",
       "      <th>33</th>\n",
       "      <td>2012</td>\n",
       "      <td>8361179.0</td>\n",
       "      <td>1009.1</td>\n",
       "      <td>121</td>\n",
       "    </tr>\n",
       "    <tr>\n",
       "      <th>34</th>\n",
       "      <td>2013</td>\n",
       "      <td>8422460.0</td>\n",
       "      <td>1006.1</td>\n",
       "      <td>119</td>\n",
       "    </tr>\n",
       "    <tr>\n",
       "      <th>35</th>\n",
       "      <td>2014</td>\n",
       "      <td>8471990.0</td>\n",
       "      <td>996.0</td>\n",
       "      <td>118</td>\n",
       "    </tr>\n",
       "    <tr>\n",
       "      <th>36</th>\n",
       "      <td>2015</td>\n",
       "      <td>8516502.0</td>\n",
       "      <td>1009.0</td>\n",
       "      <td>118</td>\n",
       "    </tr>\n",
       "    <tr>\n",
       "      <th>37</th>\n",
       "      <td>2016</td>\n",
       "      <td>8537673.0</td>\n",
       "      <td>1002.0</td>\n",
       "      <td>117</td>\n",
       "    </tr>\n",
       "    <tr>\n",
       "      <th>38</th>\n",
       "      <td>2017</td>\n",
       "      <td>8622698.0</td>\n",
       "      <td>990.2</td>\n",
       "      <td>115</td>\n",
       "    </tr>\n",
       "  </tbody>\n",
       "</table>\n",
       "</div>"
      ],
      "text/plain": [
       "    Year  New York City Population  NYC Consumption(Million gallons per day)  \\\n",
       "0   1979                 7102100.0                                    1512.0   \n",
       "1   1980                 7071639.0                                    1506.0   \n",
       "2   1981                 7089241.0                                    1309.0   \n",
       "3   1982                 7109105.0                                    1382.0   \n",
       "4   1983                 7181224.0                                    1424.0   \n",
       "5   1984                 7234514.0                                    1465.0   \n",
       "6   1985                 7274054.0                                    1326.0   \n",
       "7   1986                 7319246.0                                    1351.0   \n",
       "8   1987                 7342476.0                                    1447.0   \n",
       "9   1988                 7353719.0                                    1484.0   \n",
       "10  1989                 7344175.0                                    1402.0   \n",
       "11  1990                 7335650.0                                    1424.0   \n",
       "12  1991                 7374501.0                                    1469.0   \n",
       "13  1992                 7428944.0                                    1369.0   \n",
       "14  1993                 7506166.0                                    1368.5   \n",
       "15  1994                 7570458.0                                    1357.7   \n",
       "16  1995                 7633040.0                                    1325.7   \n",
       "17  1996                 7697812.0                                    1297.9   \n",
       "18  1997                 7773443.0                                    1205.5   \n",
       "19  1998                 7858259.0                                    1219.5   \n",
       "20  1999                 7947660.0                                    1237.2   \n",
       "21  2000                 8008278.0                                    1240.4   \n",
       "22  2001                 8024963.5                                    1184.0   \n",
       "23  2002                 8041649.0                                    1135.6   \n",
       "24  2003                 8058334.5                                    1093.7   \n",
       "25  2004                 8075020.0                                    1099.5   \n",
       "26  2005                 8091705.5                                    1138.0   \n",
       "27  2006                 8108391.0                                    1069.0   \n",
       "28  2007                 8125076.5                                    1114.0   \n",
       "29  2008                 8141762.0                                    1098.0   \n",
       "30  2009                 8158447.5                                    1007.5   \n",
       "31  2010                 8175133.0                                    1039.0   \n",
       "32  2011                 8284098.0                                    1021.0   \n",
       "33  2012                 8361179.0                                    1009.1   \n",
       "34  2013                 8422460.0                                    1006.1   \n",
       "35  2014                 8471990.0                                     996.0   \n",
       "36  2015                 8516502.0                                    1009.0   \n",
       "37  2016                 8537673.0                                    1002.0   \n",
       "38  2017                 8622698.0                                     990.2   \n",
       "\n",
       "    Per Capita(Gallons per person per day)  \n",
       "0                                      213  \n",
       "1                                      213  \n",
       "2                                      185  \n",
       "3                                      194  \n",
       "4                                      198  \n",
       "5                                      203  \n",
       "6                                      182  \n",
       "7                                      185  \n",
       "8                                      197  \n",
       "9                                      202  \n",
       "10                                     191  \n",
       "11                                     194  \n",
       "12                                     199  \n",
       "13                                     184  \n",
       "14                                     182  \n",
       "15                                     179  \n",
       "16                                     174  \n",
       "17                                     169  \n",
       "18                                     155  \n",
       "19                                     155  \n",
       "20                                     156  \n",
       "21                                     155  \n",
       "22                                     148  \n",
       "23                                     141  \n",
       "24                                     136  \n",
       "25                                     136  \n",
       "26                                     141  \n",
       "27                                     132  \n",
       "28                                     137  \n",
       "29                                     135  \n",
       "30                                     123  \n",
       "31                                     127  \n",
       "32                                     123  \n",
       "33                                     121  \n",
       "34                                     119  \n",
       "35                                     118  \n",
       "36                                     118  \n",
       "37                                     117  \n",
       "38                                     115  "
      ]
     },
     "execution_count": 6,
     "metadata": {},
     "output_type": "execute_result"
    }
   ],
   "source": [
    "df1\n",
    "\n",
    "##wanted to make the data look nicer!"
   ]
  },
  {
   "cell_type": "code",
   "execution_count": 5,
   "metadata": {},
   "outputs": [],
   "source": [
    "max_gallons=np.max(nyc_water, axis =0)[2]\n",
    "\n",
    "#used another stackoverflow link to find out how to use np.max\n",
    "#https://stackoverflow.com/questions/33569668/numpy-max-vs-amax-vs-maximum"
   ]
  },
  {
   "cell_type": "markdown",
   "metadata": {},
   "source": [
    "This link helped me find out how to refer to columns or rows in a data set like this!\n",
    "https://stackoverflow.com/questions/22149584/what-does-axis-in-pandas-mean"
   ]
  },
  {
   "cell_type": "code",
   "execution_count": 6,
   "metadata": {},
   "outputs": [
    {
     "name": "stdout",
     "output_type": "stream",
     "text": [
      "1512.0\n"
     ]
    }
   ],
   "source": [
    "print(max_gallons)\n",
    "###max_gallons is an array by which only contains the maximum of the 0th axis (columns in this data set) \n",
    "##and which column (sorted by zero first index)"
   ]
  },
  {
   "cell_type": "markdown",
   "metadata": {},
   "source": [
    "How many calendar years are represented within this data set? (Hint: NumPy's shape command is one way to find this out!)"
   ]
  },
  {
   "cell_type": "code",
   "execution_count": 7,
   "metadata": {},
   "outputs": [
    {
     "data": {
      "text/plain": [
       "(39, 4)"
      ]
     },
     "execution_count": 7,
     "metadata": {},
     "output_type": "execute_result"
    }
   ],
   "source": [
    "nyc_water.shape\n",
    "#this will give me rows by columns"
   ]
  },
  {
   "cell_type": "markdown",
   "metadata": {},
   "source": [
    "The first value returned says '39' therefore if we assume that each row represents a unique year,\n",
    "then that means 39 different years are represented in this data set!"
   ]
  },
  {
   "cell_type": "markdown",
   "metadata": {},
   "source": [
    "What is the mean and standard deviation of the per capita daily water consumption?"
   ]
  },
  {
   "cell_type": "code",
   "execution_count": 8,
   "metadata": {},
   "outputs": [
    {
     "name": "stdout",
     "output_type": "stream",
     "text": [
      "160.30769230769232\n"
     ]
    }
   ],
   "source": [
    "average_per_capita_daily_h20_consumption = np.mean(nyc_water, axis=0)[3]\n",
    "print(average_per_capita_daily_h20_consumption)\n",
    "\n",
    "##found out how to use the np.mean function with this link!\n",
    "##https://www.geeksforgeeks.org/numpy-mean-in-python/"
   ]
  },
  {
   "cell_type": "code",
   "execution_count": 9,
   "metadata": {},
   "outputs": [
    {
     "name": "stdout",
     "output_type": "stream",
     "text": [
      "31.51894330370624\n"
     ]
    }
   ],
   "source": [
    "std_deviation_per_capita_daily_h20_consumption = np.std(nyc_water, axis=0)[3]\n",
    "print(std_deviation_per_capita_daily_h20_consumption)"
   ]
  },
  {
   "cell_type": "markdown",
   "metadata": {},
   "source": [
    "What is the increase or decrease in population for year to year? Use NumPy's \"diff\" function to create an array of differences and save that to a variable called \"pop_diff\" then print that variable to the screen"
   ]
  },
  {
   "cell_type": "code",
   "execution_count": 10,
   "metadata": {},
   "outputs": [
    {
     "name": "stdout",
     "output_type": "stream",
     "text": [
      "[[-30461. ]\n",
      " [ 17602. ]\n",
      " [ 19864. ]\n",
      " [ 72119. ]\n",
      " [ 53290. ]\n",
      " [ 39540. ]\n",
      " [ 45192. ]\n",
      " [ 23230. ]\n",
      " [ 11243. ]\n",
      " [ -9544. ]\n",
      " [ -8525. ]\n",
      " [ 38851. ]\n",
      " [ 54443. ]\n",
      " [ 77222. ]\n",
      " [ 64292. ]\n",
      " [ 62582. ]\n",
      " [ 64772. ]\n",
      " [ 75631. ]\n",
      " [ 84816. ]\n",
      " [ 89401. ]\n",
      " [ 60618. ]\n",
      " [ 16685.5]\n",
      " [ 16685.5]\n",
      " [ 16685.5]\n",
      " [ 16685.5]\n",
      " [ 16685.5]\n",
      " [ 16685.5]\n",
      " [ 16685.5]\n",
      " [ 16685.5]\n",
      " [ 16685.5]\n",
      " [ 16685.5]\n",
      " [108965. ]\n",
      " [ 77081. ]\n",
      " [ 61281. ]\n",
      " [ 49530. ]\n",
      " [ 44512. ]\n",
      " [ 21171. ]\n",
      " [ 85025. ]]\n"
     ]
    }
   ],
   "source": [
    "#make a dummy list to get all of the differences!\n",
    "pop_diff_initial = np.diff(nyc_water, axis=0) \n",
    "\n",
    "#make a new list deleting all of the other columns in the data, haha\n",
    "pop_diff = np.delete(pop_diff_initial, [0, 2, 3], axis=1) \n",
    "\n",
    "#print the new list of just differences in population year by year.\n",
    "print(pop_diff)"
   ]
  },
  {
   "cell_type": "code",
   "execution_count": null,
   "metadata": {},
   "outputs": [],
   "source": []
  }
 ],
 "metadata": {
  "kernelspec": {
   "display_name": "Python 3",
   "language": "python",
   "name": "python3"
  },
  "language_info": {
   "codemirror_mode": {
    "name": "ipython",
    "version": 3
   },
   "file_extension": ".py",
   "mimetype": "text/x-python",
   "name": "python",
   "nbconvert_exporter": "python",
   "pygments_lexer": "ipython3",
   "version": "3.7.3"
  }
 },
 "nbformat": 4,
 "nbformat_minor": 2
}
